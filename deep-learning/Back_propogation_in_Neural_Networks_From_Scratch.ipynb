{
  "nbformat": 4,
  "nbformat_minor": 0,
  "metadata": {
    "colab": {
      "provenance": [],
      "authorship_tag": "ABX9TyM/4H9z5x7tXWuMef7IH2+1",
      "include_colab_link": true
    },
    "kernelspec": {
      "name": "python3",
      "display_name": "Python 3"
    },
    "language_info": {
      "name": "python"
    }
  },
  "cells": [
    {
      "cell_type": "markdown",
      "metadata": {
        "id": "view-in-github",
        "colab_type": "text"
      },
      "source": [
        "<a href=\"https://colab.research.google.com/github/tarang1998/ML-AI-DL/blob/main/deep-learning/Back_propogation_in_Neural_Networks_From_Scratch.ipynb\" target=\"_parent\"><img src=\"https://colab.research.google.com/assets/colab-badge.svg\" alt=\"Open In Colab\"/></a>"
      ]
    },
    {
      "cell_type": "code",
      "source": [
        "import math"
      ],
      "metadata": {
        "id": "s1mm7ULn68kA"
      },
      "execution_count": 47,
      "outputs": []
    },
    {
      "cell_type": "code",
      "execution_count": 73,
      "metadata": {
        "id": "wetK9jD0D7jD"
      },
      "outputs": [],
      "source": [
        "class Value:\n",
        "\n",
        "  def __init__(self,data, _children=(), _op=\"\" , label =\"\"):\n",
        "    self.data = data\n",
        "    self.grad = 0\n",
        "    self._prev = set(_children)\n",
        "    self.label = label\n",
        "    self._op = _op\n",
        "    self._backward = lambda: None\n",
        "\n",
        "  def __repr__(self):\n",
        "    return f\"Value(data={self.data})\"\n",
        "\n",
        "  def __add__(self, other):\n",
        "    other = other if isinstance(other, Value) else Value(other)\n",
        "    out =  Value(self.data + other.data,(self,other),\"+\")\n",
        "    def _backward():\n",
        "      self.grad += 1 * out.grad\n",
        "      other.grad += 1 * out.grad\n",
        "    out._backward = _backward\n",
        "    return out\n",
        "\n",
        "  def __mul__(self, other):\n",
        "    other = other if isinstance(other, Value) else Value(other)\n",
        "    out =  Value(self.data * other.data,  (self,other),\"*\")\n",
        "    def _backward():\n",
        "      self.grad += other.data * out.grad\n",
        "      other.grad += self.data * out.grad\n",
        "    out._backward = _backward\n",
        "    return out\n",
        "\n",
        "  def __rmul__(self, other):\n",
        "    return self * other\n",
        "\n",
        "  def exp(self):\n",
        "    x = self.data\n",
        "    out = Value(math.exp(x), (self, ), 'exp')\n",
        "    def _backward():\n",
        "      self.grad += out.data * out.grad\n",
        "    out._backward = _backward\n",
        "    return out\n",
        "\n",
        "  def __pow__(self, other):\n",
        "    assert isinstance(other, (int, float)), \"only supporting int/float powers for now\"\n",
        "    out = Value(self.data**other, (self,), f'**{other}')\n",
        "    def _backward():\n",
        "      self.grad += other * (self.data ** (other - 1)) * out.grad\n",
        "    out._backward = _backward\n",
        "    return out\n",
        "\n",
        "  def __truediv__(self, other):\n",
        "    return self * other**-1\n",
        "\n",
        "  def __neg__(self):\n",
        "    return self * -1\n",
        "\n",
        "  def __sub__(self, other):\n",
        "    return self + (-other)\n",
        "\n",
        "  def tanh(self):\n",
        "    x = self.data\n",
        "    t = (math.exp(2*x) - 1)/(math.exp(2*x) + 1)\n",
        "    out = Value(t, (self, ), 'tanh')\n",
        "    def backward():\n",
        "      self.grad += (1 - t**2) * out.grad\n",
        "    out._backward = backward\n",
        "    return out\n",
        "\n",
        "  def backward(self):\n",
        "    topo = []\n",
        "    visited = set()\n",
        "\n",
        "    def build_topo(v):\n",
        "      if v not in visited:\n",
        "        visited.add(v)\n",
        "        for child in v._prev:\n",
        "          build_topo(child)\n",
        "        topo.append(v)\n",
        "    build_topo(self)\n",
        "\n",
        "    self.grad = 1\n",
        "    for node in reversed(topo):\n",
        "      node._backward()\n",
        "\n"
      ]
    },
    {
      "cell_type": "code",
      "source": [
        "from graphviz import Digraph\n"
      ],
      "metadata": {
        "id": "mrsBE-YNTtji"
      },
      "execution_count": 49,
      "outputs": []
    },
    {
      "cell_type": "code",
      "source": [
        "def trace(root):\n",
        "    nodes, edges = set(), set()\n",
        "    def build(v):\n",
        "        if v not in nodes:\n",
        "            nodes.add(v)\n",
        "            for child in v._prev:\n",
        "                edges.add((child, v))\n",
        "                build(child)\n",
        "    build(root)\n",
        "    return nodes, edges\n",
        "\n",
        "def draw_dot(root, format='svg', rankdir='LR'):\n",
        "    \"\"\"\n",
        "    format: png | svg | ...\n",
        "    rankdir: TB (top to bottom graph) | LR (left to right)\n",
        "    \"\"\"\n",
        "    assert rankdir in ['LR', 'TB']\n",
        "    nodes, edges = trace(root)\n",
        "    dot = Digraph(format=format, graph_attr={'rankdir': rankdir}) #, node_attr={'rankdir': 'TB'})\n",
        "\n",
        "    for n in nodes:\n",
        "        dot.node(name=str(id(n)), label = \"{ %s | data %.4f | grad %.4f }\" % (n.label, n.data, n.grad), shape='record')\n",
        "        if n._op:\n",
        "            dot.node(name=str(id(n)) + n._op, label=n._op)\n",
        "            dot.edge(str(id(n)) + n._op, str(id(n)))\n",
        "\n",
        "    for n1, n2 in edges:\n",
        "        dot.edge(str(id(n1)), str(id(n2)) + n2._op)\n",
        "\n",
        "    return dot"
      ],
      "metadata": {
        "id": "0B-4JmtoSwQp"
      },
      "execution_count": 50,
      "outputs": []
    },
    {
      "cell_type": "code",
      "source": [
        "# Forward propogation of a mathematical expression\n",
        "\n",
        "a = Value(2, label='a')\n",
        "b = Value(-3, label='b')\n",
        "c = Value(10,label='c')\n",
        "\n",
        "d = a * b\n",
        "d.label = \"d\"\n",
        "\n",
        "e = c + d\n",
        "e.label = \"e\"\n",
        "\n",
        "f = Value(-2, label=\"f\")\n",
        "\n",
        "L = e * f\n",
        "L.label = \"L\"\n",
        "\n"
      ],
      "metadata": {
        "id": "V7JtwA3gSxA0"
      },
      "execution_count": 51,
      "outputs": []
    },
    {
      "cell_type": "code",
      "source": [
        "# Manual Backpropogation of the expression\n",
        "\n",
        "# dL/dL = 1\n",
        "L.grad = 1\n",
        "\n",
        "# L = e * f\n",
        "# dL/df = e\n",
        "f.grad = e.data\n",
        "\n",
        "# L = e * f\n",
        "# dL/de = f\n",
        "e.grad = f.data\n",
        "\n",
        "# e = c + d\n",
        "# de/dc = 1\n",
        "# dL/dc = dL/de * de/dc\n",
        "c.grad = e.grad * 1\n",
        "\n",
        "# e = c + d\n",
        "# de/dd = 1\n",
        "# dL/dd = dL/de * de/dd\n",
        "d.grad = e.grad * 1\n",
        "\n",
        "# d = a * b\n",
        "# dd/da = b\n",
        "# dL/da = dL/dd * dd/da\n",
        "a.grad = d.grad * b.data\n",
        "\n",
        "# d = a * b\n",
        "# dd/db = a\n",
        "# dL/db = dL/dd * dd/db\n",
        "b.grad = d.grad * a.data\n"
      ],
      "metadata": {
        "id": "3T7YBDEeYvoa"
      },
      "execution_count": 52,
      "outputs": []
    },
    {
      "cell_type": "code",
      "source": [
        "draw_dot(L)"
      ],
      "metadata": {
        "colab": {
          "base_uri": "https://localhost:8080/",
          "height": 249
        },
        "id": "m1m8ZF6mXtP5",
        "outputId": "5fef3e53-101f-4e3a-f535-eab1b9b37c85"
      },
      "execution_count": 53,
      "outputs": [
        {
          "output_type": "execute_result",
          "data": {
            "image/svg+xml": "<?xml version=\"1.0\" encoding=\"UTF-8\" standalone=\"no\"?>\n<!DOCTYPE svg PUBLIC \"-//W3C//DTD SVG 1.1//EN\"\n \"http://www.w3.org/Graphics/SVG/1.1/DTD/svg11.dtd\">\n<!-- Generated by graphviz version 2.43.0 (0)\n -->\n<!-- Title: %3 Pages: 1 -->\n<svg width=\"1157pt\" height=\"156pt\"\n viewBox=\"0.00 0.00 1157.00 156.00\" xmlns=\"http://www.w3.org/2000/svg\" xmlns:xlink=\"http://www.w3.org/1999/xlink\">\n<g id=\"graph0\" class=\"graph\" transform=\"scale(1 1) rotate(0) translate(4 152)\">\n<title>%3</title>\n<polygon fill=\"white\" stroke=\"transparent\" points=\"-4,4 -4,-152 1153,-152 1153,4 -4,4\"/>\n<!-- 137076954695760 -->\n<g id=\"node1\" class=\"node\">\n<title>137076954695760</title>\n<polygon fill=\"none\" stroke=\"black\" points=\"4.5,-111.5 4.5,-147.5 189.5,-147.5 189.5,-111.5 4.5,-111.5\"/>\n<text text-anchor=\"middle\" x=\"16\" y=\"-125.8\" font-family=\"Times,serif\" font-size=\"14.00\">a</text>\n<polyline fill=\"none\" stroke=\"black\" points=\"27.5,-111.5 27.5,-147.5 \"/>\n<text text-anchor=\"middle\" x=\"67.5\" y=\"-125.8\" font-family=\"Times,serif\" font-size=\"14.00\">data 2.0000</text>\n<polyline fill=\"none\" stroke=\"black\" points=\"107.5,-111.5 107.5,-147.5 \"/>\n<text text-anchor=\"middle\" x=\"148.5\" y=\"-125.8\" font-family=\"Times,serif\" font-size=\"14.00\">grad 6.0000</text>\n</g>\n<!-- 137076954695440* -->\n<g id=\"node4\" class=\"node\">\n<title>137076954695440*</title>\n<ellipse fill=\"none\" stroke=\"black\" cx=\"257\" cy=\"-101.5\" rx=\"27\" ry=\"18\"/>\n<text text-anchor=\"middle\" x=\"257\" y=\"-97.8\" font-family=\"Times,serif\" font-size=\"14.00\">*</text>\n</g>\n<!-- 137076954695760&#45;&gt;137076954695440* -->\n<g id=\"edge4\" class=\"edge\">\n<title>137076954695760&#45;&gt;137076954695440*</title>\n<path fill=\"none\" stroke=\"black\" d=\"M189.91,-113.21C200.76,-111.29 211.28,-109.43 220.61,-107.77\"/>\n<polygon fill=\"black\" stroke=\"black\" points=\"221.37,-111.19 230.6,-106 220.15,-104.3 221.37,-111.19\"/>\n</g>\n<!-- 137076954694800 -->\n<g id=\"node2\" class=\"node\">\n<title>137076954694800</title>\n<polygon fill=\"none\" stroke=\"black\" points=\"0,-56.5 0,-92.5 194,-92.5 194,-56.5 0,-56.5\"/>\n<text text-anchor=\"middle\" x=\"11.5\" y=\"-70.8\" font-family=\"Times,serif\" font-size=\"14.00\">b</text>\n<polyline fill=\"none\" stroke=\"black\" points=\"23,-56.5 23,-92.5 \"/>\n<text text-anchor=\"middle\" x=\"65.5\" y=\"-70.8\" font-family=\"Times,serif\" font-size=\"14.00\">data &#45;3.0000</text>\n<polyline fill=\"none\" stroke=\"black\" points=\"108,-56.5 108,-92.5 \"/>\n<text text-anchor=\"middle\" x=\"151\" y=\"-70.8\" font-family=\"Times,serif\" font-size=\"14.00\">grad &#45;4.0000</text>\n</g>\n<!-- 137076954694800&#45;&gt;137076954695440* -->\n<g id=\"edge7\" class=\"edge\">\n<title>137076954694800&#45;&gt;137076954695440*</title>\n<path fill=\"none\" stroke=\"black\" d=\"M194.01,-90.91C203.35,-92.5 212.37,-94.04 220.49,-95.43\"/>\n<polygon fill=\"black\" stroke=\"black\" points=\"220.16,-98.93 230.6,-97.16 221.34,-92.03 220.16,-98.93\"/>\n</g>\n<!-- 137076954695440 -->\n<g id=\"node3\" class=\"node\">\n<title>137076954695440</title>\n<polygon fill=\"none\" stroke=\"black\" points=\"321,-83.5 321,-119.5 515,-119.5 515,-83.5 321,-83.5\"/>\n<text text-anchor=\"middle\" x=\"332.5\" y=\"-97.8\" font-family=\"Times,serif\" font-size=\"14.00\">d</text>\n<polyline fill=\"none\" stroke=\"black\" points=\"344,-83.5 344,-119.5 \"/>\n<text text-anchor=\"middle\" x=\"386.5\" y=\"-97.8\" font-family=\"Times,serif\" font-size=\"14.00\">data &#45;6.0000</text>\n<polyline fill=\"none\" stroke=\"black\" points=\"429,-83.5 429,-119.5 \"/>\n<text text-anchor=\"middle\" x=\"472\" y=\"-97.8\" font-family=\"Times,serif\" font-size=\"14.00\">grad &#45;2.0000</text>\n</g>\n<!-- 137076954701264+ -->\n<g id=\"node10\" class=\"node\">\n<title>137076954701264+</title>\n<ellipse fill=\"none\" stroke=\"black\" cx=\"579\" cy=\"-73.5\" rx=\"27\" ry=\"18\"/>\n<text text-anchor=\"middle\" x=\"579\" y=\"-69.8\" font-family=\"Times,serif\" font-size=\"14.00\">+</text>\n</g>\n<!-- 137076954695440&#45;&gt;137076954701264+ -->\n<g id=\"edge6\" class=\"edge\">\n<title>137076954695440&#45;&gt;137076954701264+</title>\n<path fill=\"none\" stroke=\"black\" d=\"M515.16,-84.57C524.82,-82.87 534.13,-81.23 542.49,-79.75\"/>\n<polygon fill=\"black\" stroke=\"black\" points=\"543.3,-83.17 552.54,-77.98 542.08,-76.27 543.3,-83.17\"/>\n</g>\n<!-- 137076954695440*&#45;&gt;137076954695440 -->\n<g id=\"edge1\" class=\"edge\">\n<title>137076954695440*&#45;&gt;137076954695440</title>\n<path fill=\"none\" stroke=\"black\" d=\"M284.26,-101.5C292.05,-101.5 301.1,-101.5 310.75,-101.5\"/>\n<polygon fill=\"black\" stroke=\"black\" points=\"310.99,-105 320.99,-101.5 310.99,-98 310.99,-105\"/>\n</g>\n<!-- 137076954704208 -->\n<g id=\"node5\" class=\"node\">\n<title>137076954704208</title>\n<polygon fill=\"none\" stroke=\"black\" points=\"320,-28.5 320,-64.5 516,-64.5 516,-28.5 320,-28.5\"/>\n<text text-anchor=\"middle\" x=\"331.5\" y=\"-42.8\" font-family=\"Times,serif\" font-size=\"14.00\">c</text>\n<polyline fill=\"none\" stroke=\"black\" points=\"343,-28.5 343,-64.5 \"/>\n<text text-anchor=\"middle\" x=\"386.5\" y=\"-42.8\" font-family=\"Times,serif\" font-size=\"14.00\">data 10.0000</text>\n<polyline fill=\"none\" stroke=\"black\" points=\"430,-28.5 430,-64.5 \"/>\n<text text-anchor=\"middle\" x=\"473\" y=\"-42.8\" font-family=\"Times,serif\" font-size=\"14.00\">grad &#45;2.0000</text>\n</g>\n<!-- 137076954704208&#45;&gt;137076954701264+ -->\n<g id=\"edge5\" class=\"edge\">\n<title>137076954704208&#45;&gt;137076954701264+</title>\n<path fill=\"none\" stroke=\"black\" d=\"M516.07,-62.98C525.42,-64.57 534.43,-66.1 542.55,-67.48\"/>\n<polygon fill=\"black\" stroke=\"black\" points=\"542.21,-70.97 552.65,-69.2 543.38,-64.07 542.21,-70.97\"/>\n</g>\n<!-- 137076954696144 -->\n<g id=\"node6\" class=\"node\">\n<title>137076954696144</title>\n<polygon fill=\"none\" stroke=\"black\" points=\"957,-27.5 957,-63.5 1149,-63.5 1149,-27.5 957,-27.5\"/>\n<text text-anchor=\"middle\" x=\"969.5\" y=\"-41.8\" font-family=\"Times,serif\" font-size=\"14.00\">L</text>\n<polyline fill=\"none\" stroke=\"black\" points=\"982,-27.5 982,-63.5 \"/>\n<text text-anchor=\"middle\" x=\"1024.5\" y=\"-41.8\" font-family=\"Times,serif\" font-size=\"14.00\">data &#45;8.0000</text>\n<polyline fill=\"none\" stroke=\"black\" points=\"1067,-27.5 1067,-63.5 \"/>\n<text text-anchor=\"middle\" x=\"1108\" y=\"-41.8\" font-family=\"Times,serif\" font-size=\"14.00\">grad 1.0000</text>\n</g>\n<!-- 137076954696144* -->\n<g id=\"node7\" class=\"node\">\n<title>137076954696144*</title>\n<ellipse fill=\"none\" stroke=\"black\" cx=\"894\" cy=\"-45.5\" rx=\"27\" ry=\"18\"/>\n<text text-anchor=\"middle\" x=\"894\" y=\"-41.8\" font-family=\"Times,serif\" font-size=\"14.00\">*</text>\n</g>\n<!-- 137076954696144*&#45;&gt;137076954696144 -->\n<g id=\"edge2\" class=\"edge\">\n<title>137076954696144*&#45;&gt;137076954696144</title>\n<path fill=\"none\" stroke=\"black\" d=\"M921.28,-45.5C928.78,-45.5 937.44,-45.5 946.67,-45.5\"/>\n<polygon fill=\"black\" stroke=\"black\" points=\"946.87,-49 956.87,-45.5 946.87,-42 946.87,-49\"/>\n</g>\n<!-- 137076954699152 -->\n<g id=\"node8\" class=\"node\">\n<title>137076954699152</title>\n<polygon fill=\"none\" stroke=\"black\" points=\"642.5,-0.5 642.5,-36.5 830.5,-36.5 830.5,-0.5 642.5,-0.5\"/>\n<text text-anchor=\"middle\" x=\"653\" y=\"-14.8\" font-family=\"Times,serif\" font-size=\"14.00\">f</text>\n<polyline fill=\"none\" stroke=\"black\" points=\"663.5,-0.5 663.5,-36.5 \"/>\n<text text-anchor=\"middle\" x=\"706\" y=\"-14.8\" font-family=\"Times,serif\" font-size=\"14.00\">data &#45;2.0000</text>\n<polyline fill=\"none\" stroke=\"black\" points=\"748.5,-0.5 748.5,-36.5 \"/>\n<text text-anchor=\"middle\" x=\"789.5\" y=\"-14.8\" font-family=\"Times,serif\" font-size=\"14.00\">grad 4.0000</text>\n</g>\n<!-- 137076954699152&#45;&gt;137076954696144* -->\n<g id=\"edge8\" class=\"edge\">\n<title>137076954699152&#45;&gt;137076954696144*</title>\n<path fill=\"none\" stroke=\"black\" d=\"M830.65,-34.67C840.2,-36.33 849.43,-37.93 857.72,-39.37\"/>\n<polygon fill=\"black\" stroke=\"black\" points=\"857.24,-42.84 867.69,-41.11 858.44,-35.95 857.24,-42.84\"/>\n</g>\n<!-- 137076954701264 -->\n<g id=\"node9\" class=\"node\">\n<title>137076954701264</title>\n<polygon fill=\"none\" stroke=\"black\" points=\"642,-55.5 642,-91.5 831,-91.5 831,-55.5 642,-55.5\"/>\n<text text-anchor=\"middle\" x=\"653.5\" y=\"-69.8\" font-family=\"Times,serif\" font-size=\"14.00\">e</text>\n<polyline fill=\"none\" stroke=\"black\" points=\"665,-55.5 665,-91.5 \"/>\n<text text-anchor=\"middle\" x=\"705\" y=\"-69.8\" font-family=\"Times,serif\" font-size=\"14.00\">data 4.0000</text>\n<polyline fill=\"none\" stroke=\"black\" points=\"745,-55.5 745,-91.5 \"/>\n<text text-anchor=\"middle\" x=\"788\" y=\"-69.8\" font-family=\"Times,serif\" font-size=\"14.00\">grad &#45;2.0000</text>\n</g>\n<!-- 137076954701264&#45;&gt;137076954696144* -->\n<g id=\"edge9\" class=\"edge\">\n<title>137076954701264&#45;&gt;137076954696144*</title>\n<path fill=\"none\" stroke=\"black\" d=\"M831.1,-56.65C840.4,-54.97 849.38,-53.35 857.49,-51.89\"/>\n<polygon fill=\"black\" stroke=\"black\" points=\"858.37,-55.29 867.59,-50.07 857.13,-48.4 858.37,-55.29\"/>\n</g>\n<!-- 137076954701264+&#45;&gt;137076954701264 -->\n<g id=\"edge3\" class=\"edge\">\n<title>137076954701264+&#45;&gt;137076954701264</title>\n<path fill=\"none\" stroke=\"black\" d=\"M606.03,-73.5C613.66,-73.5 622.52,-73.5 631.94,-73.5\"/>\n<polygon fill=\"black\" stroke=\"black\" points=\"631.94,-77 641.94,-73.5 631.94,-70 631.94,-77\"/>\n</g>\n</g>\n</svg>\n",
            "text/plain": [
              "<graphviz.graphs.Digraph at 0x7cabb731af10>"
            ]
          },
          "metadata": {},
          "execution_count": 53
        }
      ]
    },
    {
      "cell_type": "code",
      "source": [
        "# Forward propogation of a neural network unit\n",
        "\n",
        "# Inputs\n",
        "x1 = Value(2.0, label='x1')\n",
        "x2 = Value(0.0, label='x2')\n",
        "\n",
        "# Weights\n",
        "w1 = Value(-3.0, label='w1')\n",
        "w2 = Value(1.0, label='w2')\n",
        "\n",
        "# Bias\n",
        "b = Value(6.8813735870195432, label='b')\n",
        "\n",
        "x1w1 = x1 * w1; x1w1.label = 'x1w1'\n",
        "x2w2 = x2 * w2; x2w2.label = 'x2w2'\n",
        "\n",
        "x1w1x2w2 = x1w1 + x2w2; x1w1x2w2.label = 'x1w1 + x2w2'\n",
        "n = x1w1x2w2 + b; n.label = 'n'\n",
        "\n",
        "out = n.tanh(); out.label = 'out'\n",
        "\n"
      ],
      "metadata": {
        "id": "-zJPPH5uixgI"
      },
      "execution_count": 59,
      "outputs": []
    },
    {
      "cell_type": "code",
      "source": [
        "# Manual back propogation of the NN unit\n",
        "\n",
        "# dout/dout = 1\n",
        "out.grad = 1\n",
        "\n",
        "# out = tanh(n)\n",
        "# dtanh(n)/dn = 1 - tanh(n)^2\n",
        "# dout/dn = dtanh(n)/dn = 1 - out^2\n",
        "n.grad = 1 - (out.data ** 2)\n",
        "\n",
        "# n = w1x1 + w2x2 + b\n",
        "# dn/db = 1\n",
        "# dout/dn = 1\n",
        "# dout/db = dout/dn * dn/db = 1 - out^2\n",
        "b.grad = n.grad * 1\n",
        "\n",
        "# dout/d(w1x1+w2x2) = dout/dn * dout/dn = 1 - out^2\n",
        "x1w1x2w2.grad = n.grad * 1\n",
        "\n",
        "# dout/dx1w1 = dout/d(w1x1+w2x2) * d(w1x1+w2x2)/dx1w1\n",
        "# dout/dx2w2 = dout/d(w1x1+w2x2) * d(w1x1+w2x2)/dx2w2\n",
        "x1w1.grad = x1w1x2w2.grad * 1\n",
        "x2w2.grad = x1w1x2w2.grad * 1\n",
        "\n",
        "# dout/x2 = dout/dx2w2 * dx2w2/dx2\n",
        "x2.grad = x2w2.grad * w2.data\n",
        "w2.grad = x2w2.grad * x2.data\n",
        "\n",
        "x1.grad = x1w1.grad * w1.data\n",
        "w1.grad = x1w1.grad * x1.data"
      ],
      "metadata": {
        "id": "6g1oNlqe7nnO"
      },
      "execution_count": 60,
      "outputs": []
    },
    {
      "cell_type": "code",
      "source": [
        "draw_dot(out)\n"
      ],
      "metadata": {
        "colab": {
          "base_uri": "https://localhost:8080/",
          "height": 321
        },
        "id": "lUkxUp9RGhe-",
        "outputId": "3d358c69-2eed-4b46-a95f-f9f64f44a035"
      },
      "execution_count": 61,
      "outputs": [
        {
          "output_type": "execute_result",
          "data": {
            "image/svg+xml": "<?xml version=\"1.0\" encoding=\"UTF-8\" standalone=\"no\"?>\n<!DOCTYPE svg PUBLIC \"-//W3C//DTD SVG 1.1//EN\"\n \"http://www.w3.org/Graphics/SVG/1.1/DTD/svg11.dtd\">\n<!-- Generated by graphviz version 2.43.0 (0)\n -->\n<!-- Title: %3 Pages: 1 -->\n<svg width=\"1566pt\" height=\"210pt\"\n viewBox=\"0.00 0.00 1566.00 210.00\" xmlns=\"http://www.w3.org/2000/svg\" xmlns:xlink=\"http://www.w3.org/1999/xlink\">\n<g id=\"graph0\" class=\"graph\" transform=\"scale(1 1) rotate(0) translate(4 206)\">\n<title>%3</title>\n<polygon fill=\"white\" stroke=\"transparent\" points=\"-4,4 -4,-206 1562,-206 1562,4 -4,4\"/>\n<!-- 137076954735120 -->\n<g id=\"node1\" class=\"node\">\n<title>137076954735120</title>\n<polygon fill=\"none\" stroke=\"black\" points=\"328.5,-55.5 328.5,-91.5 537.5,-91.5 537.5,-55.5 328.5,-55.5\"/>\n<text text-anchor=\"middle\" x=\"352\" y=\"-69.8\" font-family=\"Times,serif\" font-size=\"14.00\">x2w2</text>\n<polyline fill=\"none\" stroke=\"black\" points=\"375.5,-55.5 375.5,-91.5 \"/>\n<text text-anchor=\"middle\" x=\"415.5\" y=\"-69.8\" font-family=\"Times,serif\" font-size=\"14.00\">data 0.0000</text>\n<polyline fill=\"none\" stroke=\"black\" points=\"455.5,-55.5 455.5,-91.5 \"/>\n<text text-anchor=\"middle\" x=\"496.5\" y=\"-69.8\" font-family=\"Times,serif\" font-size=\"14.00\">grad 0.5000</text>\n</g>\n<!-- 137076954726672+ -->\n<g id=\"node9\" class=\"node\">\n<title>137076954726672+</title>\n<ellipse fill=\"none\" stroke=\"black\" cx=\"603\" cy=\"-100.5\" rx=\"27\" ry=\"18\"/>\n<text text-anchor=\"middle\" x=\"603\" y=\"-96.8\" font-family=\"Times,serif\" font-size=\"14.00\">+</text>\n</g>\n<!-- 137076954735120&#45;&gt;137076954726672+ -->\n<g id=\"edge6\" class=\"edge\">\n<title>137076954735120&#45;&gt;137076954726672+</title>\n<path fill=\"none\" stroke=\"black\" d=\"M537.53,-90.14C547.8,-91.79 557.66,-93.37 566.45,-94.79\"/>\n<polygon fill=\"black\" stroke=\"black\" points=\"566.16,-98.28 576.59,-96.42 567.27,-91.37 566.16,-98.28\"/>\n</g>\n<!-- 137076954735120* -->\n<g id=\"node2\" class=\"node\">\n<title>137076954735120*</title>\n<ellipse fill=\"none\" stroke=\"black\" cx=\"263\" cy=\"-73.5\" rx=\"27\" ry=\"18\"/>\n<text text-anchor=\"middle\" x=\"263\" y=\"-69.8\" font-family=\"Times,serif\" font-size=\"14.00\">*</text>\n</g>\n<!-- 137076954735120*&#45;&gt;137076954735120 -->\n<g id=\"edge1\" class=\"edge\">\n<title>137076954735120*&#45;&gt;137076954735120</title>\n<path fill=\"none\" stroke=\"black\" d=\"M290.25,-73.5C298.43,-73.5 308.03,-73.5 318.31,-73.5\"/>\n<polygon fill=\"black\" stroke=\"black\" points=\"318.35,-77 328.35,-73.5 318.35,-70 318.35,-77\"/>\n</g>\n<!-- 137076954732560 -->\n<g id=\"node3\" class=\"node\">\n<title>137076954732560</title>\n<polygon fill=\"none\" stroke=\"black\" points=\"4,-55.5 4,-91.5 196,-91.5 196,-55.5 4,-55.5\"/>\n<text text-anchor=\"middle\" x=\"19\" y=\"-69.8\" font-family=\"Times,serif\" font-size=\"14.00\">x2</text>\n<polyline fill=\"none\" stroke=\"black\" points=\"34,-55.5 34,-91.5 \"/>\n<text text-anchor=\"middle\" x=\"74\" y=\"-69.8\" font-family=\"Times,serif\" font-size=\"14.00\">data 0.0000</text>\n<polyline fill=\"none\" stroke=\"black\" points=\"114,-55.5 114,-91.5 \"/>\n<text text-anchor=\"middle\" x=\"155\" y=\"-69.8\" font-family=\"Times,serif\" font-size=\"14.00\">grad 0.5000</text>\n</g>\n<!-- 137076954732560&#45;&gt;137076954735120* -->\n<g id=\"edge11\" class=\"edge\">\n<title>137076954732560&#45;&gt;137076954735120*</title>\n<path fill=\"none\" stroke=\"black\" d=\"M196.05,-73.5C206.52,-73.5 216.65,-73.5 225.71,-73.5\"/>\n<polygon fill=\"black\" stroke=\"black\" points=\"225.79,-77 235.79,-73.5 225.79,-70 225.79,-77\"/>\n</g>\n<!-- 137076954732688 -->\n<g id=\"node4\" class=\"node\">\n<title>137076954732688</title>\n<polygon fill=\"none\" stroke=\"black\" points=\"326,-110.5 326,-146.5 540,-146.5 540,-110.5 326,-110.5\"/>\n<text text-anchor=\"middle\" x=\"349.5\" y=\"-124.8\" font-family=\"Times,serif\" font-size=\"14.00\">x1w1</text>\n<polyline fill=\"none\" stroke=\"black\" points=\"373,-110.5 373,-146.5 \"/>\n<text text-anchor=\"middle\" x=\"415.5\" y=\"-124.8\" font-family=\"Times,serif\" font-size=\"14.00\">data &#45;6.0000</text>\n<polyline fill=\"none\" stroke=\"black\" points=\"458,-110.5 458,-146.5 \"/>\n<text text-anchor=\"middle\" x=\"499\" y=\"-124.8\" font-family=\"Times,serif\" font-size=\"14.00\">grad 0.5000</text>\n</g>\n<!-- 137076954732688&#45;&gt;137076954726672+ -->\n<g id=\"edge12\" class=\"edge\">\n<title>137076954732688&#45;&gt;137076954726672+</title>\n<path fill=\"none\" stroke=\"black\" d=\"M540.4,-110.77C549.72,-109.21 558.65,-107.72 566.68,-106.39\"/>\n<polygon fill=\"black\" stroke=\"black\" points=\"567.38,-109.82 576.66,-104.72 566.22,-102.91 567.38,-109.82\"/>\n</g>\n<!-- 137076954732688* -->\n<g id=\"node5\" class=\"node\">\n<title>137076954732688*</title>\n<ellipse fill=\"none\" stroke=\"black\" cx=\"263\" cy=\"-128.5\" rx=\"27\" ry=\"18\"/>\n<text text-anchor=\"middle\" x=\"263\" y=\"-124.8\" font-family=\"Times,serif\" font-size=\"14.00\">*</text>\n</g>\n<!-- 137076954732688*&#45;&gt;137076954732688 -->\n<g id=\"edge2\" class=\"edge\">\n<title>137076954732688*&#45;&gt;137076954732688</title>\n<path fill=\"none\" stroke=\"black\" d=\"M290.25,-128.5C297.7,-128.5 306.34,-128.5 315.59,-128.5\"/>\n<polygon fill=\"black\" stroke=\"black\" points=\"315.84,-132 325.84,-128.5 315.84,-125 315.84,-132\"/>\n</g>\n<!-- 137076954738832 -->\n<g id=\"node6\" class=\"node\">\n<title>137076954738832</title>\n<polygon fill=\"none\" stroke=\"black\" points=\"2,-165.5 2,-201.5 198,-201.5 198,-165.5 2,-165.5\"/>\n<text text-anchor=\"middle\" x=\"17\" y=\"-179.8\" font-family=\"Times,serif\" font-size=\"14.00\">x1</text>\n<polyline fill=\"none\" stroke=\"black\" points=\"32,-165.5 32,-201.5 \"/>\n<text text-anchor=\"middle\" x=\"72\" y=\"-179.8\" font-family=\"Times,serif\" font-size=\"14.00\">data 2.0000</text>\n<polyline fill=\"none\" stroke=\"black\" points=\"112,-165.5 112,-201.5 \"/>\n<text text-anchor=\"middle\" x=\"155\" y=\"-179.8\" font-family=\"Times,serif\" font-size=\"14.00\">grad &#45;1.5000</text>\n</g>\n<!-- 137076954738832&#45;&gt;137076954732688* -->\n<g id=\"edge8\" class=\"edge\">\n<title>137076954738832&#45;&gt;137076954732688*</title>\n<path fill=\"none\" stroke=\"black\" d=\"M172.53,-165.44C181.84,-162.67 191.2,-159.67 200,-156.5 210.53,-152.71 221.75,-147.9 231.72,-143.33\"/>\n<polygon fill=\"black\" stroke=\"black\" points=\"233.25,-146.48 240.82,-139.07 230.28,-140.14 233.25,-146.48\"/>\n</g>\n<!-- 137076954729104 -->\n<g id=\"node7\" class=\"node\">\n<title>137076954729104</title>\n<polygon fill=\"none\" stroke=\"black\" points=\"0,-110.5 0,-146.5 200,-146.5 200,-110.5 0,-110.5\"/>\n<text text-anchor=\"middle\" x=\"16.5\" y=\"-124.8\" font-family=\"Times,serif\" font-size=\"14.00\">w1</text>\n<polyline fill=\"none\" stroke=\"black\" points=\"33,-110.5 33,-146.5 \"/>\n<text text-anchor=\"middle\" x=\"75.5\" y=\"-124.8\" font-family=\"Times,serif\" font-size=\"14.00\">data &#45;3.0000</text>\n<polyline fill=\"none\" stroke=\"black\" points=\"118,-110.5 118,-146.5 \"/>\n<text text-anchor=\"middle\" x=\"159\" y=\"-124.8\" font-family=\"Times,serif\" font-size=\"14.00\">grad 1.0000</text>\n</g>\n<!-- 137076954729104&#45;&gt;137076954732688* -->\n<g id=\"edge14\" class=\"edge\">\n<title>137076954729104&#45;&gt;137076954732688*</title>\n<path fill=\"none\" stroke=\"black\" d=\"M200.21,-128.5C209.2,-128.5 217.86,-128.5 225.7,-128.5\"/>\n<polygon fill=\"black\" stroke=\"black\" points=\"225.85,-132 235.85,-128.5 225.85,-125 225.85,-132\"/>\n</g>\n<!-- 137076954726672 -->\n<g id=\"node8\" class=\"node\">\n<title>137076954726672</title>\n<polygon fill=\"none\" stroke=\"black\" points=\"666,-82.5 666,-118.5 925,-118.5 925,-82.5 666,-82.5\"/>\n<text text-anchor=\"middle\" x=\"712\" y=\"-96.8\" font-family=\"Times,serif\" font-size=\"14.00\">x1w1 + x2w2</text>\n<polyline fill=\"none\" stroke=\"black\" points=\"758,-82.5 758,-118.5 \"/>\n<text text-anchor=\"middle\" x=\"800.5\" y=\"-96.8\" font-family=\"Times,serif\" font-size=\"14.00\">data &#45;6.0000</text>\n<polyline fill=\"none\" stroke=\"black\" points=\"843,-82.5 843,-118.5 \"/>\n<text text-anchor=\"middle\" x=\"884\" y=\"-96.8\" font-family=\"Times,serif\" font-size=\"14.00\">grad 0.5000</text>\n</g>\n<!-- 137076954739536+ -->\n<g id=\"node12\" class=\"node\">\n<title>137076954739536+</title>\n<ellipse fill=\"none\" stroke=\"black\" cx=\"988\" cy=\"-127.5\" rx=\"27\" ry=\"18\"/>\n<text text-anchor=\"middle\" x=\"988\" y=\"-123.8\" font-family=\"Times,serif\" font-size=\"14.00\">+</text>\n</g>\n<!-- 137076954726672&#45;&gt;137076954739536+ -->\n<g id=\"edge9\" class=\"edge\">\n<title>137076954726672&#45;&gt;137076954739536+</title>\n<path fill=\"none\" stroke=\"black\" d=\"M923.57,-118.51C933.55,-119.92 943,-121.26 951.42,-122.46\"/>\n<polygon fill=\"black\" stroke=\"black\" points=\"951.09,-125.95 961.48,-123.88 952.07,-119.01 951.09,-125.95\"/>\n</g>\n<!-- 137076954726672+&#45;&gt;137076954726672 -->\n<g id=\"edge3\" class=\"edge\">\n<title>137076954726672+&#45;&gt;137076954726672</title>\n<path fill=\"none\" stroke=\"black\" d=\"M630.09,-100.5C637.58,-100.5 646.3,-100.5 655.75,-100.5\"/>\n<polygon fill=\"black\" stroke=\"black\" points=\"655.84,-104 665.84,-100.5 655.84,-97 655.84,-104\"/>\n</g>\n<!-- 137076954742032 -->\n<g id=\"node10\" class=\"node\">\n<title>137076954742032</title>\n<polygon fill=\"none\" stroke=\"black\" points=\"2.5,-0.5 2.5,-36.5 197.5,-36.5 197.5,-0.5 2.5,-0.5\"/>\n<text text-anchor=\"middle\" x=\"19\" y=\"-14.8\" font-family=\"Times,serif\" font-size=\"14.00\">w2</text>\n<polyline fill=\"none\" stroke=\"black\" points=\"35.5,-0.5 35.5,-36.5 \"/>\n<text text-anchor=\"middle\" x=\"75.5\" y=\"-14.8\" font-family=\"Times,serif\" font-size=\"14.00\">data 1.0000</text>\n<polyline fill=\"none\" stroke=\"black\" points=\"115.5,-0.5 115.5,-36.5 \"/>\n<text text-anchor=\"middle\" x=\"156.5\" y=\"-14.8\" font-family=\"Times,serif\" font-size=\"14.00\">grad 0.0000</text>\n</g>\n<!-- 137076954742032&#45;&gt;137076954735120* -->\n<g id=\"edge7\" class=\"edge\">\n<title>137076954742032&#45;&gt;137076954735120*</title>\n<path fill=\"none\" stroke=\"black\" d=\"M169.28,-36.5C179.65,-39.61 190.16,-42.98 200,-46.5 210.28,-50.17 221.28,-54.74 231.11,-59.07\"/>\n<polygon fill=\"black\" stroke=\"black\" points=\"229.93,-62.37 240.48,-63.27 232.79,-55.99 229.93,-62.37\"/>\n</g>\n<!-- 137076954739536 -->\n<g id=\"node11\" class=\"node\">\n<title>137076954739536</title>\n<polygon fill=\"none\" stroke=\"black\" points=\"1051,-109.5 1051,-145.5 1236,-145.5 1236,-109.5 1051,-109.5\"/>\n<text text-anchor=\"middle\" x=\"1062.5\" y=\"-123.8\" font-family=\"Times,serif\" font-size=\"14.00\">n</text>\n<polyline fill=\"none\" stroke=\"black\" points=\"1074,-109.5 1074,-145.5 \"/>\n<text text-anchor=\"middle\" x=\"1114\" y=\"-123.8\" font-family=\"Times,serif\" font-size=\"14.00\">data 0.8814</text>\n<polyline fill=\"none\" stroke=\"black\" points=\"1154,-109.5 1154,-145.5 \"/>\n<text text-anchor=\"middle\" x=\"1195\" y=\"-123.8\" font-family=\"Times,serif\" font-size=\"14.00\">grad 0.5000</text>\n</g>\n<!-- 137076954740048tanh -->\n<g id=\"node14\" class=\"node\">\n<title>137076954740048tanh</title>\n<ellipse fill=\"none\" stroke=\"black\" cx=\"1299\" cy=\"-127.5\" rx=\"27\" ry=\"18\"/>\n<text text-anchor=\"middle\" x=\"1299\" y=\"-123.8\" font-family=\"Times,serif\" font-size=\"14.00\">tanh</text>\n</g>\n<!-- 137076954739536&#45;&gt;137076954740048tanh -->\n<g id=\"edge13\" class=\"edge\">\n<title>137076954739536&#45;&gt;137076954740048tanh</title>\n<path fill=\"none\" stroke=\"black\" d=\"M1236.01,-127.5C1245.01,-127.5 1253.74,-127.5 1261.66,-127.5\"/>\n<polygon fill=\"black\" stroke=\"black\" points=\"1261.91,-131 1271.91,-127.5 1261.91,-124 1261.91,-131\"/>\n</g>\n<!-- 137076954739536+&#45;&gt;137076954739536 -->\n<g id=\"edge4\" class=\"edge\">\n<title>137076954739536+&#45;&gt;137076954739536</title>\n<path fill=\"none\" stroke=\"black\" d=\"M1015.04,-127.5C1022.58,-127.5 1031.3,-127.5 1040.57,-127.5\"/>\n<polygon fill=\"black\" stroke=\"black\" points=\"1040.81,-131 1050.81,-127.5 1040.81,-124 1040.81,-131\"/>\n</g>\n<!-- 137076954740048 -->\n<g id=\"node13\" class=\"node\">\n<title>137076954740048</title>\n<polygon fill=\"none\" stroke=\"black\" points=\"1362,-109.5 1362,-145.5 1558,-145.5 1558,-109.5 1362,-109.5\"/>\n<text text-anchor=\"middle\" x=\"1379\" y=\"-123.8\" font-family=\"Times,serif\" font-size=\"14.00\">out</text>\n<polyline fill=\"none\" stroke=\"black\" points=\"1396,-109.5 1396,-145.5 \"/>\n<text text-anchor=\"middle\" x=\"1436\" y=\"-123.8\" font-family=\"Times,serif\" font-size=\"14.00\">data 0.7071</text>\n<polyline fill=\"none\" stroke=\"black\" points=\"1476,-109.5 1476,-145.5 \"/>\n<text text-anchor=\"middle\" x=\"1517\" y=\"-123.8\" font-family=\"Times,serif\" font-size=\"14.00\">grad 1.0000</text>\n</g>\n<!-- 137076954740048tanh&#45;&gt;137076954740048 -->\n<g id=\"edge5\" class=\"edge\">\n<title>137076954740048tanh&#45;&gt;137076954740048</title>\n<path fill=\"none\" stroke=\"black\" d=\"M1326.26,-127.5C1333.77,-127.5 1342.46,-127.5 1351.72,-127.5\"/>\n<polygon fill=\"black\" stroke=\"black\" points=\"1351.97,-131 1361.97,-127.5 1351.97,-124 1351.97,-131\"/>\n</g>\n<!-- 137076954730832 -->\n<g id=\"node15\" class=\"node\">\n<title>137076954730832</title>\n<polygon fill=\"none\" stroke=\"black\" points=\"703,-137.5 703,-173.5 888,-173.5 888,-137.5 703,-137.5\"/>\n<text text-anchor=\"middle\" x=\"714.5\" y=\"-151.8\" font-family=\"Times,serif\" font-size=\"14.00\">b</text>\n<polyline fill=\"none\" stroke=\"black\" points=\"726,-137.5 726,-173.5 \"/>\n<text text-anchor=\"middle\" x=\"766\" y=\"-151.8\" font-family=\"Times,serif\" font-size=\"14.00\">data 6.8814</text>\n<polyline fill=\"none\" stroke=\"black\" points=\"806,-137.5 806,-173.5 \"/>\n<text text-anchor=\"middle\" x=\"847\" y=\"-151.8\" font-family=\"Times,serif\" font-size=\"14.00\">grad 0.5000</text>\n</g>\n<!-- 137076954730832&#45;&gt;137076954739536+ -->\n<g id=\"edge10\" class=\"edge\">\n<title>137076954730832&#45;&gt;137076954739536+</title>\n<path fill=\"none\" stroke=\"black\" d=\"M888.12,-142.03C910.59,-138.73 933.33,-135.39 951.33,-132.74\"/>\n<polygon fill=\"black\" stroke=\"black\" points=\"951.96,-136.19 961.34,-131.27 950.94,-129.26 951.96,-136.19\"/>\n</g>\n</g>\n</svg>\n",
            "text/plain": [
              "<graphviz.graphs.Digraph at 0x7cabdf1d6150>"
            ]
          },
          "metadata": {},
          "execution_count": 61
        }
      ]
    },
    {
      "cell_type": "code",
      "source": [
        "# Forward propogation of a neural network unit\n",
        "\n",
        "# Inputs\n",
        "x1 = Value(2.0, label='x1')\n",
        "x2 = Value(0.0, label='x2')\n",
        "\n",
        "# Weights\n",
        "w1 = Value(-3.0, label='w1')\n",
        "w2 = Value(1.0, label='w2')\n",
        "\n",
        "# Bias\n",
        "b = Value(6.8813735870195432, label='b')\n",
        "\n",
        "x1w1 = x1 * w1; x1w1.label = 'x1w1'\n",
        "x2w2 = x2 * w2; x2w2.label = 'x2w2'\n",
        "\n",
        "x1w1x2w2 = x1w1 + x2w2; x1w1x2w2.label = 'x1w1 + x2w2'\n",
        "n = x1w1x2w2 + b; n.label = 'n'\n",
        "\n",
        "out = n.tanh(); out.label = 'out'"
      ],
      "metadata": {
        "id": "VbIquQqfNhcC"
      },
      "execution_count": 62,
      "outputs": []
    },
    {
      "cell_type": "code",
      "source": [
        "# Backward propogation of the NN unit calling each objects backward function\n",
        "# Which assigns a grad value to its children\n",
        "\n",
        "out.grad = 1\n",
        "out._backward()\n",
        "\n",
        "n._backward()\n",
        "\n",
        "x1w1x2w2._backward()\n",
        "b._backward()\n",
        "\n",
        "x1w1._backward()\n",
        "x2w2._backward()\n",
        "\n",
        "x2._backward()\n",
        "w2._backward()\n",
        "\n",
        "x1._backward()\n",
        "w1._backward()\n",
        "\n",
        "draw_dot(out)\n",
        "\n",
        ""
      ],
      "metadata": {
        "colab": {
          "base_uri": "https://localhost:8080/",
          "height": 321
        },
        "id": "ZJte-EP2KOjr",
        "outputId": "f1adf9b8-c64d-47d1-ac9d-34d456a53c97"
      },
      "execution_count": 63,
      "outputs": [
        {
          "output_type": "execute_result",
          "data": {
            "image/svg+xml": "<?xml version=\"1.0\" encoding=\"UTF-8\" standalone=\"no\"?>\n<!DOCTYPE svg PUBLIC \"-//W3C//DTD SVG 1.1//EN\"\n \"http://www.w3.org/Graphics/SVG/1.1/DTD/svg11.dtd\">\n<!-- Generated by graphviz version 2.43.0 (0)\n -->\n<!-- Title: %3 Pages: 1 -->\n<svg width=\"1566pt\" height=\"210pt\"\n viewBox=\"0.00 0.00 1566.00 210.00\" xmlns=\"http://www.w3.org/2000/svg\" xmlns:xlink=\"http://www.w3.org/1999/xlink\">\n<g id=\"graph0\" class=\"graph\" transform=\"scale(1 1) rotate(0) translate(4 206)\">\n<title>%3</title>\n<polygon fill=\"white\" stroke=\"transparent\" points=\"-4,4 -4,-206 1562,-206 1562,4 -4,4\"/>\n<!-- 137076953061904 -->\n<g id=\"node1\" class=\"node\">\n<title>137076953061904</title>\n<polygon fill=\"none\" stroke=\"black\" points=\"1362,-54.5 1362,-90.5 1558,-90.5 1558,-54.5 1362,-54.5\"/>\n<text text-anchor=\"middle\" x=\"1379\" y=\"-68.8\" font-family=\"Times,serif\" font-size=\"14.00\">out</text>\n<polyline fill=\"none\" stroke=\"black\" points=\"1396,-54.5 1396,-90.5 \"/>\n<text text-anchor=\"middle\" x=\"1436\" y=\"-68.8\" font-family=\"Times,serif\" font-size=\"14.00\">data 0.7071</text>\n<polyline fill=\"none\" stroke=\"black\" points=\"1476,-54.5 1476,-90.5 \"/>\n<text text-anchor=\"middle\" x=\"1517\" y=\"-68.8\" font-family=\"Times,serif\" font-size=\"14.00\">grad 1.0000</text>\n</g>\n<!-- 137076953061904tanh -->\n<g id=\"node2\" class=\"node\">\n<title>137076953061904tanh</title>\n<ellipse fill=\"none\" stroke=\"black\" cx=\"1299\" cy=\"-72.5\" rx=\"27\" ry=\"18\"/>\n<text text-anchor=\"middle\" x=\"1299\" y=\"-68.8\" font-family=\"Times,serif\" font-size=\"14.00\">tanh</text>\n</g>\n<!-- 137076953061904tanh&#45;&gt;137076953061904 -->\n<g id=\"edge1\" class=\"edge\">\n<title>137076953061904tanh&#45;&gt;137076953061904</title>\n<path fill=\"none\" stroke=\"black\" d=\"M1326.26,-72.5C1333.77,-72.5 1342.46,-72.5 1351.72,-72.5\"/>\n<polygon fill=\"black\" stroke=\"black\" points=\"1351.97,-76 1361.97,-72.5 1351.97,-69 1351.97,-76\"/>\n</g>\n<!-- 137076958170128 -->\n<g id=\"node3\" class=\"node\">\n<title>137076958170128</title>\n<polygon fill=\"none\" stroke=\"black\" points=\"328.5,-110.5 328.5,-146.5 537.5,-146.5 537.5,-110.5 328.5,-110.5\"/>\n<text text-anchor=\"middle\" x=\"352\" y=\"-124.8\" font-family=\"Times,serif\" font-size=\"14.00\">x2w2</text>\n<polyline fill=\"none\" stroke=\"black\" points=\"375.5,-110.5 375.5,-146.5 \"/>\n<text text-anchor=\"middle\" x=\"415.5\" y=\"-124.8\" font-family=\"Times,serif\" font-size=\"14.00\">data 0.0000</text>\n<polyline fill=\"none\" stroke=\"black\" points=\"455.5,-110.5 455.5,-146.5 \"/>\n<text text-anchor=\"middle\" x=\"496.5\" y=\"-124.8\" font-family=\"Times,serif\" font-size=\"14.00\">grad 0.5000</text>\n</g>\n<!-- 137076958168208+ -->\n<g id=\"node8\" class=\"node\">\n<title>137076958168208+</title>\n<ellipse fill=\"none\" stroke=\"black\" cx=\"603\" cy=\"-100.5\" rx=\"27\" ry=\"18\"/>\n<text text-anchor=\"middle\" x=\"603\" y=\"-96.8\" font-family=\"Times,serif\" font-size=\"14.00\">+</text>\n</g>\n<!-- 137076958170128&#45;&gt;137076958168208+ -->\n<g id=\"edge8\" class=\"edge\">\n<title>137076958170128&#45;&gt;137076958168208+</title>\n<path fill=\"none\" stroke=\"black\" d=\"M537.53,-111.25C547.8,-109.53 557.66,-107.89 566.45,-106.43\"/>\n<polygon fill=\"black\" stroke=\"black\" points=\"567.3,-109.83 576.59,-104.74 566.15,-102.93 567.3,-109.83\"/>\n</g>\n<!-- 137076958170128* -->\n<g id=\"node4\" class=\"node\">\n<title>137076958170128*</title>\n<ellipse fill=\"none\" stroke=\"black\" cx=\"263\" cy=\"-128.5\" rx=\"27\" ry=\"18\"/>\n<text text-anchor=\"middle\" x=\"263\" y=\"-124.8\" font-family=\"Times,serif\" font-size=\"14.00\">*</text>\n</g>\n<!-- 137076958170128*&#45;&gt;137076958170128 -->\n<g id=\"edge2\" class=\"edge\">\n<title>137076958170128*&#45;&gt;137076958170128</title>\n<path fill=\"none\" stroke=\"black\" d=\"M290.25,-128.5C298.43,-128.5 308.03,-128.5 318.31,-128.5\"/>\n<polygon fill=\"black\" stroke=\"black\" points=\"318.35,-132 328.35,-128.5 318.35,-125 318.35,-132\"/>\n</g>\n<!-- 137077063725072 -->\n<g id=\"node5\" class=\"node\">\n<title>137077063725072</title>\n<polygon fill=\"none\" stroke=\"black\" points=\"1051,-54.5 1051,-90.5 1236,-90.5 1236,-54.5 1051,-54.5\"/>\n<text text-anchor=\"middle\" x=\"1062.5\" y=\"-68.8\" font-family=\"Times,serif\" font-size=\"14.00\">n</text>\n<polyline fill=\"none\" stroke=\"black\" points=\"1074,-54.5 1074,-90.5 \"/>\n<text text-anchor=\"middle\" x=\"1114\" y=\"-68.8\" font-family=\"Times,serif\" font-size=\"14.00\">data 0.8814</text>\n<polyline fill=\"none\" stroke=\"black\" points=\"1154,-54.5 1154,-90.5 \"/>\n<text text-anchor=\"middle\" x=\"1195\" y=\"-68.8\" font-family=\"Times,serif\" font-size=\"14.00\">grad 0.5000</text>\n</g>\n<!-- 137077063725072&#45;&gt;137076953061904tanh -->\n<g id=\"edge7\" class=\"edge\">\n<title>137077063725072&#45;&gt;137076953061904tanh</title>\n<path fill=\"none\" stroke=\"black\" d=\"M1236.01,-72.5C1245.01,-72.5 1253.74,-72.5 1261.66,-72.5\"/>\n<polygon fill=\"black\" stroke=\"black\" points=\"1261.91,-76 1271.91,-72.5 1261.91,-69 1261.91,-76\"/>\n</g>\n<!-- 137077063725072+ -->\n<g id=\"node6\" class=\"node\">\n<title>137077063725072+</title>\n<ellipse fill=\"none\" stroke=\"black\" cx=\"988\" cy=\"-72.5\" rx=\"27\" ry=\"18\"/>\n<text text-anchor=\"middle\" x=\"988\" y=\"-68.8\" font-family=\"Times,serif\" font-size=\"14.00\">+</text>\n</g>\n<!-- 137077063725072+&#45;&gt;137077063725072 -->\n<g id=\"edge3\" class=\"edge\">\n<title>137077063725072+&#45;&gt;137077063725072</title>\n<path fill=\"none\" stroke=\"black\" d=\"M1015.04,-72.5C1022.58,-72.5 1031.3,-72.5 1040.57,-72.5\"/>\n<polygon fill=\"black\" stroke=\"black\" points=\"1040.81,-76 1050.81,-72.5 1040.81,-69 1040.81,-76\"/>\n</g>\n<!-- 137076958168208 -->\n<g id=\"node7\" class=\"node\">\n<title>137076958168208</title>\n<polygon fill=\"none\" stroke=\"black\" points=\"666,-82.5 666,-118.5 925,-118.5 925,-82.5 666,-82.5\"/>\n<text text-anchor=\"middle\" x=\"712\" y=\"-96.8\" font-family=\"Times,serif\" font-size=\"14.00\">x1w1 + x2w2</text>\n<polyline fill=\"none\" stroke=\"black\" points=\"758,-82.5 758,-118.5 \"/>\n<text text-anchor=\"middle\" x=\"800.5\" y=\"-96.8\" font-family=\"Times,serif\" font-size=\"14.00\">data &#45;6.0000</text>\n<polyline fill=\"none\" stroke=\"black\" points=\"843,-82.5 843,-118.5 \"/>\n<text text-anchor=\"middle\" x=\"884\" y=\"-96.8\" font-family=\"Times,serif\" font-size=\"14.00\">grad 0.5000</text>\n</g>\n<!-- 137076958168208&#45;&gt;137077063725072+ -->\n<g id=\"edge14\" class=\"edge\">\n<title>137076958168208&#45;&gt;137077063725072+</title>\n<path fill=\"none\" stroke=\"black\" d=\"M919.03,-82.49C930.7,-80.77 941.77,-79.15 951.46,-77.72\"/>\n<polygon fill=\"black\" stroke=\"black\" points=\"952.01,-81.18 961.4,-76.26 951,-74.25 952.01,-81.18\"/>\n</g>\n<!-- 137076958168208+&#45;&gt;137076958168208 -->\n<g id=\"edge4\" class=\"edge\">\n<title>137076958168208+&#45;&gt;137076958168208</title>\n<path fill=\"none\" stroke=\"black\" d=\"M630.09,-100.5C637.58,-100.5 646.3,-100.5 655.75,-100.5\"/>\n<polygon fill=\"black\" stroke=\"black\" points=\"655.84,-104 665.84,-100.5 655.84,-97 655.84,-104\"/>\n</g>\n<!-- 137077038495440 -->\n<g id=\"node9\" class=\"node\">\n<title>137077038495440</title>\n<polygon fill=\"none\" stroke=\"black\" points=\"4,-165.5 4,-201.5 196,-201.5 196,-165.5 4,-165.5\"/>\n<text text-anchor=\"middle\" x=\"19\" y=\"-179.8\" font-family=\"Times,serif\" font-size=\"14.00\">x2</text>\n<polyline fill=\"none\" stroke=\"black\" points=\"34,-165.5 34,-201.5 \"/>\n<text text-anchor=\"middle\" x=\"74\" y=\"-179.8\" font-family=\"Times,serif\" font-size=\"14.00\">data 0.0000</text>\n<polyline fill=\"none\" stroke=\"black\" points=\"114,-165.5 114,-201.5 \"/>\n<text text-anchor=\"middle\" x=\"155\" y=\"-179.8\" font-family=\"Times,serif\" font-size=\"14.00\">grad 0.5000</text>\n</g>\n<!-- 137077038495440&#45;&gt;137076958170128* -->\n<g id=\"edge12\" class=\"edge\">\n<title>137077038495440&#45;&gt;137076958170128*</title>\n<path fill=\"none\" stroke=\"black\" d=\"M172.53,-165.44C181.84,-162.67 191.2,-159.67 200,-156.5 210.53,-152.71 221.75,-147.9 231.72,-143.33\"/>\n<polygon fill=\"black\" stroke=\"black\" points=\"233.25,-146.48 240.82,-139.07 230.28,-140.14 233.25,-146.48\"/>\n</g>\n<!-- 137077073525008 -->\n<g id=\"node10\" class=\"node\">\n<title>137077073525008</title>\n<polygon fill=\"none\" stroke=\"black\" points=\"2.5,-110.5 2.5,-146.5 197.5,-146.5 197.5,-110.5 2.5,-110.5\"/>\n<text text-anchor=\"middle\" x=\"19\" y=\"-124.8\" font-family=\"Times,serif\" font-size=\"14.00\">w2</text>\n<polyline fill=\"none\" stroke=\"black\" points=\"35.5,-110.5 35.5,-146.5 \"/>\n<text text-anchor=\"middle\" x=\"75.5\" y=\"-124.8\" font-family=\"Times,serif\" font-size=\"14.00\">data 1.0000</text>\n<polyline fill=\"none\" stroke=\"black\" points=\"115.5,-110.5 115.5,-146.5 \"/>\n<text text-anchor=\"middle\" x=\"156.5\" y=\"-124.8\" font-family=\"Times,serif\" font-size=\"14.00\">grad 0.0000</text>\n</g>\n<!-- 137077073525008&#45;&gt;137076958170128* -->\n<g id=\"edge11\" class=\"edge\">\n<title>137077073525008&#45;&gt;137076958170128*</title>\n<path fill=\"none\" stroke=\"black\" d=\"M197.91,-128.5C207.65,-128.5 217.05,-128.5 225.52,-128.5\"/>\n<polygon fill=\"black\" stroke=\"black\" points=\"225.7,-132 235.7,-128.5 225.7,-125 225.7,-132\"/>\n</g>\n<!-- 137077046832976 -->\n<g id=\"node11\" class=\"node\">\n<title>137077046832976</title>\n<polygon fill=\"none\" stroke=\"black\" points=\"326,-55.5 326,-91.5 540,-91.5 540,-55.5 326,-55.5\"/>\n<text text-anchor=\"middle\" x=\"349.5\" y=\"-69.8\" font-family=\"Times,serif\" font-size=\"14.00\">x1w1</text>\n<polyline fill=\"none\" stroke=\"black\" points=\"373,-55.5 373,-91.5 \"/>\n<text text-anchor=\"middle\" x=\"415.5\" y=\"-69.8\" font-family=\"Times,serif\" font-size=\"14.00\">data &#45;6.0000</text>\n<polyline fill=\"none\" stroke=\"black\" points=\"458,-55.5 458,-91.5 \"/>\n<text text-anchor=\"middle\" x=\"499\" y=\"-69.8\" font-family=\"Times,serif\" font-size=\"14.00\">grad 0.5000</text>\n</g>\n<!-- 137077046832976&#45;&gt;137076958168208+ -->\n<g id=\"edge10\" class=\"edge\">\n<title>137077046832976&#45;&gt;137076958168208+</title>\n<path fill=\"none\" stroke=\"black\" d=\"M540.4,-90.6C549.72,-92.1 558.65,-93.53 566.68,-94.82\"/>\n<polygon fill=\"black\" stroke=\"black\" points=\"566.24,-98.3 576.66,-96.43 567.35,-91.39 566.24,-98.3\"/>\n</g>\n<!-- 137077046832976* -->\n<g id=\"node12\" class=\"node\">\n<title>137077046832976*</title>\n<ellipse fill=\"none\" stroke=\"black\" cx=\"263\" cy=\"-73.5\" rx=\"27\" ry=\"18\"/>\n<text text-anchor=\"middle\" x=\"263\" y=\"-69.8\" font-family=\"Times,serif\" font-size=\"14.00\">*</text>\n</g>\n<!-- 137077046832976*&#45;&gt;137077046832976 -->\n<g id=\"edge5\" class=\"edge\">\n<title>137077046832976*&#45;&gt;137077046832976</title>\n<path fill=\"none\" stroke=\"black\" d=\"M290.25,-73.5C297.7,-73.5 306.34,-73.5 315.59,-73.5\"/>\n<polygon fill=\"black\" stroke=\"black\" points=\"315.84,-77 325.84,-73.5 315.84,-70 315.84,-77\"/>\n</g>\n<!-- 137076954239824 -->\n<g id=\"node13\" class=\"node\">\n<title>137076954239824</title>\n<polygon fill=\"none\" stroke=\"black\" points=\"0,-55.5 0,-91.5 200,-91.5 200,-55.5 0,-55.5\"/>\n<text text-anchor=\"middle\" x=\"16.5\" y=\"-69.8\" font-family=\"Times,serif\" font-size=\"14.00\">w1</text>\n<polyline fill=\"none\" stroke=\"black\" points=\"33,-55.5 33,-91.5 \"/>\n<text text-anchor=\"middle\" x=\"75.5\" y=\"-69.8\" font-family=\"Times,serif\" font-size=\"14.00\">data &#45;3.0000</text>\n<polyline fill=\"none\" stroke=\"black\" points=\"118,-55.5 118,-91.5 \"/>\n<text text-anchor=\"middle\" x=\"159\" y=\"-69.8\" font-family=\"Times,serif\" font-size=\"14.00\">grad 1.0000</text>\n</g>\n<!-- 137076954239824&#45;&gt;137077046832976* -->\n<g id=\"edge6\" class=\"edge\">\n<title>137076954239824&#45;&gt;137077046832976*</title>\n<path fill=\"none\" stroke=\"black\" d=\"M200.21,-73.5C209.2,-73.5 217.86,-73.5 225.7,-73.5\"/>\n<polygon fill=\"black\" stroke=\"black\" points=\"225.85,-77 235.85,-73.5 225.85,-70 225.85,-77\"/>\n</g>\n<!-- 137077084865872 -->\n<g id=\"node14\" class=\"node\">\n<title>137077084865872</title>\n<polygon fill=\"none\" stroke=\"black\" points=\"2,-0.5 2,-36.5 198,-36.5 198,-0.5 2,-0.5\"/>\n<text text-anchor=\"middle\" x=\"17\" y=\"-14.8\" font-family=\"Times,serif\" font-size=\"14.00\">x1</text>\n<polyline fill=\"none\" stroke=\"black\" points=\"32,-0.5 32,-36.5 \"/>\n<text text-anchor=\"middle\" x=\"72\" y=\"-14.8\" font-family=\"Times,serif\" font-size=\"14.00\">data 2.0000</text>\n<polyline fill=\"none\" stroke=\"black\" points=\"112,-0.5 112,-36.5 \"/>\n<text text-anchor=\"middle\" x=\"155\" y=\"-14.8\" font-family=\"Times,serif\" font-size=\"14.00\">grad &#45;1.5000</text>\n</g>\n<!-- 137077084865872&#45;&gt;137077046832976* -->\n<g id=\"edge9\" class=\"edge\">\n<title>137077084865872&#45;&gt;137077046832976*</title>\n<path fill=\"none\" stroke=\"black\" d=\"M172.53,-36.56C181.84,-39.33 191.2,-42.33 200,-45.5 210.53,-49.29 221.75,-54.1 231.72,-58.67\"/>\n<polygon fill=\"black\" stroke=\"black\" points=\"230.28,-61.86 240.82,-62.93 233.25,-55.52 230.28,-61.86\"/>\n</g>\n<!-- 137077073519952 -->\n<g id=\"node15\" class=\"node\">\n<title>137077073519952</title>\n<polygon fill=\"none\" stroke=\"black\" points=\"703,-27.5 703,-63.5 888,-63.5 888,-27.5 703,-27.5\"/>\n<text text-anchor=\"middle\" x=\"714.5\" y=\"-41.8\" font-family=\"Times,serif\" font-size=\"14.00\">b</text>\n<polyline fill=\"none\" stroke=\"black\" points=\"726,-27.5 726,-63.5 \"/>\n<text text-anchor=\"middle\" x=\"766\" y=\"-41.8\" font-family=\"Times,serif\" font-size=\"14.00\">data 6.8814</text>\n<polyline fill=\"none\" stroke=\"black\" points=\"806,-27.5 806,-63.5 \"/>\n<text text-anchor=\"middle\" x=\"847\" y=\"-41.8\" font-family=\"Times,serif\" font-size=\"14.00\">grad 0.5000</text>\n</g>\n<!-- 137077073519952&#45;&gt;137077063725072+ -->\n<g id=\"edge13\" class=\"edge\">\n<title>137077073519952&#45;&gt;137077063725072+</title>\n<path fill=\"none\" stroke=\"black\" d=\"M888.12,-58.49C910.59,-61.67 933.33,-64.89 951.33,-67.44\"/>\n<polygon fill=\"black\" stroke=\"black\" points=\"950.95,-70.93 961.34,-68.86 951.93,-63.99 950.95,-70.93\"/>\n</g>\n</g>\n</svg>\n",
            "text/plain": [
              "<graphviz.graphs.Digraph at 0x7cabb7339010>"
            ]
          },
          "metadata": {},
          "execution_count": 63
        }
      ]
    },
    {
      "cell_type": "code",
      "source": [
        "# Forward propogation of a neural network\n",
        "\n",
        "# Inputs\n",
        "x1 = Value(2.0, label='x1')\n",
        "x2 = Value(0.0, label='x2')\n",
        "\n",
        "# Weights\n",
        "w1 = Value(-3.0, label='w1')\n",
        "w2 = Value(1.0, label='w2')\n",
        "\n",
        "# Bias\n",
        "b = Value(6.8813735870195432, label='b')\n",
        "\n",
        "x1w1 = x1 * w1; x1w1.label = 'x1w1'\n",
        "x2w2 = x2 * w2; x2w2.label = 'x2w2'\n",
        "\n",
        "x1w1x2w2 = x1w1 + x2w2; x1w1x2w2.label = 'x1w1 + x2w2'\n",
        "n = x1w1x2w2 + b; n.label = 'n'\n",
        "\n",
        "out = n.tanh(); out.label = 'out'"
      ],
      "metadata": {
        "id": "wJw11tkGOfcL"
      },
      "execution_count": 64,
      "outputs": []
    },
    {
      "cell_type": "code",
      "source": [
        "# Back prop using Topological sort\n",
        "\n",
        "out.grad = 1\n",
        "\n",
        "topo = []\n",
        "visited = set()\n",
        "\n",
        "def build_topo(v):\n",
        "  if v not in visited:\n",
        "    visited.add(v)\n",
        "    for child in v._prev:\n",
        "      build_topo(child)\n",
        "    topo.append(v)\n",
        "\n",
        "build_topo(out)\n",
        "\n",
        "\n",
        "for node in reversed(topo):\n",
        "  node._backward()\n",
        "\n",
        "draw_dot(out)"
      ],
      "metadata": {
        "colab": {
          "base_uri": "https://localhost:8080/",
          "height": 321
        },
        "id": "Zu8Ko8GnOglj",
        "outputId": "d0fef9d5-90e7-4342-ad89-8eb958bdafbc"
      },
      "execution_count": 65,
      "outputs": [
        {
          "output_type": "execute_result",
          "data": {
            "image/svg+xml": "<?xml version=\"1.0\" encoding=\"UTF-8\" standalone=\"no\"?>\n<!DOCTYPE svg PUBLIC \"-//W3C//DTD SVG 1.1//EN\"\n \"http://www.w3.org/Graphics/SVG/1.1/DTD/svg11.dtd\">\n<!-- Generated by graphviz version 2.43.0 (0)\n -->\n<!-- Title: %3 Pages: 1 -->\n<svg width=\"1566pt\" height=\"210pt\"\n viewBox=\"0.00 0.00 1566.00 210.00\" xmlns=\"http://www.w3.org/2000/svg\" xmlns:xlink=\"http://www.w3.org/1999/xlink\">\n<g id=\"graph0\" class=\"graph\" transform=\"scale(1 1) rotate(0) translate(4 206)\">\n<title>%3</title>\n<polygon fill=\"white\" stroke=\"transparent\" points=\"-4,4 -4,-206 1562,-206 1562,4 -4,4\"/>\n<!-- 137076954706960 -->\n<g id=\"node1\" class=\"node\">\n<title>137076954706960</title>\n<polygon fill=\"none\" stroke=\"black\" points=\"2,-165.5 2,-201.5 198,-201.5 198,-165.5 2,-165.5\"/>\n<text text-anchor=\"middle\" x=\"17\" y=\"-179.8\" font-family=\"Times,serif\" font-size=\"14.00\">x1</text>\n<polyline fill=\"none\" stroke=\"black\" points=\"32,-165.5 32,-201.5 \"/>\n<text text-anchor=\"middle\" x=\"72\" y=\"-179.8\" font-family=\"Times,serif\" font-size=\"14.00\">data 2.0000</text>\n<polyline fill=\"none\" stroke=\"black\" points=\"112,-165.5 112,-201.5 \"/>\n<text text-anchor=\"middle\" x=\"155\" y=\"-179.8\" font-family=\"Times,serif\" font-size=\"14.00\">grad &#45;1.5000</text>\n</g>\n<!-- 137076956576208* -->\n<g id=\"node5\" class=\"node\">\n<title>137076956576208*</title>\n<ellipse fill=\"none\" stroke=\"black\" cx=\"263\" cy=\"-128.5\" rx=\"27\" ry=\"18\"/>\n<text text-anchor=\"middle\" x=\"263\" y=\"-124.8\" font-family=\"Times,serif\" font-size=\"14.00\">*</text>\n</g>\n<!-- 137076954706960&#45;&gt;137076956576208* -->\n<g id=\"edge6\" class=\"edge\">\n<title>137076954706960&#45;&gt;137076956576208*</title>\n<path fill=\"none\" stroke=\"black\" d=\"M172.53,-165.44C181.84,-162.67 191.2,-159.67 200,-156.5 210.53,-152.71 221.75,-147.9 231.72,-143.33\"/>\n<polygon fill=\"black\" stroke=\"black\" points=\"233.25,-146.48 240.82,-139.07 230.28,-140.14 233.25,-146.48\"/>\n</g>\n<!-- 137076954702416 -->\n<g id=\"node2\" class=\"node\">\n<title>137076954702416</title>\n<polygon fill=\"none\" stroke=\"black\" points=\"703,-27.5 703,-63.5 888,-63.5 888,-27.5 703,-27.5\"/>\n<text text-anchor=\"middle\" x=\"714.5\" y=\"-41.8\" font-family=\"Times,serif\" font-size=\"14.00\">b</text>\n<polyline fill=\"none\" stroke=\"black\" points=\"726,-27.5 726,-63.5 \"/>\n<text text-anchor=\"middle\" x=\"766\" y=\"-41.8\" font-family=\"Times,serif\" font-size=\"14.00\">data 6.8814</text>\n<polyline fill=\"none\" stroke=\"black\" points=\"806,-27.5 806,-63.5 \"/>\n<text text-anchor=\"middle\" x=\"847\" y=\"-41.8\" font-family=\"Times,serif\" font-size=\"14.00\">grad 0.5000</text>\n</g>\n<!-- 137076954701584+ -->\n<g id=\"node10\" class=\"node\">\n<title>137076954701584+</title>\n<ellipse fill=\"none\" stroke=\"black\" cx=\"988\" cy=\"-72.5\" rx=\"27\" ry=\"18\"/>\n<text text-anchor=\"middle\" x=\"988\" y=\"-68.8\" font-family=\"Times,serif\" font-size=\"14.00\">+</text>\n</g>\n<!-- 137076954702416&#45;&gt;137076954701584+ -->\n<g id=\"edge10\" class=\"edge\">\n<title>137076954702416&#45;&gt;137076954701584+</title>\n<path fill=\"none\" stroke=\"black\" d=\"M888.12,-58.49C910.59,-61.67 933.33,-64.89 951.33,-67.44\"/>\n<polygon fill=\"black\" stroke=\"black\" points=\"950.95,-70.93 961.34,-68.86 951.93,-63.99 950.95,-70.93\"/>\n</g>\n<!-- 137076956113360 -->\n<g id=\"node3\" class=\"node\">\n<title>137076956113360</title>\n<polygon fill=\"none\" stroke=\"black\" points=\"4,-55.5 4,-91.5 196,-91.5 196,-55.5 4,-55.5\"/>\n<text text-anchor=\"middle\" x=\"19\" y=\"-69.8\" font-family=\"Times,serif\" font-size=\"14.00\">x2</text>\n<polyline fill=\"none\" stroke=\"black\" points=\"34,-55.5 34,-91.5 \"/>\n<text text-anchor=\"middle\" x=\"74\" y=\"-69.8\" font-family=\"Times,serif\" font-size=\"14.00\">data 0.0000</text>\n<polyline fill=\"none\" stroke=\"black\" points=\"114,-55.5 114,-91.5 \"/>\n<text text-anchor=\"middle\" x=\"155\" y=\"-69.8\" font-family=\"Times,serif\" font-size=\"14.00\">grad 0.5000</text>\n</g>\n<!-- 137076956632400* -->\n<g id=\"node13\" class=\"node\">\n<title>137076956632400*</title>\n<ellipse fill=\"none\" stroke=\"black\" cx=\"263\" cy=\"-73.5\" rx=\"27\" ry=\"18\"/>\n<text text-anchor=\"middle\" x=\"263\" y=\"-69.8\" font-family=\"Times,serif\" font-size=\"14.00\">*</text>\n</g>\n<!-- 137076956113360&#45;&gt;137076956632400* -->\n<g id=\"edge12\" class=\"edge\">\n<title>137076956113360&#45;&gt;137076956632400*</title>\n<path fill=\"none\" stroke=\"black\" d=\"M196.05,-73.5C206.52,-73.5 216.65,-73.5 225.71,-73.5\"/>\n<polygon fill=\"black\" stroke=\"black\" points=\"225.79,-77 235.79,-73.5 225.79,-70 225.79,-77\"/>\n</g>\n<!-- 137076956576208 -->\n<g id=\"node4\" class=\"node\">\n<title>137076956576208</title>\n<polygon fill=\"none\" stroke=\"black\" points=\"326,-110.5 326,-146.5 540,-146.5 540,-110.5 326,-110.5\"/>\n<text text-anchor=\"middle\" x=\"349.5\" y=\"-124.8\" font-family=\"Times,serif\" font-size=\"14.00\">x1w1</text>\n<polyline fill=\"none\" stroke=\"black\" points=\"373,-110.5 373,-146.5 \"/>\n<text text-anchor=\"middle\" x=\"415.5\" y=\"-124.8\" font-family=\"Times,serif\" font-size=\"14.00\">data &#45;6.0000</text>\n<polyline fill=\"none\" stroke=\"black\" points=\"458,-110.5 458,-146.5 \"/>\n<text text-anchor=\"middle\" x=\"499\" y=\"-124.8\" font-family=\"Times,serif\" font-size=\"14.00\">grad 0.5000</text>\n</g>\n<!-- 137076954702800+ -->\n<g id=\"node15\" class=\"node\">\n<title>137076954702800+</title>\n<ellipse fill=\"none\" stroke=\"black\" cx=\"603\" cy=\"-100.5\" rx=\"27\" ry=\"18\"/>\n<text text-anchor=\"middle\" x=\"603\" y=\"-96.8\" font-family=\"Times,serif\" font-size=\"14.00\">+</text>\n</g>\n<!-- 137076956576208&#45;&gt;137076954702800+ -->\n<g id=\"edge9\" class=\"edge\">\n<title>137076956576208&#45;&gt;137076954702800+</title>\n<path fill=\"none\" stroke=\"black\" d=\"M540.4,-110.77C549.72,-109.21 558.65,-107.72 566.68,-106.39\"/>\n<polygon fill=\"black\" stroke=\"black\" points=\"567.38,-109.82 576.66,-104.72 566.22,-102.91 567.38,-109.82\"/>\n</g>\n<!-- 137076956576208*&#45;&gt;137076956576208 -->\n<g id=\"edge1\" class=\"edge\">\n<title>137076956576208*&#45;&gt;137076956576208</title>\n<path fill=\"none\" stroke=\"black\" d=\"M290.25,-128.5C297.7,-128.5 306.34,-128.5 315.59,-128.5\"/>\n<polygon fill=\"black\" stroke=\"black\" points=\"315.84,-132 325.84,-128.5 315.84,-125 315.84,-132\"/>\n</g>\n<!-- 137076958132688 -->\n<g id=\"node6\" class=\"node\">\n<title>137076958132688</title>\n<polygon fill=\"none\" stroke=\"black\" points=\"0,-110.5 0,-146.5 200,-146.5 200,-110.5 0,-110.5\"/>\n<text text-anchor=\"middle\" x=\"16.5\" y=\"-124.8\" font-family=\"Times,serif\" font-size=\"14.00\">w1</text>\n<polyline fill=\"none\" stroke=\"black\" points=\"33,-110.5 33,-146.5 \"/>\n<text text-anchor=\"middle\" x=\"75.5\" y=\"-124.8\" font-family=\"Times,serif\" font-size=\"14.00\">data &#45;3.0000</text>\n<polyline fill=\"none\" stroke=\"black\" points=\"118,-110.5 118,-146.5 \"/>\n<text text-anchor=\"middle\" x=\"159\" y=\"-124.8\" font-family=\"Times,serif\" font-size=\"14.00\">grad 1.0000</text>\n</g>\n<!-- 137076958132688&#45;&gt;137076956576208* -->\n<g id=\"edge8\" class=\"edge\">\n<title>137076958132688&#45;&gt;137076956576208*</title>\n<path fill=\"none\" stroke=\"black\" d=\"M200.21,-128.5C209.2,-128.5 217.86,-128.5 225.7,-128.5\"/>\n<polygon fill=\"black\" stroke=\"black\" points=\"225.85,-132 235.85,-128.5 225.85,-125 225.85,-132\"/>\n</g>\n<!-- 137077037839632 -->\n<g id=\"node7\" class=\"node\">\n<title>137077037839632</title>\n<polygon fill=\"none\" stroke=\"black\" points=\"1362,-54.5 1362,-90.5 1558,-90.5 1558,-54.5 1362,-54.5\"/>\n<text text-anchor=\"middle\" x=\"1379\" y=\"-68.8\" font-family=\"Times,serif\" font-size=\"14.00\">out</text>\n<polyline fill=\"none\" stroke=\"black\" points=\"1396,-54.5 1396,-90.5 \"/>\n<text text-anchor=\"middle\" x=\"1436\" y=\"-68.8\" font-family=\"Times,serif\" font-size=\"14.00\">data 0.7071</text>\n<polyline fill=\"none\" stroke=\"black\" points=\"1476,-54.5 1476,-90.5 \"/>\n<text text-anchor=\"middle\" x=\"1517\" y=\"-68.8\" font-family=\"Times,serif\" font-size=\"14.00\">grad 1.0000</text>\n</g>\n<!-- 137077037839632tanh -->\n<g id=\"node8\" class=\"node\">\n<title>137077037839632tanh</title>\n<ellipse fill=\"none\" stroke=\"black\" cx=\"1299\" cy=\"-72.5\" rx=\"27\" ry=\"18\"/>\n<text text-anchor=\"middle\" x=\"1299\" y=\"-68.8\" font-family=\"Times,serif\" font-size=\"14.00\">tanh</text>\n</g>\n<!-- 137077037839632tanh&#45;&gt;137077037839632 -->\n<g id=\"edge2\" class=\"edge\">\n<title>137077037839632tanh&#45;&gt;137077037839632</title>\n<path fill=\"none\" stroke=\"black\" d=\"M1326.26,-72.5C1333.77,-72.5 1342.46,-72.5 1351.72,-72.5\"/>\n<polygon fill=\"black\" stroke=\"black\" points=\"1351.97,-76 1361.97,-72.5 1351.97,-69 1351.97,-76\"/>\n</g>\n<!-- 137076954701584 -->\n<g id=\"node9\" class=\"node\">\n<title>137076954701584</title>\n<polygon fill=\"none\" stroke=\"black\" points=\"1051,-54.5 1051,-90.5 1236,-90.5 1236,-54.5 1051,-54.5\"/>\n<text text-anchor=\"middle\" x=\"1062.5\" y=\"-68.8\" font-family=\"Times,serif\" font-size=\"14.00\">n</text>\n<polyline fill=\"none\" stroke=\"black\" points=\"1074,-54.5 1074,-90.5 \"/>\n<text text-anchor=\"middle\" x=\"1114\" y=\"-68.8\" font-family=\"Times,serif\" font-size=\"14.00\">data 0.8814</text>\n<polyline fill=\"none\" stroke=\"black\" points=\"1154,-54.5 1154,-90.5 \"/>\n<text text-anchor=\"middle\" x=\"1195\" y=\"-68.8\" font-family=\"Times,serif\" font-size=\"14.00\">grad 0.5000</text>\n</g>\n<!-- 137076954701584&#45;&gt;137077037839632tanh -->\n<g id=\"edge13\" class=\"edge\">\n<title>137076954701584&#45;&gt;137077037839632tanh</title>\n<path fill=\"none\" stroke=\"black\" d=\"M1236.01,-72.5C1245.01,-72.5 1253.74,-72.5 1261.66,-72.5\"/>\n<polygon fill=\"black\" stroke=\"black\" points=\"1261.91,-76 1271.91,-72.5 1261.91,-69 1261.91,-76\"/>\n</g>\n<!-- 137076954701584+&#45;&gt;137076954701584 -->\n<g id=\"edge3\" class=\"edge\">\n<title>137076954701584+&#45;&gt;137076954701584</title>\n<path fill=\"none\" stroke=\"black\" d=\"M1015.04,-72.5C1022.58,-72.5 1031.3,-72.5 1040.57,-72.5\"/>\n<polygon fill=\"black\" stroke=\"black\" points=\"1040.81,-76 1050.81,-72.5 1040.81,-69 1040.81,-76\"/>\n</g>\n<!-- 137076958133520 -->\n<g id=\"node11\" class=\"node\">\n<title>137076958133520</title>\n<polygon fill=\"none\" stroke=\"black\" points=\"2.5,-0.5 2.5,-36.5 197.5,-36.5 197.5,-0.5 2.5,-0.5\"/>\n<text text-anchor=\"middle\" x=\"19\" y=\"-14.8\" font-family=\"Times,serif\" font-size=\"14.00\">w2</text>\n<polyline fill=\"none\" stroke=\"black\" points=\"35.5,-0.5 35.5,-36.5 \"/>\n<text text-anchor=\"middle\" x=\"75.5\" y=\"-14.8\" font-family=\"Times,serif\" font-size=\"14.00\">data 1.0000</text>\n<polyline fill=\"none\" stroke=\"black\" points=\"115.5,-0.5 115.5,-36.5 \"/>\n<text text-anchor=\"middle\" x=\"156.5\" y=\"-14.8\" font-family=\"Times,serif\" font-size=\"14.00\">grad 0.0000</text>\n</g>\n<!-- 137076958133520&#45;&gt;137076956632400* -->\n<g id=\"edge7\" class=\"edge\">\n<title>137076958133520&#45;&gt;137076956632400*</title>\n<path fill=\"none\" stroke=\"black\" d=\"M169.28,-36.5C179.65,-39.61 190.16,-42.98 200,-46.5 210.28,-50.17 221.28,-54.74 231.11,-59.07\"/>\n<polygon fill=\"black\" stroke=\"black\" points=\"229.93,-62.37 240.48,-63.27 232.79,-55.99 229.93,-62.37\"/>\n</g>\n<!-- 137076956632400 -->\n<g id=\"node12\" class=\"node\">\n<title>137076956632400</title>\n<polygon fill=\"none\" stroke=\"black\" points=\"328.5,-55.5 328.5,-91.5 537.5,-91.5 537.5,-55.5 328.5,-55.5\"/>\n<text text-anchor=\"middle\" x=\"352\" y=\"-69.8\" font-family=\"Times,serif\" font-size=\"14.00\">x2w2</text>\n<polyline fill=\"none\" stroke=\"black\" points=\"375.5,-55.5 375.5,-91.5 \"/>\n<text text-anchor=\"middle\" x=\"415.5\" y=\"-69.8\" font-family=\"Times,serif\" font-size=\"14.00\">data 0.0000</text>\n<polyline fill=\"none\" stroke=\"black\" points=\"455.5,-55.5 455.5,-91.5 \"/>\n<text text-anchor=\"middle\" x=\"496.5\" y=\"-69.8\" font-family=\"Times,serif\" font-size=\"14.00\">grad 0.5000</text>\n</g>\n<!-- 137076956632400&#45;&gt;137076954702800+ -->\n<g id=\"edge11\" class=\"edge\">\n<title>137076956632400&#45;&gt;137076954702800+</title>\n<path fill=\"none\" stroke=\"black\" d=\"M537.53,-90.14C547.8,-91.79 557.66,-93.37 566.45,-94.79\"/>\n<polygon fill=\"black\" stroke=\"black\" points=\"566.16,-98.28 576.59,-96.42 567.27,-91.37 566.16,-98.28\"/>\n</g>\n<!-- 137076956632400*&#45;&gt;137076956632400 -->\n<g id=\"edge4\" class=\"edge\">\n<title>137076956632400*&#45;&gt;137076956632400</title>\n<path fill=\"none\" stroke=\"black\" d=\"M290.25,-73.5C298.43,-73.5 308.03,-73.5 318.31,-73.5\"/>\n<polygon fill=\"black\" stroke=\"black\" points=\"318.35,-77 328.35,-73.5 318.35,-70 318.35,-77\"/>\n</g>\n<!-- 137076954702800 -->\n<g id=\"node14\" class=\"node\">\n<title>137076954702800</title>\n<polygon fill=\"none\" stroke=\"black\" points=\"666,-82.5 666,-118.5 925,-118.5 925,-82.5 666,-82.5\"/>\n<text text-anchor=\"middle\" x=\"712\" y=\"-96.8\" font-family=\"Times,serif\" font-size=\"14.00\">x1w1 + x2w2</text>\n<polyline fill=\"none\" stroke=\"black\" points=\"758,-82.5 758,-118.5 \"/>\n<text text-anchor=\"middle\" x=\"800.5\" y=\"-96.8\" font-family=\"Times,serif\" font-size=\"14.00\">data &#45;6.0000</text>\n<polyline fill=\"none\" stroke=\"black\" points=\"843,-82.5 843,-118.5 \"/>\n<text text-anchor=\"middle\" x=\"884\" y=\"-96.8\" font-family=\"Times,serif\" font-size=\"14.00\">grad 0.5000</text>\n</g>\n<!-- 137076954702800&#45;&gt;137076954701584+ -->\n<g id=\"edge14\" class=\"edge\">\n<title>137076954702800&#45;&gt;137076954701584+</title>\n<path fill=\"none\" stroke=\"black\" d=\"M919.03,-82.49C930.7,-80.77 941.77,-79.15 951.46,-77.72\"/>\n<polygon fill=\"black\" stroke=\"black\" points=\"952.01,-81.18 961.4,-76.26 951,-74.25 952.01,-81.18\"/>\n</g>\n<!-- 137076954702800+&#45;&gt;137076954702800 -->\n<g id=\"edge5\" class=\"edge\">\n<title>137076954702800+&#45;&gt;137076954702800</title>\n<path fill=\"none\" stroke=\"black\" d=\"M630.09,-100.5C637.58,-100.5 646.3,-100.5 655.75,-100.5\"/>\n<polygon fill=\"black\" stroke=\"black\" points=\"655.84,-104 665.84,-100.5 655.84,-97 655.84,-104\"/>\n</g>\n</g>\n</svg>\n",
            "text/plain": [
              "<graphviz.graphs.Digraph at 0x7cabb71d6c50>"
            ]
          },
          "metadata": {},
          "execution_count": 65
        }
      ]
    },
    {
      "cell_type": "code",
      "source": [
        "# Forward and Back propogation of a neural network\n",
        "\n",
        "# Inputs\n",
        "x1 = Value(2.0, label='x1')\n",
        "x2 = Value(0.0, label='x2')\n",
        "\n",
        "# Weights\n",
        "w1 = Value(-3.0, label='w1')\n",
        "w2 = Value(1.0, label='w2')\n",
        "\n",
        "# Bias\n",
        "b = Value(6.8813735870195432, label='b')\n",
        "\n",
        "x1w1 = x1 * w1; x1w1.label = 'x1w1'\n",
        "x2w2 = x2 * w2; x2w2.label = 'x2w2'\n",
        "\n",
        "x1w1x2w2 = x1w1 + x2w2; x1w1x2w2.label = 'x1w1 + x2w2'\n",
        "n = x1w1x2w2 + b; n.label = 'n'\n",
        "\n",
        "out = n.tanh(); out.label = 'out'\n",
        "\n",
        "out.backward() # Uses topo sort internally\n",
        "\n",
        "draw_dot(out)"
      ],
      "metadata": {
        "colab": {
          "base_uri": "https://localhost:8080/",
          "height": 321
        },
        "id": "3kgb2QU3Pqkh",
        "outputId": "e7c60b1d-2441-4cc7-d042-0c16e791eca8"
      },
      "execution_count": 69,
      "outputs": [
        {
          "output_type": "execute_result",
          "data": {
            "image/svg+xml": "<?xml version=\"1.0\" encoding=\"UTF-8\" standalone=\"no\"?>\n<!DOCTYPE svg PUBLIC \"-//W3C//DTD SVG 1.1//EN\"\n \"http://www.w3.org/Graphics/SVG/1.1/DTD/svg11.dtd\">\n<!-- Generated by graphviz version 2.43.0 (0)\n -->\n<!-- Title: %3 Pages: 1 -->\n<svg width=\"1566pt\" height=\"210pt\"\n viewBox=\"0.00 0.00 1566.00 210.00\" xmlns=\"http://www.w3.org/2000/svg\" xmlns:xlink=\"http://www.w3.org/1999/xlink\">\n<g id=\"graph0\" class=\"graph\" transform=\"scale(1 1) rotate(0) translate(4 206)\">\n<title>%3</title>\n<polygon fill=\"white\" stroke=\"transparent\" points=\"-4,4 -4,-206 1562,-206 1562,4 -4,4\"/>\n<!-- 137076954730512 -->\n<g id=\"node1\" class=\"node\">\n<title>137076954730512</title>\n<polygon fill=\"none\" stroke=\"black\" points=\"666,-82.5 666,-118.5 925,-118.5 925,-82.5 666,-82.5\"/>\n<text text-anchor=\"middle\" x=\"712\" y=\"-96.8\" font-family=\"Times,serif\" font-size=\"14.00\">x1w1 + x2w2</text>\n<polyline fill=\"none\" stroke=\"black\" points=\"758,-82.5 758,-118.5 \"/>\n<text text-anchor=\"middle\" x=\"800.5\" y=\"-96.8\" font-family=\"Times,serif\" font-size=\"14.00\">data &#45;6.0000</text>\n<polyline fill=\"none\" stroke=\"black\" points=\"843,-82.5 843,-118.5 \"/>\n<text text-anchor=\"middle\" x=\"884\" y=\"-96.8\" font-family=\"Times,serif\" font-size=\"14.00\">grad 0.5000</text>\n</g>\n<!-- 137076954736400+ -->\n<g id=\"node9\" class=\"node\">\n<title>137076954736400+</title>\n<ellipse fill=\"none\" stroke=\"black\" cx=\"988\" cy=\"-127.5\" rx=\"27\" ry=\"18\"/>\n<text text-anchor=\"middle\" x=\"988\" y=\"-123.8\" font-family=\"Times,serif\" font-size=\"14.00\">+</text>\n</g>\n<!-- 137076954730512&#45;&gt;137076954736400+ -->\n<g id=\"edge12\" class=\"edge\">\n<title>137076954730512&#45;&gt;137076954736400+</title>\n<path fill=\"none\" stroke=\"black\" d=\"M923.57,-118.51C933.55,-119.92 943,-121.26 951.42,-122.46\"/>\n<polygon fill=\"black\" stroke=\"black\" points=\"951.09,-125.95 961.48,-123.88 952.07,-119.01 951.09,-125.95\"/>\n</g>\n<!-- 137076954730512+ -->\n<g id=\"node2\" class=\"node\">\n<title>137076954730512+</title>\n<ellipse fill=\"none\" stroke=\"black\" cx=\"603\" cy=\"-100.5\" rx=\"27\" ry=\"18\"/>\n<text text-anchor=\"middle\" x=\"603\" y=\"-96.8\" font-family=\"Times,serif\" font-size=\"14.00\">+</text>\n</g>\n<!-- 137076954730512+&#45;&gt;137076954730512 -->\n<g id=\"edge1\" class=\"edge\">\n<title>137076954730512+&#45;&gt;137076954730512</title>\n<path fill=\"none\" stroke=\"black\" d=\"M630.09,-100.5C637.58,-100.5 646.3,-100.5 655.75,-100.5\"/>\n<polygon fill=\"black\" stroke=\"black\" points=\"655.84,-104 665.84,-100.5 655.84,-97 655.84,-104\"/>\n</g>\n<!-- 137076956158544 -->\n<g id=\"node3\" class=\"node\">\n<title>137076956158544</title>\n<polygon fill=\"none\" stroke=\"black\" points=\"2,-165.5 2,-201.5 198,-201.5 198,-165.5 2,-165.5\"/>\n<text text-anchor=\"middle\" x=\"17\" y=\"-179.8\" font-family=\"Times,serif\" font-size=\"14.00\">x1</text>\n<polyline fill=\"none\" stroke=\"black\" points=\"32,-165.5 32,-201.5 \"/>\n<text text-anchor=\"middle\" x=\"72\" y=\"-179.8\" font-family=\"Times,serif\" font-size=\"14.00\">data 2.0000</text>\n<polyline fill=\"none\" stroke=\"black\" points=\"112,-165.5 112,-201.5 \"/>\n<text text-anchor=\"middle\" x=\"155\" y=\"-179.8\" font-family=\"Times,serif\" font-size=\"14.00\">grad &#45;1.5000</text>\n</g>\n<!-- 137076954728080* -->\n<g id=\"node5\" class=\"node\">\n<title>137076954728080*</title>\n<ellipse fill=\"none\" stroke=\"black\" cx=\"263\" cy=\"-128.5\" rx=\"27\" ry=\"18\"/>\n<text text-anchor=\"middle\" x=\"263\" y=\"-124.8\" font-family=\"Times,serif\" font-size=\"14.00\">*</text>\n</g>\n<!-- 137076956158544&#45;&gt;137076954728080* -->\n<g id=\"edge14\" class=\"edge\">\n<title>137076956158544&#45;&gt;137076954728080*</title>\n<path fill=\"none\" stroke=\"black\" d=\"M172.53,-165.44C181.84,-162.67 191.2,-159.67 200,-156.5 210.53,-152.71 221.75,-147.9 231.72,-143.33\"/>\n<polygon fill=\"black\" stroke=\"black\" points=\"233.25,-146.48 240.82,-139.07 230.28,-140.14 233.25,-146.48\"/>\n</g>\n<!-- 137076954728080 -->\n<g id=\"node4\" class=\"node\">\n<title>137076954728080</title>\n<polygon fill=\"none\" stroke=\"black\" points=\"326,-110.5 326,-146.5 540,-146.5 540,-110.5 326,-110.5\"/>\n<text text-anchor=\"middle\" x=\"349.5\" y=\"-124.8\" font-family=\"Times,serif\" font-size=\"14.00\">x1w1</text>\n<polyline fill=\"none\" stroke=\"black\" points=\"373,-110.5 373,-146.5 \"/>\n<text text-anchor=\"middle\" x=\"415.5\" y=\"-124.8\" font-family=\"Times,serif\" font-size=\"14.00\">data &#45;6.0000</text>\n<polyline fill=\"none\" stroke=\"black\" points=\"458,-110.5 458,-146.5 \"/>\n<text text-anchor=\"middle\" x=\"499\" y=\"-124.8\" font-family=\"Times,serif\" font-size=\"14.00\">grad 0.5000</text>\n</g>\n<!-- 137076954728080&#45;&gt;137076954730512+ -->\n<g id=\"edge9\" class=\"edge\">\n<title>137076954728080&#45;&gt;137076954730512+</title>\n<path fill=\"none\" stroke=\"black\" d=\"M540.4,-110.77C549.72,-109.21 558.65,-107.72 566.68,-106.39\"/>\n<polygon fill=\"black\" stroke=\"black\" points=\"567.38,-109.82 576.66,-104.72 566.22,-102.91 567.38,-109.82\"/>\n</g>\n<!-- 137076954728080*&#45;&gt;137076954728080 -->\n<g id=\"edge2\" class=\"edge\">\n<title>137076954728080*&#45;&gt;137076954728080</title>\n<path fill=\"none\" stroke=\"black\" d=\"M290.25,-128.5C297.7,-128.5 306.34,-128.5 315.59,-128.5\"/>\n<polygon fill=\"black\" stroke=\"black\" points=\"315.84,-132 325.84,-128.5 315.84,-125 315.84,-132\"/>\n</g>\n<!-- 137076954510608 -->\n<g id=\"node6\" class=\"node\">\n<title>137076954510608</title>\n<polygon fill=\"none\" stroke=\"black\" points=\"1362,-109.5 1362,-145.5 1558,-145.5 1558,-109.5 1362,-109.5\"/>\n<text text-anchor=\"middle\" x=\"1379\" y=\"-123.8\" font-family=\"Times,serif\" font-size=\"14.00\">out</text>\n<polyline fill=\"none\" stroke=\"black\" points=\"1396,-109.5 1396,-145.5 \"/>\n<text text-anchor=\"middle\" x=\"1436\" y=\"-123.8\" font-family=\"Times,serif\" font-size=\"14.00\">data 0.7071</text>\n<polyline fill=\"none\" stroke=\"black\" points=\"1476,-109.5 1476,-145.5 \"/>\n<text text-anchor=\"middle\" x=\"1517\" y=\"-123.8\" font-family=\"Times,serif\" font-size=\"14.00\">grad 1.0000</text>\n</g>\n<!-- 137076954510608tanh -->\n<g id=\"node7\" class=\"node\">\n<title>137076954510608tanh</title>\n<ellipse fill=\"none\" stroke=\"black\" cx=\"1299\" cy=\"-127.5\" rx=\"27\" ry=\"18\"/>\n<text text-anchor=\"middle\" x=\"1299\" y=\"-123.8\" font-family=\"Times,serif\" font-size=\"14.00\">tanh</text>\n</g>\n<!-- 137076954510608tanh&#45;&gt;137076954510608 -->\n<g id=\"edge3\" class=\"edge\">\n<title>137076954510608tanh&#45;&gt;137076954510608</title>\n<path fill=\"none\" stroke=\"black\" d=\"M1326.26,-127.5C1333.77,-127.5 1342.46,-127.5 1351.72,-127.5\"/>\n<polygon fill=\"black\" stroke=\"black\" points=\"1351.97,-131 1361.97,-127.5 1351.97,-124 1351.97,-131\"/>\n</g>\n<!-- 137076954736400 -->\n<g id=\"node8\" class=\"node\">\n<title>137076954736400</title>\n<polygon fill=\"none\" stroke=\"black\" points=\"1051,-109.5 1051,-145.5 1236,-145.5 1236,-109.5 1051,-109.5\"/>\n<text text-anchor=\"middle\" x=\"1062.5\" y=\"-123.8\" font-family=\"Times,serif\" font-size=\"14.00\">n</text>\n<polyline fill=\"none\" stroke=\"black\" points=\"1074,-109.5 1074,-145.5 \"/>\n<text text-anchor=\"middle\" x=\"1114\" y=\"-123.8\" font-family=\"Times,serif\" font-size=\"14.00\">data 0.8814</text>\n<polyline fill=\"none\" stroke=\"black\" points=\"1154,-109.5 1154,-145.5 \"/>\n<text text-anchor=\"middle\" x=\"1195\" y=\"-123.8\" font-family=\"Times,serif\" font-size=\"14.00\">grad 0.5000</text>\n</g>\n<!-- 137076954736400&#45;&gt;137076954510608tanh -->\n<g id=\"edge11\" class=\"edge\">\n<title>137076954736400&#45;&gt;137076954510608tanh</title>\n<path fill=\"none\" stroke=\"black\" d=\"M1236.01,-127.5C1245.01,-127.5 1253.74,-127.5 1261.66,-127.5\"/>\n<polygon fill=\"black\" stroke=\"black\" points=\"1261.91,-131 1271.91,-127.5 1261.91,-124 1261.91,-131\"/>\n</g>\n<!-- 137076954736400+&#45;&gt;137076954736400 -->\n<g id=\"edge4\" class=\"edge\">\n<title>137076954736400+&#45;&gt;137076954736400</title>\n<path fill=\"none\" stroke=\"black\" d=\"M1015.04,-127.5C1022.58,-127.5 1031.3,-127.5 1040.57,-127.5\"/>\n<polygon fill=\"black\" stroke=\"black\" points=\"1040.81,-131 1050.81,-127.5 1040.81,-124 1040.81,-131\"/>\n</g>\n<!-- 137076954742032 -->\n<g id=\"node10\" class=\"node\">\n<title>137076954742032</title>\n<polygon fill=\"none\" stroke=\"black\" points=\"703,-137.5 703,-173.5 888,-173.5 888,-137.5 703,-137.5\"/>\n<text text-anchor=\"middle\" x=\"714.5\" y=\"-151.8\" font-family=\"Times,serif\" font-size=\"14.00\">b</text>\n<polyline fill=\"none\" stroke=\"black\" points=\"726,-137.5 726,-173.5 \"/>\n<text text-anchor=\"middle\" x=\"766\" y=\"-151.8\" font-family=\"Times,serif\" font-size=\"14.00\">data 6.8814</text>\n<polyline fill=\"none\" stroke=\"black\" points=\"806,-137.5 806,-173.5 \"/>\n<text text-anchor=\"middle\" x=\"847\" y=\"-151.8\" font-family=\"Times,serif\" font-size=\"14.00\">grad 0.5000</text>\n</g>\n<!-- 137076954742032&#45;&gt;137076954736400+ -->\n<g id=\"edge10\" class=\"edge\">\n<title>137076954742032&#45;&gt;137076954736400+</title>\n<path fill=\"none\" stroke=\"black\" d=\"M888.12,-142.03C910.59,-138.73 933.33,-135.39 951.33,-132.74\"/>\n<polygon fill=\"black\" stroke=\"black\" points=\"951.96,-136.19 961.34,-131.27 950.94,-129.26 951.96,-136.19\"/>\n</g>\n<!-- 137076956166480 -->\n<g id=\"node11\" class=\"node\">\n<title>137076956166480</title>\n<polygon fill=\"none\" stroke=\"black\" points=\"0,-110.5 0,-146.5 200,-146.5 200,-110.5 0,-110.5\"/>\n<text text-anchor=\"middle\" x=\"16.5\" y=\"-124.8\" font-family=\"Times,serif\" font-size=\"14.00\">w1</text>\n<polyline fill=\"none\" stroke=\"black\" points=\"33,-110.5 33,-146.5 \"/>\n<text text-anchor=\"middle\" x=\"75.5\" y=\"-124.8\" font-family=\"Times,serif\" font-size=\"14.00\">data &#45;3.0000</text>\n<polyline fill=\"none\" stroke=\"black\" points=\"118,-110.5 118,-146.5 \"/>\n<text text-anchor=\"middle\" x=\"159\" y=\"-124.8\" font-family=\"Times,serif\" font-size=\"14.00\">grad 1.0000</text>\n</g>\n<!-- 137076956166480&#45;&gt;137076954728080* -->\n<g id=\"edge7\" class=\"edge\">\n<title>137076956166480&#45;&gt;137076954728080*</title>\n<path fill=\"none\" stroke=\"black\" d=\"M200.21,-128.5C209.2,-128.5 217.86,-128.5 225.7,-128.5\"/>\n<polygon fill=\"black\" stroke=\"black\" points=\"225.85,-132 235.85,-128.5 225.85,-125 225.85,-132\"/>\n</g>\n<!-- 137076954738000 -->\n<g id=\"node12\" class=\"node\">\n<title>137076954738000</title>\n<polygon fill=\"none\" stroke=\"black\" points=\"2.5,-55.5 2.5,-91.5 197.5,-91.5 197.5,-55.5 2.5,-55.5\"/>\n<text text-anchor=\"middle\" x=\"19\" y=\"-69.8\" font-family=\"Times,serif\" font-size=\"14.00\">w2</text>\n<polyline fill=\"none\" stroke=\"black\" points=\"35.5,-55.5 35.5,-91.5 \"/>\n<text text-anchor=\"middle\" x=\"75.5\" y=\"-69.8\" font-family=\"Times,serif\" font-size=\"14.00\">data 1.0000</text>\n<polyline fill=\"none\" stroke=\"black\" points=\"115.5,-55.5 115.5,-91.5 \"/>\n<text text-anchor=\"middle\" x=\"156.5\" y=\"-69.8\" font-family=\"Times,serif\" font-size=\"14.00\">grad 0.0000</text>\n</g>\n<!-- 137076954737616* -->\n<g id=\"node15\" class=\"node\">\n<title>137076954737616*</title>\n<ellipse fill=\"none\" stroke=\"black\" cx=\"263\" cy=\"-73.5\" rx=\"27\" ry=\"18\"/>\n<text text-anchor=\"middle\" x=\"263\" y=\"-69.8\" font-family=\"Times,serif\" font-size=\"14.00\">*</text>\n</g>\n<!-- 137076954738000&#45;&gt;137076954737616* -->\n<g id=\"edge6\" class=\"edge\">\n<title>137076954738000&#45;&gt;137076954737616*</title>\n<path fill=\"none\" stroke=\"black\" d=\"M197.91,-73.5C207.65,-73.5 217.05,-73.5 225.52,-73.5\"/>\n<polygon fill=\"black\" stroke=\"black\" points=\"225.7,-77 235.7,-73.5 225.7,-70 225.7,-77\"/>\n</g>\n<!-- 137076956153680 -->\n<g id=\"node13\" class=\"node\">\n<title>137076956153680</title>\n<polygon fill=\"none\" stroke=\"black\" points=\"4,-0.5 4,-36.5 196,-36.5 196,-0.5 4,-0.5\"/>\n<text text-anchor=\"middle\" x=\"19\" y=\"-14.8\" font-family=\"Times,serif\" font-size=\"14.00\">x2</text>\n<polyline fill=\"none\" stroke=\"black\" points=\"34,-0.5 34,-36.5 \"/>\n<text text-anchor=\"middle\" x=\"74\" y=\"-14.8\" font-family=\"Times,serif\" font-size=\"14.00\">data 0.0000</text>\n<polyline fill=\"none\" stroke=\"black\" points=\"114,-0.5 114,-36.5 \"/>\n<text text-anchor=\"middle\" x=\"155\" y=\"-14.8\" font-family=\"Times,serif\" font-size=\"14.00\">grad 0.5000</text>\n</g>\n<!-- 137076956153680&#45;&gt;137076954737616* -->\n<g id=\"edge8\" class=\"edge\">\n<title>137076956153680&#45;&gt;137076954737616*</title>\n<path fill=\"none\" stroke=\"black\" d=\"M169.28,-36.5C179.65,-39.61 190.16,-42.98 200,-46.5 210.28,-50.17 221.28,-54.74 231.11,-59.07\"/>\n<polygon fill=\"black\" stroke=\"black\" points=\"229.93,-62.37 240.48,-63.27 232.79,-55.99 229.93,-62.37\"/>\n</g>\n<!-- 137076954737616 -->\n<g id=\"node14\" class=\"node\">\n<title>137076954737616</title>\n<polygon fill=\"none\" stroke=\"black\" points=\"328.5,-55.5 328.5,-91.5 537.5,-91.5 537.5,-55.5 328.5,-55.5\"/>\n<text text-anchor=\"middle\" x=\"352\" y=\"-69.8\" font-family=\"Times,serif\" font-size=\"14.00\">x2w2</text>\n<polyline fill=\"none\" stroke=\"black\" points=\"375.5,-55.5 375.5,-91.5 \"/>\n<text text-anchor=\"middle\" x=\"415.5\" y=\"-69.8\" font-family=\"Times,serif\" font-size=\"14.00\">data 0.0000</text>\n<polyline fill=\"none\" stroke=\"black\" points=\"455.5,-55.5 455.5,-91.5 \"/>\n<text text-anchor=\"middle\" x=\"496.5\" y=\"-69.8\" font-family=\"Times,serif\" font-size=\"14.00\">grad 0.5000</text>\n</g>\n<!-- 137076954737616&#45;&gt;137076954730512+ -->\n<g id=\"edge13\" class=\"edge\">\n<title>137076954737616&#45;&gt;137076954730512+</title>\n<path fill=\"none\" stroke=\"black\" d=\"M537.53,-90.14C547.8,-91.79 557.66,-93.37 566.45,-94.79\"/>\n<polygon fill=\"black\" stroke=\"black\" points=\"566.16,-98.28 576.59,-96.42 567.27,-91.37 566.16,-98.28\"/>\n</g>\n<!-- 137076954737616*&#45;&gt;137076954737616 -->\n<g id=\"edge5\" class=\"edge\">\n<title>137076954737616*&#45;&gt;137076954737616</title>\n<path fill=\"none\" stroke=\"black\" d=\"M290.25,-73.5C298.43,-73.5 308.03,-73.5 318.31,-73.5\"/>\n<polygon fill=\"black\" stroke=\"black\" points=\"318.35,-77 328.35,-73.5 318.35,-70 318.35,-77\"/>\n</g>\n</g>\n</svg>\n",
            "text/plain": [
              "<graphviz.graphs.Digraph at 0x7cabb7318710>"
            ]
          },
          "metadata": {},
          "execution_count": 69
        }
      ]
    },
    {
      "cell_type": "code",
      "source": [
        "# Forward and Back propogation of a neural network\n",
        "\n",
        "# Inputs\n",
        "x1 = Value(2.0, label='x1')\n",
        "x2 = Value(0.0, label='x2')\n",
        "\n",
        "# Weights\n",
        "w1 = Value(-3.0, label='w1')\n",
        "w2 = Value(1.0, label='w2')\n",
        "\n",
        "# Bias\n",
        "b = Value(6.8813735870195432, label='b')\n",
        "\n",
        "x1w1 = x1 * w1; x1w1.label = 'x1w1'\n",
        "x2w2 = x2 * w2; x2w2.label = 'x2w2'\n",
        "\n",
        "x1w1x2w2 = x1w1 + x2w2; x1w1x2w2.label = 'x1w1 + x2w2'\n",
        "n = x1w1x2w2 + b; n.label = 'n'\n",
        "\n",
        "e = (2*n).exp()\n",
        "e.label = 'e'\n",
        "out = (e - 1) / (e + 1)\n",
        "out.label = 'out'\n",
        "\n",
        "out.backward() # Uses topo sort internally\n",
        "\n",
        "draw_dot(out)"
      ],
      "metadata": {
        "colab": {
          "base_uri": "https://localhost:8080/",
          "height": 360
        },
        "id": "9DZ61nQfgxcE",
        "outputId": "cf2124f7-d0f3-442e-f9ae-c9d29fe6499b"
      },
      "execution_count": 74,
      "outputs": [
        {
          "output_type": "execute_result",
          "data": {
            "image/svg+xml": "<?xml version=\"1.0\" encoding=\"UTF-8\" standalone=\"no\"?>\n<!DOCTYPE svg PUBLIC \"-//W3C//DTD SVG 1.1//EN\"\n \"http://www.w3.org/Graphics/SVG/1.1/DTD/svg11.dtd\">\n<!-- Generated by graphviz version 2.43.0 (0)\n -->\n<!-- Title: %3 Pages: 1 -->\n<svg width=\"2935pt\" height=\"239pt\"\n viewBox=\"0.00 0.00 2935.00 239.00\" xmlns=\"http://www.w3.org/2000/svg\" xmlns:xlink=\"http://www.w3.org/1999/xlink\">\n<g id=\"graph0\" class=\"graph\" transform=\"scale(1 1) rotate(0) translate(4 235)\">\n<title>%3</title>\n<polygon fill=\"white\" stroke=\"transparent\" points=\"-4,4 -4,-235 2931,-235 2931,4 -4,4\"/>\n<!-- 137076953405456 -->\n<g id=\"node1\" class=\"node\">\n<title>137076953405456</title>\n<polygon fill=\"none\" stroke=\"black\" points=\"2205,-27.5 2205,-63.5 2387,-63.5 2387,-27.5 2205,-27.5\"/>\n<text text-anchor=\"middle\" x=\"2215\" y=\"-41.8\" font-family=\"Times,serif\" font-size=\"14.00\"> </text>\n<polyline fill=\"none\" stroke=\"black\" points=\"2225,-27.5 2225,-63.5 \"/>\n<text text-anchor=\"middle\" x=\"2265\" y=\"-41.8\" font-family=\"Times,serif\" font-size=\"14.00\">data 4.8284</text>\n<polyline fill=\"none\" stroke=\"black\" points=\"2305,-27.5 2305,-63.5 \"/>\n<text text-anchor=\"middle\" x=\"2346\" y=\"-41.8\" font-family=\"Times,serif\" font-size=\"14.00\">grad 0.1464</text>\n</g>\n<!-- 137076953414032* -->\n<g id=\"node27\" class=\"node\">\n<title>137076953414032*</title>\n<ellipse fill=\"none\" stroke=\"black\" cx=\"2668\" cy=\"-72.5\" rx=\"27\" ry=\"18\"/>\n<text text-anchor=\"middle\" x=\"2668\" y=\"-68.8\" font-family=\"Times,serif\" font-size=\"14.00\">*</text>\n</g>\n<!-- 137076953405456&#45;&gt;137076953414032* -->\n<g id=\"edge22\" class=\"edge\">\n<title>137076953405456&#45;&gt;137076953414032*</title>\n<path fill=\"none\" stroke=\"black\" d=\"M2387.04,-52.07C2465.41,-57.79 2574.98,-65.79 2630.96,-69.87\"/>\n<polygon fill=\"black\" stroke=\"black\" points=\"2630.87,-73.37 2641.1,-70.61 2631.38,-66.39 2630.87,-73.37\"/>\n</g>\n<!-- 137076953405456+ -->\n<g id=\"node2\" class=\"node\">\n<title>137076953405456+</title>\n<ellipse fill=\"none\" stroke=\"black\" cx=\"1920\" cy=\"-45.5\" rx=\"27\" ry=\"18\"/>\n<text text-anchor=\"middle\" x=\"1920\" y=\"-41.8\" font-family=\"Times,serif\" font-size=\"14.00\">+</text>\n</g>\n<!-- 137076953405456+&#45;&gt;137076953405456 -->\n<g id=\"edge1\" class=\"edge\">\n<title>137076953405456+&#45;&gt;137076953405456</title>\n<path fill=\"none\" stroke=\"black\" d=\"M1947,-45.5C1997.46,-45.5 2111.06,-45.5 2194.81,-45.5\"/>\n<polygon fill=\"black\" stroke=\"black\" points=\"2194.87,-49 2204.87,-45.5 2194.87,-42 2194.87,-49\"/>\n</g>\n<!-- 137076953414672 -->\n<g id=\"node3\" class=\"node\">\n<title>137076953414672</title>\n<polygon fill=\"none\" stroke=\"black\" points=\"666,-111.5 666,-147.5 925,-147.5 925,-111.5 666,-111.5\"/>\n<text text-anchor=\"middle\" x=\"712\" y=\"-125.8\" font-family=\"Times,serif\" font-size=\"14.00\">x1w1 + x2w2</text>\n<polyline fill=\"none\" stroke=\"black\" points=\"758,-111.5 758,-147.5 \"/>\n<text text-anchor=\"middle\" x=\"800.5\" y=\"-125.8\" font-family=\"Times,serif\" font-size=\"14.00\">data &#45;6.0000</text>\n<polyline fill=\"none\" stroke=\"black\" points=\"843,-111.5 843,-147.5 \"/>\n<text text-anchor=\"middle\" x=\"884\" y=\"-125.8\" font-family=\"Times,serif\" font-size=\"14.00\">grad 0.5000</text>\n</g>\n<!-- 137076953401040+ -->\n<g id=\"node19\" class=\"node\">\n<title>137076953401040+</title>\n<ellipse fill=\"none\" stroke=\"black\" cx=\"988\" cy=\"-101.5\" rx=\"27\" ry=\"18\"/>\n<text text-anchor=\"middle\" x=\"988\" y=\"-97.8\" font-family=\"Times,serif\" font-size=\"14.00\">+</text>\n</g>\n<!-- 137076953414672&#45;&gt;137076953401040+ -->\n<g id=\"edge11\" class=\"edge\">\n<title>137076953414672&#45;&gt;137076953401040+</title>\n<path fill=\"none\" stroke=\"black\" d=\"M919.03,-111.49C930.7,-109.77 941.77,-108.15 951.46,-106.72\"/>\n<polygon fill=\"black\" stroke=\"black\" points=\"952.01,-110.18 961.4,-105.26 951,-103.25 952.01,-110.18\"/>\n</g>\n<!-- 137076953414672+ -->\n<g id=\"node4\" class=\"node\">\n<title>137076953414672+</title>\n<ellipse fill=\"none\" stroke=\"black\" cx=\"603\" cy=\"-129.5\" rx=\"27\" ry=\"18\"/>\n<text text-anchor=\"middle\" x=\"603\" y=\"-125.8\" font-family=\"Times,serif\" font-size=\"14.00\">+</text>\n</g>\n<!-- 137076953414672+&#45;&gt;137076953414672 -->\n<g id=\"edge2\" class=\"edge\">\n<title>137076953414672+&#45;&gt;137076953414672</title>\n<path fill=\"none\" stroke=\"black\" d=\"M630.09,-129.5C637.58,-129.5 646.3,-129.5 655.75,-129.5\"/>\n<polygon fill=\"black\" stroke=\"black\" points=\"655.84,-133 665.84,-129.5 655.84,-126 655.84,-133\"/>\n</g>\n<!-- 137076953409488 -->\n<g id=\"node5\" class=\"node\">\n<title>137076953409488</title>\n<polygon fill=\"none\" stroke=\"black\" points=\"326,-139.5 326,-175.5 540,-175.5 540,-139.5 326,-139.5\"/>\n<text text-anchor=\"middle\" x=\"349.5\" y=\"-153.8\" font-family=\"Times,serif\" font-size=\"14.00\">x1w1</text>\n<polyline fill=\"none\" stroke=\"black\" points=\"373,-139.5 373,-175.5 \"/>\n<text text-anchor=\"middle\" x=\"415.5\" y=\"-153.8\" font-family=\"Times,serif\" font-size=\"14.00\">data &#45;6.0000</text>\n<polyline fill=\"none\" stroke=\"black\" points=\"458,-139.5 458,-175.5 \"/>\n<text text-anchor=\"middle\" x=\"499\" y=\"-153.8\" font-family=\"Times,serif\" font-size=\"14.00\">grad 0.5000</text>\n</g>\n<!-- 137076953409488&#45;&gt;137076953414672+ -->\n<g id=\"edge12\" class=\"edge\">\n<title>137076953409488&#45;&gt;137076953414672+</title>\n<path fill=\"none\" stroke=\"black\" d=\"M540.4,-139.77C549.72,-138.21 558.65,-136.72 566.68,-135.39\"/>\n<polygon fill=\"black\" stroke=\"black\" points=\"567.38,-138.82 576.66,-133.72 566.22,-131.91 567.38,-138.82\"/>\n</g>\n<!-- 137076953409488* -->\n<g id=\"node6\" class=\"node\">\n<title>137076953409488*</title>\n<ellipse fill=\"none\" stroke=\"black\" cx=\"263\" cy=\"-157.5\" rx=\"27\" ry=\"18\"/>\n<text text-anchor=\"middle\" x=\"263\" y=\"-153.8\" font-family=\"Times,serif\" font-size=\"14.00\">*</text>\n</g>\n<!-- 137076953409488*&#45;&gt;137076953409488 -->\n<g id=\"edge3\" class=\"edge\">\n<title>137076953409488*&#45;&gt;137076953409488</title>\n<path fill=\"none\" stroke=\"black\" d=\"M290.25,-157.5C297.7,-157.5 306.34,-157.5 315.59,-157.5\"/>\n<polygon fill=\"black\" stroke=\"black\" points=\"315.84,-161 325.84,-157.5 315.84,-154 315.84,-161\"/>\n</g>\n<!-- 137076953400912 -->\n<g id=\"node7\" class=\"node\">\n<title>137076953400912</title>\n<polygon fill=\"none\" stroke=\"black\" points=\"328.5,-84.5 328.5,-120.5 537.5,-120.5 537.5,-84.5 328.5,-84.5\"/>\n<text text-anchor=\"middle\" x=\"352\" y=\"-98.8\" font-family=\"Times,serif\" font-size=\"14.00\">x2w2</text>\n<polyline fill=\"none\" stroke=\"black\" points=\"375.5,-84.5 375.5,-120.5 \"/>\n<text text-anchor=\"middle\" x=\"415.5\" y=\"-98.8\" font-family=\"Times,serif\" font-size=\"14.00\">data 0.0000</text>\n<polyline fill=\"none\" stroke=\"black\" points=\"455.5,-84.5 455.5,-120.5 \"/>\n<text text-anchor=\"middle\" x=\"496.5\" y=\"-98.8\" font-family=\"Times,serif\" font-size=\"14.00\">grad 0.5000</text>\n</g>\n<!-- 137076953400912&#45;&gt;137076953414672+ -->\n<g id=\"edge14\" class=\"edge\">\n<title>137076953400912&#45;&gt;137076953414672+</title>\n<path fill=\"none\" stroke=\"black\" d=\"M537.53,-119.14C547.8,-120.79 557.66,-122.37 566.45,-123.79\"/>\n<polygon fill=\"black\" stroke=\"black\" points=\"566.16,-127.28 576.59,-125.42 567.27,-120.37 566.16,-127.28\"/>\n</g>\n<!-- 137076953400912* -->\n<g id=\"node8\" class=\"node\">\n<title>137076953400912*</title>\n<ellipse fill=\"none\" stroke=\"black\" cx=\"263\" cy=\"-102.5\" rx=\"27\" ry=\"18\"/>\n<text text-anchor=\"middle\" x=\"263\" y=\"-98.8\" font-family=\"Times,serif\" font-size=\"14.00\">*</text>\n</g>\n<!-- 137076953400912*&#45;&gt;137076953400912 -->\n<g id=\"edge4\" class=\"edge\">\n<title>137076953400912*&#45;&gt;137076953400912</title>\n<path fill=\"none\" stroke=\"black\" d=\"M290.25,-102.5C298.43,-102.5 308.03,-102.5 318.31,-102.5\"/>\n<polygon fill=\"black\" stroke=\"black\" points=\"318.35,-106 328.35,-102.5 318.35,-99 318.35,-106\"/>\n</g>\n<!-- 137076953402960 -->\n<g id=\"node9\" class=\"node\">\n<title>137076953402960</title>\n<polygon fill=\"none\" stroke=\"black\" points=\"4,-84.5 4,-120.5 196,-120.5 196,-84.5 4,-84.5\"/>\n<text text-anchor=\"middle\" x=\"19\" y=\"-98.8\" font-family=\"Times,serif\" font-size=\"14.00\">x2</text>\n<polyline fill=\"none\" stroke=\"black\" points=\"34,-84.5 34,-120.5 \"/>\n<text text-anchor=\"middle\" x=\"74\" y=\"-98.8\" font-family=\"Times,serif\" font-size=\"14.00\">data 0.0000</text>\n<polyline fill=\"none\" stroke=\"black\" points=\"114,-84.5 114,-120.5 \"/>\n<text text-anchor=\"middle\" x=\"155\" y=\"-98.8\" font-family=\"Times,serif\" font-size=\"14.00\">grad 0.5000</text>\n</g>\n<!-- 137076953402960&#45;&gt;137076953400912* -->\n<g id=\"edge21\" class=\"edge\">\n<title>137076953402960&#45;&gt;137076953400912*</title>\n<path fill=\"none\" stroke=\"black\" d=\"M196.05,-102.5C206.52,-102.5 216.65,-102.5 225.71,-102.5\"/>\n<polygon fill=\"black\" stroke=\"black\" points=\"225.79,-106 235.79,-102.5 225.79,-99 225.79,-106\"/>\n</g>\n<!-- 137076953405392 -->\n<g id=\"node10\" class=\"node\">\n<title>137076953405392</title>\n<polygon fill=\"none\" stroke=\"black\" points=\"2.5,-29.5 2.5,-65.5 197.5,-65.5 197.5,-29.5 2.5,-29.5\"/>\n<text text-anchor=\"middle\" x=\"19\" y=\"-43.8\" font-family=\"Times,serif\" font-size=\"14.00\">w2</text>\n<polyline fill=\"none\" stroke=\"black\" points=\"35.5,-29.5 35.5,-65.5 \"/>\n<text text-anchor=\"middle\" x=\"75.5\" y=\"-43.8\" font-family=\"Times,serif\" font-size=\"14.00\">data 1.0000</text>\n<polyline fill=\"none\" stroke=\"black\" points=\"115.5,-29.5 115.5,-65.5 \"/>\n<text text-anchor=\"middle\" x=\"156.5\" y=\"-43.8\" font-family=\"Times,serif\" font-size=\"14.00\">grad 0.0000</text>\n</g>\n<!-- 137076953405392&#45;&gt;137076953400912* -->\n<g id=\"edge17\" class=\"edge\">\n<title>137076953405392&#45;&gt;137076953400912*</title>\n<path fill=\"none\" stroke=\"black\" d=\"M172.53,-65.56C181.84,-68.33 191.2,-71.33 200,-74.5 210.53,-78.29 221.75,-83.1 231.72,-87.67\"/>\n<polygon fill=\"black\" stroke=\"black\" points=\"230.28,-90.86 240.82,-91.93 233.25,-84.52 230.28,-90.86\"/>\n</g>\n<!-- 137076953400976 -->\n<g id=\"node11\" class=\"node\">\n<title>137076953400976</title>\n<polygon fill=\"none\" stroke=\"black\" points=\"1362,-55.5 1362,-91.5 1544,-91.5 1544,-55.5 1362,-55.5\"/>\n<text text-anchor=\"middle\" x=\"1372\" y=\"-69.8\" font-family=\"Times,serif\" font-size=\"14.00\"> </text>\n<polyline fill=\"none\" stroke=\"black\" points=\"1382,-55.5 1382,-91.5 \"/>\n<text text-anchor=\"middle\" x=\"1422\" y=\"-69.8\" font-family=\"Times,serif\" font-size=\"14.00\">data 1.7627</text>\n<polyline fill=\"none\" stroke=\"black\" points=\"1462,-55.5 1462,-91.5 \"/>\n<text text-anchor=\"middle\" x=\"1503\" y=\"-69.8\" font-family=\"Times,serif\" font-size=\"14.00\">grad 0.2500</text>\n</g>\n<!-- 137076953411920exp -->\n<g id=\"node24\" class=\"node\">\n<title>137076953411920exp</title>\n<ellipse fill=\"none\" stroke=\"black\" cx=\"1607\" cy=\"-73.5\" rx=\"27\" ry=\"18\"/>\n<text text-anchor=\"middle\" x=\"1607\" y=\"-69.8\" font-family=\"Times,serif\" font-size=\"14.00\">exp</text>\n</g>\n<!-- 137076953400976&#45;&gt;137076953411920exp -->\n<g id=\"edge18\" class=\"edge\">\n<title>137076953400976&#45;&gt;137076953411920exp</title>\n<path fill=\"none\" stroke=\"black\" d=\"M1544.18,-73.5C1553.14,-73.5 1561.83,-73.5 1569.73,-73.5\"/>\n<polygon fill=\"black\" stroke=\"black\" points=\"1569.96,-77 1579.96,-73.5 1569.96,-70 1569.96,-77\"/>\n</g>\n<!-- 137076953400976* -->\n<g id=\"node12\" class=\"node\">\n<title>137076953400976*</title>\n<ellipse fill=\"none\" stroke=\"black\" cx=\"1299\" cy=\"-73.5\" rx=\"27\" ry=\"18\"/>\n<text text-anchor=\"middle\" x=\"1299\" y=\"-69.8\" font-family=\"Times,serif\" font-size=\"14.00\">*</text>\n</g>\n<!-- 137076953400976*&#45;&gt;137076953400976 -->\n<g id=\"edge5\" class=\"edge\">\n<title>137076953400976*&#45;&gt;137076953400976</title>\n<path fill=\"none\" stroke=\"black\" d=\"M1326.13,-73.5C1333.67,-73.5 1342.39,-73.5 1351.64,-73.5\"/>\n<polygon fill=\"black\" stroke=\"black\" points=\"1351.87,-77 1361.87,-73.5 1351.87,-70 1351.87,-77\"/>\n</g>\n<!-- 137076953407120 -->\n<g id=\"node13\" class=\"node\">\n<title>137076953407120</title>\n<polygon fill=\"none\" stroke=\"black\" points=\"0,-194.5 0,-230.5 200,-230.5 200,-194.5 0,-194.5\"/>\n<text text-anchor=\"middle\" x=\"16.5\" y=\"-208.8\" font-family=\"Times,serif\" font-size=\"14.00\">w1</text>\n<polyline fill=\"none\" stroke=\"black\" points=\"33,-194.5 33,-230.5 \"/>\n<text text-anchor=\"middle\" x=\"75.5\" y=\"-208.8\" font-family=\"Times,serif\" font-size=\"14.00\">data &#45;3.0000</text>\n<polyline fill=\"none\" stroke=\"black\" points=\"118,-194.5 118,-230.5 \"/>\n<text text-anchor=\"middle\" x=\"159\" y=\"-208.8\" font-family=\"Times,serif\" font-size=\"14.00\">grad 1.0000</text>\n</g>\n<!-- 137076953407120&#45;&gt;137076953409488* -->\n<g id=\"edge26\" class=\"edge\">\n<title>137076953407120&#45;&gt;137076953409488*</title>\n<path fill=\"none\" stroke=\"black\" d=\"M172.53,-194.44C181.84,-191.67 191.2,-188.67 200,-185.5 210.53,-181.71 221.75,-176.9 231.72,-172.33\"/>\n<polygon fill=\"black\" stroke=\"black\" points=\"233.25,-175.48 240.82,-168.07 230.28,-169.14 233.25,-175.48\"/>\n</g>\n<!-- 137076953415248 -->\n<g id=\"node14\" class=\"node\">\n<title>137076953415248</title>\n<polygon fill=\"none\" stroke=\"black\" points=\"1983,-82.5 1983,-118.5 2169,-118.5 2169,-82.5 1983,-82.5\"/>\n<text text-anchor=\"middle\" x=\"1993\" y=\"-96.8\" font-family=\"Times,serif\" font-size=\"14.00\"> </text>\n<polyline fill=\"none\" stroke=\"black\" points=\"2003,-82.5 2003,-118.5 \"/>\n<text text-anchor=\"middle\" x=\"2043\" y=\"-96.8\" font-family=\"Times,serif\" font-size=\"14.00\">data 6.8284</text>\n<polyline fill=\"none\" stroke=\"black\" points=\"2083,-82.5 2083,-118.5 \"/>\n<text text-anchor=\"middle\" x=\"2126\" y=\"-96.8\" font-family=\"Times,serif\" font-size=\"14.00\">grad &#45;0.1036</text>\n</g>\n<!-- 137076953407376**&#45;1 -->\n<g id=\"node21\" class=\"node\">\n<title>137076953407376**&#45;1</title>\n<ellipse fill=\"none\" stroke=\"black\" cx=\"2296\" cy=\"-100.5\" rx=\"27\" ry=\"18\"/>\n<text text-anchor=\"middle\" x=\"2296\" y=\"-96.8\" font-family=\"Times,serif\" font-size=\"14.00\">**&#45;1</text>\n</g>\n<!-- 137076953415248&#45;&gt;137076953407376**&#45;1 -->\n<g id=\"edge24\" class=\"edge\">\n<title>137076953415248&#45;&gt;137076953407376**&#45;1</title>\n<path fill=\"none\" stroke=\"black\" d=\"M2169.14,-100.5C2200.72,-100.5 2234.24,-100.5 2258.74,-100.5\"/>\n<polygon fill=\"black\" stroke=\"black\" points=\"2258.98,-104 2268.98,-100.5 2258.98,-97 2258.98,-104\"/>\n</g>\n<!-- 137076953415248+ -->\n<g id=\"node15\" class=\"node\">\n<title>137076953415248+</title>\n<ellipse fill=\"none\" stroke=\"black\" cx=\"1920\" cy=\"-100.5\" rx=\"27\" ry=\"18\"/>\n<text text-anchor=\"middle\" x=\"1920\" y=\"-96.8\" font-family=\"Times,serif\" font-size=\"14.00\">+</text>\n</g>\n<!-- 137076953415248+&#45;&gt;137076953415248 -->\n<g id=\"edge6\" class=\"edge\">\n<title>137076953415248+&#45;&gt;137076953415248</title>\n<path fill=\"none\" stroke=\"black\" d=\"M1947.12,-100.5C1954.62,-100.5 1963.29,-100.5 1972.5,-100.5\"/>\n<polygon fill=\"black\" stroke=\"black\" points=\"1972.69,-104 1982.69,-100.5 1972.69,-97 1972.69,-104\"/>\n</g>\n<!-- 137076953403024 -->\n<g id=\"node16\" class=\"node\">\n<title>137076953403024</title>\n<polygon fill=\"none\" stroke=\"black\" points=\"1670.5,-110.5 1670.5,-146.5 1856.5,-146.5 1856.5,-110.5 1670.5,-110.5\"/>\n<text text-anchor=\"middle\" x=\"1680.5\" y=\"-124.8\" font-family=\"Times,serif\" font-size=\"14.00\"> </text>\n<polyline fill=\"none\" stroke=\"black\" points=\"1690.5,-110.5 1690.5,-146.5 \"/>\n<text text-anchor=\"middle\" x=\"1730.5\" y=\"-124.8\" font-family=\"Times,serif\" font-size=\"14.00\">data 1.0000</text>\n<polyline fill=\"none\" stroke=\"black\" points=\"1770.5,-110.5 1770.5,-146.5 \"/>\n<text text-anchor=\"middle\" x=\"1813.5\" y=\"-124.8\" font-family=\"Times,serif\" font-size=\"14.00\">grad &#45;0.1036</text>\n</g>\n<!-- 137076953403024&#45;&gt;137076953415248+ -->\n<g id=\"edge20\" class=\"edge\">\n<title>137076953403024&#45;&gt;137076953415248+</title>\n<path fill=\"none\" stroke=\"black\" d=\"M1856.6,-111.81C1866.15,-110.08 1875.37,-108.41 1883.68,-106.9\"/>\n<polygon fill=\"black\" stroke=\"black\" points=\"1884.43,-110.32 1893.65,-105.09 1883.18,-103.43 1884.43,-110.32\"/>\n</g>\n<!-- 137076953415376 -->\n<g id=\"node17\" class=\"node\">\n<title>137076953415376</title>\n<polygon fill=\"none\" stroke=\"black\" points=\"1670,-0.5 1670,-36.5 1857,-36.5 1857,-0.5 1670,-0.5\"/>\n<text text-anchor=\"middle\" x=\"1680\" y=\"-14.8\" font-family=\"Times,serif\" font-size=\"14.00\"> </text>\n<polyline fill=\"none\" stroke=\"black\" points=\"1690,-0.5 1690,-36.5 \"/>\n<text text-anchor=\"middle\" x=\"1732.5\" y=\"-14.8\" font-family=\"Times,serif\" font-size=\"14.00\">data &#45;1.0000</text>\n<polyline fill=\"none\" stroke=\"black\" points=\"1775,-0.5 1775,-36.5 \"/>\n<text text-anchor=\"middle\" x=\"1816\" y=\"-14.8\" font-family=\"Times,serif\" font-size=\"14.00\">grad 0.1464</text>\n</g>\n<!-- 137076953415376&#45;&gt;137076953405456+ -->\n<g id=\"edge27\" class=\"edge\">\n<title>137076953415376&#45;&gt;137076953405456+</title>\n<path fill=\"none\" stroke=\"black\" d=\"M1857.05,-34.67C1866.34,-36.3 1875.33,-37.87 1883.44,-39.29\"/>\n<polygon fill=\"black\" stroke=\"black\" points=\"1883.1,-42.78 1893.55,-41.05 1884.3,-35.88 1883.1,-42.78\"/>\n</g>\n<!-- 137076953401040 -->\n<g id=\"node18\" class=\"node\">\n<title>137076953401040</title>\n<polygon fill=\"none\" stroke=\"black\" points=\"1051,-83.5 1051,-119.5 1236,-119.5 1236,-83.5 1051,-83.5\"/>\n<text text-anchor=\"middle\" x=\"1062.5\" y=\"-97.8\" font-family=\"Times,serif\" font-size=\"14.00\">n</text>\n<polyline fill=\"none\" stroke=\"black\" points=\"1074,-83.5 1074,-119.5 \"/>\n<text text-anchor=\"middle\" x=\"1114\" y=\"-97.8\" font-family=\"Times,serif\" font-size=\"14.00\">data 0.8814</text>\n<polyline fill=\"none\" stroke=\"black\" points=\"1154,-83.5 1154,-119.5 \"/>\n<text text-anchor=\"middle\" x=\"1195\" y=\"-97.8\" font-family=\"Times,serif\" font-size=\"14.00\">grad 0.5000</text>\n</g>\n<!-- 137076953401040&#45;&gt;137076953400976* -->\n<g id=\"edge13\" class=\"edge\">\n<title>137076953401040&#45;&gt;137076953400976*</title>\n<path fill=\"none\" stroke=\"black\" d=\"M1236.01,-84.81C1245.49,-83.08 1254.66,-81.41 1262.9,-79.9\"/>\n<polygon fill=\"black\" stroke=\"black\" points=\"1263.6,-83.33 1272.81,-78.09 1262.35,-76.45 1263.6,-83.33\"/>\n</g>\n<!-- 137076953401040+&#45;&gt;137076953401040 -->\n<g id=\"edge7\" class=\"edge\">\n<title>137076953401040+&#45;&gt;137076953401040</title>\n<path fill=\"none\" stroke=\"black\" d=\"M1015.04,-101.5C1022.58,-101.5 1031.3,-101.5 1040.57,-101.5\"/>\n<polygon fill=\"black\" stroke=\"black\" points=\"1040.81,-105 1050.81,-101.5 1040.81,-98 1040.81,-105\"/>\n</g>\n<!-- 137076953407376 -->\n<g id=\"node20\" class=\"node\">\n<title>137076953407376</title>\n<polygon fill=\"none\" stroke=\"black\" points=\"2423,-80.5 2423,-116.5 2605,-116.5 2605,-80.5 2423,-80.5\"/>\n<text text-anchor=\"middle\" x=\"2433\" y=\"-94.8\" font-family=\"Times,serif\" font-size=\"14.00\"> </text>\n<polyline fill=\"none\" stroke=\"black\" points=\"2443,-80.5 2443,-116.5 \"/>\n<text text-anchor=\"middle\" x=\"2483\" y=\"-94.8\" font-family=\"Times,serif\" font-size=\"14.00\">data 0.1464</text>\n<polyline fill=\"none\" stroke=\"black\" points=\"2523,-80.5 2523,-116.5 \"/>\n<text text-anchor=\"middle\" x=\"2564\" y=\"-94.8\" font-family=\"Times,serif\" font-size=\"14.00\">grad 4.8284</text>\n</g>\n<!-- 137076953407376&#45;&gt;137076953414032* -->\n<g id=\"edge15\" class=\"edge\">\n<title>137076953407376&#45;&gt;137076953414032*</title>\n<path fill=\"none\" stroke=\"black\" d=\"M2605.18,-83.08C2614.42,-81.49 2623.38,-79.96 2631.47,-78.58\"/>\n<polygon fill=\"black\" stroke=\"black\" points=\"2632.29,-81.99 2641.56,-76.85 2631.11,-75.09 2632.29,-81.99\"/>\n</g>\n<!-- 137076953407376**&#45;1&#45;&gt;137076953407376 -->\n<g id=\"edge8\" class=\"edge\">\n<title>137076953407376**&#45;1&#45;&gt;137076953407376</title>\n<path fill=\"none\" stroke=\"black\" d=\"M2323.05,-100.26C2345.53,-100.05 2379.48,-99.74 2412.5,-99.43\"/>\n<polygon fill=\"black\" stroke=\"black\" points=\"2412.74,-102.93 2422.7,-99.34 2412.67,-95.93 2412.74,-102.93\"/>\n</g>\n<!-- 137076953405712 -->\n<g id=\"node22\" class=\"node\">\n<title>137076953405712</title>\n<polygon fill=\"none\" stroke=\"black\" points=\"2,-139.5 2,-175.5 198,-175.5 198,-139.5 2,-139.5\"/>\n<text text-anchor=\"middle\" x=\"17\" y=\"-153.8\" font-family=\"Times,serif\" font-size=\"14.00\">x1</text>\n<polyline fill=\"none\" stroke=\"black\" points=\"32,-139.5 32,-175.5 \"/>\n<text text-anchor=\"middle\" x=\"72\" y=\"-153.8\" font-family=\"Times,serif\" font-size=\"14.00\">data 2.0000</text>\n<polyline fill=\"none\" stroke=\"black\" points=\"112,-139.5 112,-175.5 \"/>\n<text text-anchor=\"middle\" x=\"155\" y=\"-153.8\" font-family=\"Times,serif\" font-size=\"14.00\">grad &#45;1.5000</text>\n</g>\n<!-- 137076953405712&#45;&gt;137076953409488* -->\n<g id=\"edge28\" class=\"edge\">\n<title>137076953405712&#45;&gt;137076953409488*</title>\n<path fill=\"none\" stroke=\"black\" d=\"M198.37,-157.5C208.05,-157.5 217.4,-157.5 225.8,-157.5\"/>\n<polygon fill=\"black\" stroke=\"black\" points=\"225.91,-161 235.91,-157.5 225.91,-154 225.91,-161\"/>\n</g>\n<!-- 137076953411920 -->\n<g id=\"node23\" class=\"node\">\n<title>137076953411920</title>\n<polygon fill=\"none\" stroke=\"black\" points=\"1671,-55.5 1671,-91.5 1856,-91.5 1856,-55.5 1671,-55.5\"/>\n<text text-anchor=\"middle\" x=\"1682.5\" y=\"-69.8\" font-family=\"Times,serif\" font-size=\"14.00\">e</text>\n<polyline fill=\"none\" stroke=\"black\" points=\"1694,-55.5 1694,-91.5 \"/>\n<text text-anchor=\"middle\" x=\"1734\" y=\"-69.8\" font-family=\"Times,serif\" font-size=\"14.00\">data 5.8284</text>\n<polyline fill=\"none\" stroke=\"black\" points=\"1774,-55.5 1774,-91.5 \"/>\n<text text-anchor=\"middle\" x=\"1815\" y=\"-69.8\" font-family=\"Times,serif\" font-size=\"14.00\">grad 0.0429</text>\n</g>\n<!-- 137076953411920&#45;&gt;137076953405456+ -->\n<g id=\"edge25\" class=\"edge\">\n<title>137076953411920&#45;&gt;137076953405456+</title>\n<path fill=\"none\" stroke=\"black\" d=\"M1856.16,-56.89C1865.84,-55.13 1875.22,-53.43 1883.64,-51.91\"/>\n<polygon fill=\"black\" stroke=\"black\" points=\"1884.53,-55.3 1893.75,-50.08 1883.28,-48.42 1884.53,-55.3\"/>\n</g>\n<!-- 137076953411920&#45;&gt;137076953415248+ -->\n<g id=\"edge19\" class=\"edge\">\n<title>137076953411920&#45;&gt;137076953415248+</title>\n<path fill=\"none\" stroke=\"black\" d=\"M1856.16,-89.52C1865.84,-91.21 1875.22,-92.85 1883.64,-94.32\"/>\n<polygon fill=\"black\" stroke=\"black\" points=\"1883.29,-97.81 1893.75,-96.09 1884.5,-90.92 1883.29,-97.81\"/>\n</g>\n<!-- 137076953411920exp&#45;&gt;137076953411920 -->\n<g id=\"edge9\" class=\"edge\">\n<title>137076953411920exp&#45;&gt;137076953411920</title>\n<path fill=\"none\" stroke=\"black\" d=\"M1634.21,-73.5C1642,-73.5 1651.05,-73.5 1660.67,-73.5\"/>\n<polygon fill=\"black\" stroke=\"black\" points=\"1660.87,-77 1670.87,-73.5 1660.87,-70 1660.87,-77\"/>\n</g>\n<!-- 137076953402832 -->\n<g id=\"node25\" class=\"node\">\n<title>137076953402832</title>\n<polygon fill=\"none\" stroke=\"black\" points=\"703,-56.5 703,-92.5 888,-92.5 888,-56.5 703,-56.5\"/>\n<text text-anchor=\"middle\" x=\"714.5\" y=\"-70.8\" font-family=\"Times,serif\" font-size=\"14.00\">b</text>\n<polyline fill=\"none\" stroke=\"black\" points=\"726,-56.5 726,-92.5 \"/>\n<text text-anchor=\"middle\" x=\"766\" y=\"-70.8\" font-family=\"Times,serif\" font-size=\"14.00\">data 6.8814</text>\n<polyline fill=\"none\" stroke=\"black\" points=\"806,-56.5 806,-92.5 \"/>\n<text text-anchor=\"middle\" x=\"847\" y=\"-70.8\" font-family=\"Times,serif\" font-size=\"14.00\">grad 0.5000</text>\n</g>\n<!-- 137076953402832&#45;&gt;137076953401040+ -->\n<g id=\"edge23\" class=\"edge\">\n<title>137076953402832&#45;&gt;137076953401040+</title>\n<path fill=\"none\" stroke=\"black\" d=\"M888.12,-87.49C910.59,-90.67 933.33,-93.89 951.33,-96.44\"/>\n<polygon fill=\"black\" stroke=\"black\" points=\"950.95,-99.93 961.34,-97.86 951.93,-92.99 950.95,-99.93\"/>\n</g>\n<!-- 137076953414032 -->\n<g id=\"node26\" class=\"node\">\n<title>137076953414032</title>\n<polygon fill=\"none\" stroke=\"black\" points=\"2731,-54.5 2731,-90.5 2927,-90.5 2927,-54.5 2731,-54.5\"/>\n<text text-anchor=\"middle\" x=\"2748\" y=\"-68.8\" font-family=\"Times,serif\" font-size=\"14.00\">out</text>\n<polyline fill=\"none\" stroke=\"black\" points=\"2765,-54.5 2765,-90.5 \"/>\n<text text-anchor=\"middle\" x=\"2805\" y=\"-68.8\" font-family=\"Times,serif\" font-size=\"14.00\">data 0.7071</text>\n<polyline fill=\"none\" stroke=\"black\" points=\"2845,-54.5 2845,-90.5 \"/>\n<text text-anchor=\"middle\" x=\"2886\" y=\"-68.8\" font-family=\"Times,serif\" font-size=\"14.00\">grad 1.0000</text>\n</g>\n<!-- 137076953414032*&#45;&gt;137076953414032 -->\n<g id=\"edge10\" class=\"edge\">\n<title>137076953414032*&#45;&gt;137076953414032</title>\n<path fill=\"none\" stroke=\"black\" d=\"M2695.26,-72.5C2702.77,-72.5 2711.46,-72.5 2720.72,-72.5\"/>\n<polygon fill=\"black\" stroke=\"black\" points=\"2720.97,-76 2730.97,-72.5 2720.97,-69 2720.97,-76\"/>\n</g>\n<!-- 137076953400272 -->\n<g id=\"node28\" class=\"node\">\n<title>137076953400272</title>\n<polygon fill=\"none\" stroke=\"black\" points=\"1052.5,-28.5 1052.5,-64.5 1234.5,-64.5 1234.5,-28.5 1052.5,-28.5\"/>\n<text text-anchor=\"middle\" x=\"1062.5\" y=\"-42.8\" font-family=\"Times,serif\" font-size=\"14.00\"> </text>\n<polyline fill=\"none\" stroke=\"black\" points=\"1072.5,-28.5 1072.5,-64.5 \"/>\n<text text-anchor=\"middle\" x=\"1112.5\" y=\"-42.8\" font-family=\"Times,serif\" font-size=\"14.00\">data 2.0000</text>\n<polyline fill=\"none\" stroke=\"black\" points=\"1152.5,-28.5 1152.5,-64.5 \"/>\n<text text-anchor=\"middle\" x=\"1193.5\" y=\"-42.8\" font-family=\"Times,serif\" font-size=\"14.00\">grad 0.2203</text>\n</g>\n<!-- 137076953400272&#45;&gt;137076953400976* -->\n<g id=\"edge16\" class=\"edge\">\n<title>137076953400272&#45;&gt;137076953400976*</title>\n<path fill=\"none\" stroke=\"black\" d=\"M1234.68,-62.36C1244.61,-64.11 1254.23,-65.8 1262.84,-67.32\"/>\n<polygon fill=\"black\" stroke=\"black\" points=\"1262.36,-70.78 1272.81,-69.07 1263.57,-63.89 1262.36,-70.78\"/>\n</g>\n</g>\n</svg>\n",
            "text/plain": [
              "<graphviz.graphs.Digraph at 0x7cabb71d6f10>"
            ]
          },
          "metadata": {},
          "execution_count": 74
        }
      ]
    },
    {
      "cell_type": "code",
      "source": [
        "import torch\n",
        "\n",
        "x1 = torch.Tensor([2.0]).double()\n",
        "x1.requires_grad = True\n",
        "\n",
        "x2 = torch.Tensor([0.0]).double()\n",
        "x2.requires_grad = True\n",
        "\n",
        "w1 = torch.Tensor([-3.0]).double()\n",
        "w1.requires_grad = True\n",
        "\n",
        "w2 = torch.Tensor([1.0]).double()\n",
        "w2.requires_grad = True\n",
        "\n",
        "b = torch.Tensor([6.8813735870195432]).double()\n",
        "b.requires_grad = True\n",
        "\n",
        "n = x1*w1 + x2*w2 + b\n",
        "o = torch.tanh(n)\n",
        "\n",
        "print(o.data.item())\n",
        "o.backward()\n",
        "\n",
        "print('---')\n",
        "print('x2', x2.grad.item())\n",
        "print('w2', w2.grad.item())\n",
        "print('x1', x1.grad.item())\n",
        "print('w1', w1.grad.item())\n"
      ],
      "metadata": {
        "colab": {
          "base_uri": "https://localhost:8080/"
        },
        "id": "lWL3msPTiVS_",
        "outputId": "335c0c98-5fc4-488d-b02d-e45628c88dd5"
      },
      "execution_count": 75,
      "outputs": [
        {
          "output_type": "stream",
          "name": "stdout",
          "text": [
            "0.7071066904050358\n",
            "---\n",
            "x2 0.5000001283844369\n",
            "w2 0.0\n",
            "x1 -1.5000003851533106\n",
            "w1 1.0000002567688737\n"
          ]
        }
      ]
    }
  ]
}