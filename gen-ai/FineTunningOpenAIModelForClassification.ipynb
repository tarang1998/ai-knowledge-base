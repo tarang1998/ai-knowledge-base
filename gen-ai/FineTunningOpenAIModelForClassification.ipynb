{
  "nbformat": 4,
  "nbformat_minor": 0,
  "metadata": {
    "colab": {
      "provenance": [],
      "authorship_tag": "ABX9TyM28rJuXcqTHFIukNdffxCC",
      "include_colab_link": true
    },
    "kernelspec": {
      "name": "python3",
      "display_name": "Python 3"
    },
    "language_info": {
      "name": "python"
    }
  },
  "cells": [
    {
      "cell_type": "markdown",
      "metadata": {
        "id": "view-in-github",
        "colab_type": "text"
      },
      "source": [
        "<a href=\"https://colab.research.google.com/github/tarang1998/ML-AI-DL/blob/main/gen-ai/FineTunningOpenAIModelForClassification.ipynb\" target=\"_parent\"><img src=\"https://colab.research.google.com/assets/colab-badge.svg\" alt=\"Open In Colab\"/></a>"
      ]
    },
    {
      "cell_type": "code",
      "execution_count": 1,
      "metadata": {
        "colab": {
          "base_uri": "https://localhost:8080/"
        },
        "id": "5-lsuqCOYdQ-",
        "outputId": "de118238-0f98-46e6-9618-9c337d5ea1c4"
      },
      "outputs": [
        {
          "output_type": "stream",
          "name": "stdout",
          "text": [
            "Requirement already satisfied: openai in /usr/local/lib/python3.11/dist-packages (1.61.1)\n",
            "Requirement already satisfied: anyio<5,>=3.5.0 in /usr/local/lib/python3.11/dist-packages (from openai) (3.7.1)\n",
            "Requirement already satisfied: distro<2,>=1.7.0 in /usr/local/lib/python3.11/dist-packages (from openai) (1.9.0)\n",
            "Requirement already satisfied: httpx<1,>=0.23.0 in /usr/local/lib/python3.11/dist-packages (from openai) (0.28.1)\n",
            "Requirement already satisfied: jiter<1,>=0.4.0 in /usr/local/lib/python3.11/dist-packages (from openai) (0.8.2)\n",
            "Requirement already satisfied: pydantic<3,>=1.9.0 in /usr/local/lib/python3.11/dist-packages (from openai) (2.10.6)\n",
            "Requirement already satisfied: sniffio in /usr/local/lib/python3.11/dist-packages (from openai) (1.3.1)\n",
            "Requirement already satisfied: tqdm>4 in /usr/local/lib/python3.11/dist-packages (from openai) (4.67.1)\n",
            "Requirement already satisfied: typing-extensions<5,>=4.11 in /usr/local/lib/python3.11/dist-packages (from openai) (4.12.2)\n",
            "Requirement already satisfied: idna>=2.8 in /usr/local/lib/python3.11/dist-packages (from anyio<5,>=3.5.0->openai) (3.10)\n",
            "Requirement already satisfied: certifi in /usr/local/lib/python3.11/dist-packages (from httpx<1,>=0.23.0->openai) (2025.1.31)\n",
            "Requirement already satisfied: httpcore==1.* in /usr/local/lib/python3.11/dist-packages (from httpx<1,>=0.23.0->openai) (1.0.7)\n",
            "Requirement already satisfied: h11<0.15,>=0.13 in /usr/local/lib/python3.11/dist-packages (from httpcore==1.*->httpx<1,>=0.23.0->openai) (0.14.0)\n",
            "Requirement already satisfied: annotated-types>=0.6.0 in /usr/local/lib/python3.11/dist-packages (from pydantic<3,>=1.9.0->openai) (0.7.0)\n",
            "Requirement already satisfied: pydantic-core==2.27.2 in /usr/local/lib/python3.11/dist-packages (from pydantic<3,>=1.9.0->openai) (2.27.2)\n"
          ]
        }
      ],
      "source": [
        "!pip install openai"
      ]
    },
    {
      "cell_type": "code",
      "source": [
        "import os\n",
        "import openai\n",
        "import getpass\n",
        "\n",
        "openai.api_key = getpass.getpass(prompt='Enter OpenAI API key:')"
      ],
      "metadata": {
        "colab": {
          "base_uri": "https://localhost:8080/"
        },
        "id": "FdN6wBebY4tH",
        "outputId": "de405406-3646-4c65-f2bb-9f8338f973a2"
      },
      "execution_count": 2,
      "outputs": [
        {
          "name": "stdout",
          "output_type": "stream",
          "text": [
            "Enter OpenAI API key:··········\n"
          ]
        }
      ]
    },
    {
      "cell_type": "code",
      "source": [
        "from sklearn.datasets import fetch_20newsgroups\n",
        "import pandas as pd\n",
        "\n",
        "categories = ['rec.sport.baseball', 'rec.sport.hockey']\n",
        "sports_dataset = fetch_20newsgroups(subset='train', shuffle=True, random_state=42, categories=categories)"
      ],
      "metadata": {
        "id": "Pg8aO-_aZKBF"
      },
      "execution_count": 3,
      "outputs": []
    },
    {
      "cell_type": "code",
      "source": [
        "print(sports_dataset[\"data\"][0])"
      ],
      "metadata": {
        "colab": {
          "base_uri": "https://localhost:8080/"
        },
        "id": "G_umFFQBZgZZ",
        "outputId": "10252fcd-c6f7-4241-ce50-58f1071dc92e"
      },
      "execution_count": 85,
      "outputs": [
        {
          "output_type": "stream",
          "name": "stdout",
          "text": [
            "From: dougb@comm.mot.com (Doug Bank)\n",
            "Subject: Re: Info needed for Cleveland tickets\n",
            "Reply-To: dougb@ecs.comm.mot.com\n",
            "Organization: Motorola Land Mobile Products Sector\n",
            "Distribution: usa\n",
            "Nntp-Posting-Host: 145.1.146.35\n",
            "Lines: 17\n",
            "\n",
            "In article <1993Apr1.234031.4950@leland.Stanford.EDU>, bohnert@leland.Stanford.EDU (matthew bohnert) writes:\n",
            "\n",
            "|> I'm going to be in Cleveland Thursday, April 15 to Sunday, April 18.\n",
            "|> Does anybody know if the Tribe will be in town on those dates, and\n",
            "|> if so, who're they playing and if tickets are available?\n",
            "\n",
            "The tribe will be in town from April 16 to the 19th.\n",
            "There are ALWAYS tickets available! (Though they are playing Toronto,\n",
            "and many Toronto fans make the trip to Cleveland as it is easier to\n",
            "get tickets in Cleveland than in Toronto.  Either way, I seriously\n",
            "doubt they will sell out until the end of the season.)\n",
            "\n",
            "-- \n",
            "Doug Bank                       Private Systems Division\n",
            "dougb@ecs.comm.mot.com          Motorola Communications Sector\n",
            "dougb@nwu.edu                   Schaumburg, Illinois\n",
            "dougb@casbah.acns.nwu.edu       708-576-8207                    \n",
            "\n"
          ]
        }
      ]
    },
    {
      "cell_type": "code",
      "source": [
        "sports_dataset['target_names']"
      ],
      "metadata": {
        "colab": {
          "base_uri": "https://localhost:8080/"
        },
        "id": "9Tyzj42JaFDr",
        "outputId": "79828a12-b3d1-43bf-e981-1ef377faee9f"
      },
      "execution_count": 86,
      "outputs": [
        {
          "output_type": "execute_result",
          "data": {
            "text/plain": [
              "['rec.sport.baseball', 'rec.sport.hockey']"
            ]
          },
          "metadata": {},
          "execution_count": 86
        }
      ]
    },
    {
      "cell_type": "code",
      "source": [
        "sports_dataset.target_names[sports_dataset['target'][0]]\n"
      ],
      "metadata": {
        "colab": {
          "base_uri": "https://localhost:8080/",
          "height": 36
        },
        "id": "gPQDSkhEaHpx",
        "outputId": "dc690071-4290-4306-f239-aa688ff3b407"
      },
      "execution_count": 87,
      "outputs": [
        {
          "output_type": "execute_result",
          "data": {
            "text/plain": [
              "'rec.sport.baseball'"
            ],
            "application/vnd.google.colaboratory.intrinsic+json": {
              "type": "string"
            }
          },
          "metadata": {},
          "execution_count": 87
        }
      ]
    },
    {
      "cell_type": "code",
      "source": [
        "len_all, len_baseball, len_hockey = len(sports_dataset.data), len([e for e in sports_dataset.target if e == 0]), len([e for e in sports_dataset.target if e == 1])\n",
        "print(f\"Total examples: {len_all}, Baseball examples: {len_baseball}, Hockey examples: {len_hockey}\")"
      ],
      "metadata": {
        "colab": {
          "base_uri": "https://localhost:8080/"
        },
        "id": "-beGDbwXa19k",
        "outputId": "491490ad-43b4-43f1-8b37-df0fabce9c5d"
      },
      "execution_count": 88,
      "outputs": [
        {
          "output_type": "stream",
          "name": "stdout",
          "text": [
            "Total examples: 1197, Baseball examples: 597, Hockey examples: 600\n"
          ]
        }
      ]
    },
    {
      "cell_type": "code",
      "source": [
        "import json\n",
        "import random\n",
        "\n",
        "# Load your original dataset (assumes sports_dataset.data and sports_dataset.target exist)\n",
        "label_mapping = {0: \"baseball\", 1: \"hockey\"}\n",
        "chat_data = []\n",
        "\n",
        "# Convert dataset into OpenAI chat format\n",
        "for text, label in zip(sports_dataset.data, sports_dataset.target):\n",
        "    chat_entry = {\n",
        "        \"messages\": [\n",
        "            {\"role\": \"system\", \"content\": \"Classify the following text into a sport category.\"},\n",
        "            {\"role\": \"user\", \"content\": text},\n",
        "            {\"role\": \"assistant\", \"content\": label_mapping[label]}\n",
        "        ]\n",
        "    }\n",
        "    chat_data.append(chat_entry)\n",
        "\n",
        "print(f\"✅ Total Data Samples: {len(chat_data)}\")\n"
      ],
      "metadata": {
        "colab": {
          "base_uri": "https://localhost:8080/"
        },
        "id": "ZqCNOSIVj1dF",
        "outputId": "81f31afc-bf10-4569-b7ac-f1967fd06251"
      },
      "execution_count": 89,
      "outputs": [
        {
          "output_type": "stream",
          "name": "stdout",
          "text": [
            "✅ Total Data Samples: 1197\n"
          ]
        }
      ]
    },
    {
      "cell_type": "code",
      "source": [
        "\n",
        "# Validate each record\n",
        "for i, entry in enumerate(chat_data):\n",
        "    messages = entry.get(\"messages\", [])\n",
        "    if  not any(msg[\"role\"] == \"assistant\" for msg in messages):\n",
        "        print(f\"❌ ERROR: Missing assistant message in entry {i}\")"
      ],
      "metadata": {
        "id": "YUUpgu15noxh"
      },
      "execution_count": 91,
      "outputs": []
    },
    {
      "cell_type": "code",
      "source": [
        "MAX_TOKENS = 500\n",
        "def check_token_length(entry):\n",
        "    text = \" \".join(msg[\"content\"] for msg in entry[\"messages\"])\n",
        "    return len(text.split())  # Approximate token count\n",
        "\n",
        "\n",
        "filtered_chat_data=[]\n",
        "\n",
        "# Check all entries\n",
        "for i, entry in enumerate(chat_data):\n",
        "    if check_token_length(entry) > MAX_TOKENS:\n",
        "        print(f\"❌ Entry {i} is too long and may be truncated.\")\n",
        "    else:\n",
        "      filtered_chat_data.append(entry)\n",
        "\n",
        "print(f\"✅ Filtered Data Samples: {len(filtered_chat_data)}\")\n",
        "\n",
        ""
      ],
      "metadata": {
        "colab": {
          "base_uri": "https://localhost:8080/"
        },
        "id": "RpNbDongl0-1",
        "outputId": "b1599555-eff7-4569-efee-5260a3779321"
      },
      "execution_count": 95,
      "outputs": [
        {
          "output_type": "stream",
          "name": "stdout",
          "text": [
            "❌ Entry 7 is too long and may be truncated.\n",
            "❌ Entry 11 is too long and may be truncated.\n",
            "❌ Entry 18 is too long and may be truncated.\n",
            "❌ Entry 26 is too long and may be truncated.\n",
            "❌ Entry 32 is too long and may be truncated.\n",
            "❌ Entry 42 is too long and may be truncated.\n",
            "❌ Entry 45 is too long and may be truncated.\n",
            "❌ Entry 51 is too long and may be truncated.\n",
            "❌ Entry 71 is too long and may be truncated.\n",
            "❌ Entry 74 is too long and may be truncated.\n",
            "❌ Entry 75 is too long and may be truncated.\n",
            "❌ Entry 78 is too long and may be truncated.\n",
            "❌ Entry 84 is too long and may be truncated.\n",
            "❌ Entry 98 is too long and may be truncated.\n",
            "❌ Entry 100 is too long and may be truncated.\n",
            "❌ Entry 105 is too long and may be truncated.\n",
            "❌ Entry 106 is too long and may be truncated.\n",
            "❌ Entry 114 is too long and may be truncated.\n",
            "❌ Entry 138 is too long and may be truncated.\n",
            "❌ Entry 139 is too long and may be truncated.\n",
            "❌ Entry 151 is too long and may be truncated.\n",
            "❌ Entry 153 is too long and may be truncated.\n",
            "❌ Entry 165 is too long and may be truncated.\n",
            "❌ Entry 168 is too long and may be truncated.\n",
            "❌ Entry 183 is too long and may be truncated.\n",
            "❌ Entry 188 is too long and may be truncated.\n",
            "❌ Entry 198 is too long and may be truncated.\n",
            "❌ Entry 210 is too long and may be truncated.\n",
            "❌ Entry 217 is too long and may be truncated.\n",
            "❌ Entry 232 is too long and may be truncated.\n",
            "❌ Entry 252 is too long and may be truncated.\n",
            "❌ Entry 267 is too long and may be truncated.\n",
            "❌ Entry 299 is too long and may be truncated.\n",
            "❌ Entry 307 is too long and may be truncated.\n",
            "❌ Entry 308 is too long and may be truncated.\n",
            "❌ Entry 316 is too long and may be truncated.\n",
            "❌ Entry 317 is too long and may be truncated.\n",
            "❌ Entry 327 is too long and may be truncated.\n",
            "❌ Entry 328 is too long and may be truncated.\n",
            "❌ Entry 334 is too long and may be truncated.\n",
            "❌ Entry 351 is too long and may be truncated.\n",
            "❌ Entry 366 is too long and may be truncated.\n",
            "❌ Entry 367 is too long and may be truncated.\n",
            "❌ Entry 388 is too long and may be truncated.\n",
            "❌ Entry 391 is too long and may be truncated.\n",
            "❌ Entry 405 is too long and may be truncated.\n",
            "❌ Entry 409 is too long and may be truncated.\n",
            "❌ Entry 411 is too long and may be truncated.\n",
            "❌ Entry 412 is too long and may be truncated.\n",
            "❌ Entry 423 is too long and may be truncated.\n",
            "❌ Entry 452 is too long and may be truncated.\n",
            "❌ Entry 455 is too long and may be truncated.\n",
            "❌ Entry 457 is too long and may be truncated.\n",
            "❌ Entry 464 is too long and may be truncated.\n",
            "❌ Entry 488 is too long and may be truncated.\n",
            "❌ Entry 492 is too long and may be truncated.\n",
            "❌ Entry 497 is too long and may be truncated.\n",
            "❌ Entry 515 is too long and may be truncated.\n",
            "❌ Entry 517 is too long and may be truncated.\n",
            "❌ Entry 519 is too long and may be truncated.\n",
            "❌ Entry 524 is too long and may be truncated.\n",
            "❌ Entry 529 is too long and may be truncated.\n",
            "❌ Entry 537 is too long and may be truncated.\n",
            "❌ Entry 551 is too long and may be truncated.\n",
            "❌ Entry 563 is too long and may be truncated.\n",
            "❌ Entry 578 is too long and may be truncated.\n",
            "❌ Entry 586 is too long and may be truncated.\n",
            "❌ Entry 597 is too long and may be truncated.\n",
            "❌ Entry 625 is too long and may be truncated.\n",
            "❌ Entry 649 is too long and may be truncated.\n",
            "❌ Entry 668 is too long and may be truncated.\n",
            "❌ Entry 680 is too long and may be truncated.\n",
            "❌ Entry 686 is too long and may be truncated.\n",
            "❌ Entry 708 is too long and may be truncated.\n",
            "❌ Entry 710 is too long and may be truncated.\n",
            "❌ Entry 711 is too long and may be truncated.\n",
            "❌ Entry 715 is too long and may be truncated.\n",
            "❌ Entry 716 is too long and may be truncated.\n",
            "❌ Entry 724 is too long and may be truncated.\n",
            "❌ Entry 730 is too long and may be truncated.\n",
            "❌ Entry 733 is too long and may be truncated.\n",
            "❌ Entry 744 is too long and may be truncated.\n",
            "❌ Entry 756 is too long and may be truncated.\n",
            "❌ Entry 765 is too long and may be truncated.\n",
            "❌ Entry 795 is too long and may be truncated.\n",
            "❌ Entry 808 is too long and may be truncated.\n",
            "❌ Entry 825 is too long and may be truncated.\n",
            "❌ Entry 836 is too long and may be truncated.\n",
            "❌ Entry 853 is too long and may be truncated.\n",
            "❌ Entry 856 is too long and may be truncated.\n",
            "❌ Entry 859 is too long and may be truncated.\n",
            "❌ Entry 865 is too long and may be truncated.\n",
            "❌ Entry 868 is too long and may be truncated.\n",
            "❌ Entry 869 is too long and may be truncated.\n",
            "❌ Entry 873 is too long and may be truncated.\n",
            "❌ Entry 895 is too long and may be truncated.\n",
            "❌ Entry 919 is too long and may be truncated.\n",
            "❌ Entry 927 is too long and may be truncated.\n",
            "❌ Entry 957 is too long and may be truncated.\n",
            "❌ Entry 961 is too long and may be truncated.\n",
            "❌ Entry 965 is too long and may be truncated.\n",
            "❌ Entry 970 is too long and may be truncated.\n",
            "❌ Entry 973 is too long and may be truncated.\n",
            "❌ Entry 1010 is too long and may be truncated.\n",
            "❌ Entry 1015 is too long and may be truncated.\n",
            "❌ Entry 1023 is too long and may be truncated.\n",
            "❌ Entry 1040 is too long and may be truncated.\n",
            "❌ Entry 1055 is too long and may be truncated.\n",
            "❌ Entry 1058 is too long and may be truncated.\n",
            "❌ Entry 1062 is too long and may be truncated.\n",
            "❌ Entry 1066 is too long and may be truncated.\n",
            "❌ Entry 1080 is too long and may be truncated.\n",
            "❌ Entry 1097 is too long and may be truncated.\n",
            "❌ Entry 1099 is too long and may be truncated.\n",
            "❌ Entry 1100 is too long and may be truncated.\n",
            "❌ Entry 1102 is too long and may be truncated.\n",
            "❌ Entry 1110 is too long and may be truncated.\n",
            "❌ Entry 1122 is too long and may be truncated.\n",
            "❌ Entry 1125 is too long and may be truncated.\n",
            "❌ Entry 1152 is too long and may be truncated.\n",
            "❌ Entry 1164 is too long and may be truncated.\n",
            "❌ Entry 1165 is too long and may be truncated.\n",
            "❌ Entry 1193 is too long and may be truncated.\n",
            "✅ Filtered Data Samples: 1074\n"
          ]
        }
      ]
    },
    {
      "cell_type": "code",
      "source": [
        "# Shuffle the dataset for randomness\n",
        "random.shuffle(filtered_chat_data)\n",
        "\n",
        "# Define split sizes\n",
        "train_size = int(0.8 * len(filtered_chat_data))  # 80% training, 20% validation\n",
        "\n",
        "# Split dataset\n",
        "train_data = filtered_chat_data[:train_size]\n",
        "valid_data = filtered_chat_data[train_size:]\n",
        "\n",
        "print(f\"✅ Training Samples: {len(train_data)}, Validation Samples: {len(valid_data)}\")"
      ],
      "metadata": {
        "colab": {
          "base_uri": "https://localhost:8080/"
        },
        "id": "8hvJ2n14kSiV",
        "outputId": "31e2db46-4153-4d66-cba3-d3f13feb6ada"
      },
      "execution_count": 96,
      "outputs": [
        {
          "output_type": "stream",
          "name": "stdout",
          "text": [
            "✅ Training Samples: 859, Validation Samples: 215\n"
          ]
        }
      ]
    },
    {
      "cell_type": "code",
      "source": [
        "train_data[0]"
      ],
      "metadata": {
        "colab": {
          "base_uri": "https://localhost:8080/"
        },
        "id": "khREOcm7lMJL",
        "outputId": "a00cf3a4-d1a2-4286-9c4b-02315a0e6db1"
      },
      "execution_count": 97,
      "outputs": [
        {
          "output_type": "execute_result",
          "data": {
            "text/plain": [
              "{'messages': [{'role': 'system',\n",
              "   'content': 'Classify the following text into a sport category.'},\n",
              "  {'role': 'user',\n",
              "   'content': \"From: davewood@bruno.cs.colorado.edu (David Rex Wood)\\nSubject: Re: Rockies need some relief\\nNntp-Posting-Host: bruno.cs.colorado.edu\\nOrganization: University of Colorado, Boulder\\nLines: 14\\n\\nIn article <1993Apr18.225740.15978@colorado.edu> davewood@bruno.cs.colorado.edu (David Rex Wood) writes:\\n>shaky) innings giving up just one run.  Then game the dreaded relief.  Three\\n                                              ^^^^\\n>picthers combined to give up 3 runs (one each I believe) in the 7th inning\\n ^^^^^^^^\\n>be taken lightly.  Going into today's game, the had the league's leading\\n                                             ^^^\\n\\nGeez, can I type or what?\\n\\n-- \\n-------------------------------------------------------------------------------\\nDavid Rex Wood -- davewood@cs.colorado.edu -- University of Colorado at Boulder\\n-------------------------------------------------------------------------------\\n\"},\n",
              "  {'role': 'assistant', 'content': 'baseball'}]}"
            ]
          },
          "metadata": {},
          "execution_count": 97
        }
      ]
    },
    {
      "cell_type": "code",
      "source": [
        "# Save training data\n",
        "with open(\"sports_train.jsonl\", \"w\") as f:\n",
        "    for entry in train_data:\n",
        "        f.write(json.dumps(entry) + \"\\n\")\n",
        "\n",
        "# Save validation data\n",
        "with open(\"sports_valid.jsonl\", \"w\") as f:\n",
        "    for entry in valid_data:\n",
        "        f.write(json.dumps(entry) + \"\\n\")\n",
        "\n",
        "print(\"✅ Training and Validation datasets saved successfully!\")"
      ],
      "metadata": {
        "colab": {
          "base_uri": "https://localhost:8080/"
        },
        "id": "vuKuSYB2bV7Q",
        "outputId": "dc5a4cdf-5166-4b1d-dd07-f11fb55f5d8a"
      },
      "execution_count": 98,
      "outputs": [
        {
          "output_type": "stream",
          "name": "stdout",
          "text": [
            "✅ Training and Validation datasets saved successfully!\n"
          ]
        }
      ]
    },
    {
      "cell_type": "code",
      "source": [
        "from openai import OpenAI\n",
        "\n",
        "# Initialize OpenAI client\n",
        "client = OpenAI(api_key=openai.api_key)\n",
        "\n",
        "\n",
        "# Upload training file\n",
        "train_response = client.files.create(file=open(\"sports_train.jsonl\", \"rb\"), purpose=\"fine-tune\")\n",
        "print(f\"Training File ID: {train_response.id}\")\n",
        "\n",
        "# Upload validation file\n",
        "valid_response = client.files.create(file=open(\"sports_valid.jsonl\", \"rb\"), purpose=\"fine-tune\")\n",
        "print(f\"Validation File ID: {valid_response.id}\")"
      ],
      "metadata": {
        "colab": {
          "base_uri": "https://localhost:8080/"
        },
        "id": "_qUFVuiQXb5c",
        "outputId": "bb9bfbf3-b68f-46f4-f1f7-702ab9c2e5f3"
      },
      "execution_count": 99,
      "outputs": [
        {
          "output_type": "stream",
          "name": "stdout",
          "text": [
            "Training File ID: file-JTRf7oGaySMmkexkFwt529\n",
            "Validation File ID: file-E2wEftoz6RSZ4eNir7ZoFn\n"
          ]
        }
      ]
    },
    {
      "cell_type": "code",
      "source": [
        "fine_tune_job = client.fine_tuning.jobs.create(\n",
        "    training_file=train_response.id,\n",
        "    validation_file=valid_response.id,\n",
        "    model=\"gpt-3.5-turbo\"\n",
        ")\n",
        "\n",
        "print(f\"Fine-tuning Job ID: {fine_tune_job.id}\")"
      ],
      "metadata": {
        "colab": {
          "base_uri": "https://localhost:8080/"
        },
        "id": "yhoKN6RbWuus",
        "outputId": "0d1eeb82-c735-456e-866c-84850727b380"
      },
      "execution_count": 100,
      "outputs": [
        {
          "output_type": "stream",
          "name": "stdout",
          "text": [
            "Fine-tuning Job ID: ftjob-O3BR5V2ctGDvgIm5J39KnJ64\n"
          ]
        }
      ]
    },
    {
      "cell_type": "code",
      "source": [
        "jobs = client.fine_tuning.jobs.list()\n",
        "for job in jobs:\n",
        "    print(f\"Job ID: {job.id}, Status: {job.status}\")"
      ],
      "metadata": {
        "colab": {
          "base_uri": "https://localhost:8080/"
        },
        "id": "zy81fiSRd3e-",
        "outputId": "4f3edc1f-a449-418e-a01b-cb611ba88df2"
      },
      "execution_count": 108,
      "outputs": [
        {
          "output_type": "stream",
          "name": "stdout",
          "text": [
            "Job ID: ftjob-O3BR5V2ctGDvgIm5J39KnJ64, Status: succeeded\n",
            "Job ID: ftjob-OYwJmvRTsj4kdkHK2Hg3W9ef, Status: failed\n",
            "Job ID: ftjob-agbR5iLLi6BpV6XR162wUU9Y, Status: failed\n",
            "Job ID: ftjob-bDQuY2uATS63pHm9KD2dr5ib, Status: failed\n",
            "Job ID: ftjob-8fj9XgkKbCckt8piSpclKMLy, Status: failed\n"
          ]
        }
      ]
    },
    {
      "cell_type": "code",
      "source": [
        "fine_tune_details = client.fine_tuning.jobs.retrieve(\"ftjob-O3BR5V2ctGDvgIm5J39KnJ64\")\n",
        "print(fine_tune_details)"
      ],
      "metadata": {
        "colab": {
          "base_uri": "https://localhost:8080/"
        },
        "id": "YurEQf5iGIWT",
        "outputId": "270dd7ab-1678-42be-f1a1-f0031982816a"
      },
      "execution_count": 117,
      "outputs": [
        {
          "output_type": "stream",
          "name": "stdout",
          "text": [
            "FineTuningJob(id='ftjob-O3BR5V2ctGDvgIm5J39KnJ64', created_at=1738969899, error=Error(code=None, message=None, param=None), fine_tuned_model='ft:gpt-3.5-turbo-0125:tarangnair::AySrIowB', finished_at=1738973974, hyperparameters=Hyperparameters(batch_size=1, learning_rate_multiplier=2.0, n_epochs=3), model='gpt-3.5-turbo-0125', object='fine_tuning.job', organization_id='org-wPyaNuoepXOI7oF41dfodjab', result_files=['file-ER6LaR6g7rF6cQTgeJQ61h'], seed=803297784, status='succeeded', trained_tokens=895167, training_file='file-JTRf7oGaySMmkexkFwt529', validation_file='file-E2wEftoz6RSZ4eNir7ZoFn', estimated_finish=None, integrations=[], method=Method(dpo=None, supervised=MethodSupervised(hyperparameters=MethodSupervisedHyperparameters(batch_size=1, learning_rate_multiplier=2.0, n_epochs=3)), type='supervised'), user_provided_suffix=None)\n"
          ]
        }
      ]
    },
    {
      "cell_type": "code",
      "source": [
        "# List all fine-tuned models\n",
        "fine_tuned_models = [model.id for model in client.models.list() if \"ft\" in model.id]\n",
        "\n",
        "# Display available fine-tuned models\n",
        "if fine_tuned_models:\n",
        "    print(\"✅ Available Fine-Tuned Models:\")\n",
        "    for model in fine_tuned_models:\n",
        "        print(model)\n",
        "else:\n",
        "    print(\"❌ No fine-tuned models found.\")\n",
        "\n"
      ],
      "metadata": {
        "colab": {
          "base_uri": "https://localhost:8080/"
        },
        "id": "-BuPY0HGEiwd",
        "outputId": "7f0d9e5a-d973-4862-d7bc-233d7da64be5"
      },
      "execution_count": 111,
      "outputs": [
        {
          "output_type": "stream",
          "name": "stdout",
          "text": [
            "✅ Available Fine-Tuned Models:\n",
            "ft:gpt-3.5-turbo-0125:tarangnair::AySrH3ks:ckpt-step-859\n",
            "ft:gpt-3.5-turbo-0125:tarangnair::AySrH0Mi:ckpt-step-1718\n",
            "ft:gpt-3.5-turbo-0125:tarangnair::AySrIowB\n"
          ]
        }
      ]
    },
    {
      "cell_type": "code",
      "source": [
        "fine_tuned_model = fine_tuned_models[2]\n",
        "fine_tuned_model"
      ],
      "metadata": {
        "colab": {
          "base_uri": "https://localhost:8080/",
          "height": 36
        },
        "id": "HGK1jISTFmjg",
        "outputId": "ea8a6f4c-ee13-487a-ff6e-2dff1e7d8a1a"
      },
      "execution_count": 133,
      "outputs": [
        {
          "output_type": "execute_result",
          "data": {
            "text/plain": [
              "'ft:gpt-3.5-turbo-0125:tarangnair::AySrIowB'"
            ],
            "application/vnd.google.colaboratory.intrinsic+json": {
              "type": "string"
            }
          },
          "metadata": {},
          "execution_count": 133
        }
      ]
    },
    {
      "cell_type": "code",
      "source": [
        "sports_sentences = {\n",
        "    \"baseball\": [\n",
        "        \"The batter swung hard and sent the ball over the fence.\",\n",
        "        \"The pitcher struck out three batters in a row to close the inning.\",\n",
        "        \"The stadium erupted in cheers after a walk-off home run.\",\n",
        "        \"The team’s ace pitcher threw a no-hitter in the playoffs.\",\n",
        "        \"The shortstop made a diving stop and turned a double play.\",\n",
        "        \"The rookie hit a grand slam in his first major league game.\",\n",
        "        \"The baseball manager decided to intentionally walk the best hitter.\",\n",
        "        \"A record crowd attended the opening day of the season.\",\n",
        "        \"The umpire called a controversial third strike to end the game.\",\n",
        "        \"The slugger broke the single-season home run record.\"\n",
        "    ],\n",
        "    \"hockey\": [\n",
        "        \"The forward deked past two defenders and scored on the backhand.\",\n",
        "        \"The goalie made a miraculous glove save in the final seconds.\",\n",
        "        \"The team scored the game-winning goal in double overtime.\",\n",
        "        \"A brutal check along the boards sent the crowd into a frenzy.\",\n",
        "        \"The defenseman’s slap shot from the blue line found the net.\",\n",
        "        \"The team captain hoisted the Stanley Cup in celebration.\",\n",
        "        \"The penalty kill unit successfully defended a 5-on-3 situation.\",\n",
        "        \"The rookie netted his first career hat trick.\",\n",
        "        \"The enforcer dropped the gloves and fought the opposing player.\",\n",
        "        \"The goaltender recorded a shutout in his playoff debut.\"\n",
        "    ]\n",
        "}\n",
        "\n",
        "test_data = []\n",
        "\n",
        "for sport in [\"baseball\", \"hockey\"]:\n",
        "    for sentence in sports_sentences[sport]:\n",
        "        entry = {\n",
        "            \"messages\": [\n",
        "                {\"role\": \"system\", \"content\": \"Classify the following text into a sport category.\"},\n",
        "                {\"role\": \"user\", \"content\": sentence},\n",
        "                {\"role\": \"assistant\", \"content\": sport}\n",
        "            ]\n",
        "        }\n",
        "        test_data.append(entry)\n",
        "\n"
      ],
      "metadata": {
        "id": "oFrSRyogsb74"
      },
      "execution_count": 113,
      "outputs": []
    },
    {
      "cell_type": "code",
      "source": [
        "print(len(test_data))\n",
        "test_data[0]"
      ],
      "metadata": {
        "colab": {
          "base_uri": "https://localhost:8080/"
        },
        "id": "rNrq1erhFvt8",
        "outputId": "eee5cb3f-7c09-4f77-b548-8552a6f845b6"
      },
      "execution_count": 137,
      "outputs": [
        {
          "output_type": "stream",
          "name": "stdout",
          "text": [
            "20\n"
          ]
        },
        {
          "output_type": "execute_result",
          "data": {
            "text/plain": [
              "{'messages': [{'role': 'system',\n",
              "   'content': 'Classify the following text into a sport category.'},\n",
              "  {'role': 'user',\n",
              "   'content': 'The batter swung hard and sent the ball over the fence.'},\n",
              "  {'role': 'assistant', 'content': 'baseball'}]}"
            ]
          },
          "metadata": {},
          "execution_count": 137
        }
      ]
    },
    {
      "cell_type": "code",
      "source": [
        "role_message = \"Classify the following text into a sport category.\"\n",
        "user_message = next(msg[\"content\"] for msg in test_data[0][\"messages\"] if msg[\"role\"] == \"user\")\n",
        "\n",
        "\n",
        "response = client.chat.completions.create(\n",
        "        model=fine_tuned_model,\n",
        "        messages=[{\"role\": \"system\", \"content\": role_message},{\"role\": \"user\", \"content\": user_message}],\n",
        "    )\n",
        "\n",
        "print(response.choices[0].message.content.strip())"
      ],
      "metadata": {
        "colab": {
          "base_uri": "https://localhost:8080/"
        },
        "id": "pey1pA4cK5da",
        "outputId": "948f723f-3b95-40fd-d246-dea11b6a7338"
      },
      "execution_count": 144,
      "outputs": [
        {
          "output_type": "stream",
          "name": "stdout",
          "text": [
            "baseball\n"
          ]
        }
      ]
    },
    {
      "cell_type": "code",
      "source": [
        "import time\n",
        "from sklearn.metrics import accuracy_score\n",
        "\n",
        "\n",
        "predictions = []\n",
        "actual_labels = []\n",
        "\n",
        "\n",
        "# Evaluate each test record using the fine-tuned model\n",
        "for entry in test_data:\n",
        "    user_message = next(msg[\"content\"] for msg in entry[\"messages\"] if msg[\"role\"] == \"user\")\n",
        "    actual_label = next(msg[\"content\"] for msg in entry[\"messages\"] if msg[\"role\"] == \"assistant\")\n",
        "\n",
        "    print(\"User input : \",user_message)\n",
        "    print(\"Actual Label : \",actual_label)\n",
        "\n",
        "    response = client.chat.completions.create(\n",
        "        model=fine_tuned_model,\n",
        "        messages=[{\"role\": \"system\", \"content\": role_message},{\"role\": \"user\", \"content\": user_message}],\n",
        "        max_tokens=10\n",
        "    )\n",
        "\n",
        "\n",
        "    predicted_label = response.choices[0].message.content.strip()\n",
        "\n",
        "    print(\"Predicted Label : \",predicted_label)\n",
        "    print(\"------------------------------------------------\")\n",
        "\n",
        "    # Store result\n",
        "    predictions.append(predicted_label)\n",
        "    actual_labels.append(actual_label)\n",
        "\n",
        "\n",
        "\n",
        "\n",
        "\n"
      ],
      "metadata": {
        "colab": {
          "base_uri": "https://localhost:8080/"
        },
        "id": "GhDNW5dyEhXq",
        "outputId": "4fc5b947-4c4c-46c1-cf78-ddd2cb701811"
      },
      "execution_count": 149,
      "outputs": [
        {
          "output_type": "stream",
          "name": "stdout",
          "text": [
            "User input :  The batter swung hard and sent the ball over the fence.\n",
            "Actual Label :  baseball\n",
            "Predicted Label :  baseball\n",
            "------------------------------------------------\n",
            "User input :  The pitcher struck out three batters in a row to close the inning.\n",
            "Actual Label :  baseball\n",
            "Predicted Label :  baseball\n",
            "------------------------------------------------\n",
            "User input :  The stadium erupted in cheers after a walk-off home run.\n",
            "Actual Label :  baseball\n",
            "Predicted Label :  baseball\n",
            "------------------------------------------------\n",
            "User input :  The team’s ace pitcher threw a no-hitter in the playoffs.\n",
            "Actual Label :  baseball\n",
            "Predicted Label :  baseball\n",
            "------------------------------------------------\n",
            "User input :  The shortstop made a diving stop and turned a double play.\n",
            "Actual Label :  baseball\n",
            "Predicted Label :  baseball\n",
            "------------------------------------------------\n",
            "User input :  The rookie hit a grand slam in his first major league game.\n",
            "Actual Label :  baseball\n",
            "Predicted Label :  baseball\n",
            "------------------------------------------------\n",
            "User input :  The baseball manager decided to intentionally walk the best hitter.\n",
            "Actual Label :  baseball\n",
            "Predicted Label :  baseball\n",
            "------------------------------------------------\n",
            "User input :  A record crowd attended the opening day of the season.\n",
            "Actual Label :  baseball\n",
            "Predicted Label :  baseball\n",
            "------------------------------------------------\n",
            "User input :  The umpire called a controversial third strike to end the game.\n",
            "Actual Label :  baseball\n",
            "Predicted Label :  baseball\n",
            "------------------------------------------------\n",
            "User input :  The slugger broke the single-season home run record.\n",
            "Actual Label :  baseball\n",
            "Predicted Label :  baseball\n",
            "------------------------------------------------\n",
            "User input :  The forward deked past two defenders and scored on the backhand.\n",
            "Actual Label :  hockey\n",
            "Predicted Label :  hockey\n",
            "------------------------------------------------\n",
            "User input :  The goalie made a miraculous glove save in the final seconds.\n",
            "Actual Label :  hockey\n",
            "Predicted Label :  hockey\n",
            "------------------------------------------------\n",
            "User input :  The team scored the game-winning goal in double overtime.\n",
            "Actual Label :  hockey\n",
            "Predicted Label :  hockey\n",
            "------------------------------------------------\n",
            "User input :  A brutal check along the boards sent the crowd into a frenzy.\n",
            "Actual Label :  hockey\n",
            "Predicted Label :  hockey\n",
            "------------------------------------------------\n",
            "User input :  The defenseman’s slap shot from the blue line found the net.\n",
            "Actual Label :  hockey\n",
            "Predicted Label :  hockey\n",
            "------------------------------------------------\n",
            "User input :  The team captain hoisted the Stanley Cup in celebration.\n",
            "Actual Label :  hockey\n",
            "Predicted Label :  hockey\n",
            "------------------------------------------------\n",
            "User input :  The penalty kill unit successfully defended a 5-on-3 situation.\n",
            "Actual Label :  hockey\n",
            "Predicted Label :  hockey\n",
            "------------------------------------------------\n",
            "User input :  The rookie netted his first career hat trick.\n",
            "Actual Label :  hockey\n",
            "Predicted Label :  hockey\n",
            "------------------------------------------------\n",
            "User input :  The enforcer dropped the gloves and fought the opposing player.\n",
            "Actual Label :  hockey\n",
            "Predicted Label :  hockey\n",
            "------------------------------------------------\n",
            "User input :  The goaltender recorded a shutout in his playoff debut.\n",
            "Actual Label :  hockey\n",
            "Predicted Label :  hockey\n",
            "------------------------------------------------\n"
          ]
        }
      ]
    },
    {
      "cell_type": "code",
      "source": [
        "# Calculate accuracy\n",
        "accuracy = accuracy_score(actual_labels, predictions)\n",
        "print(f\"✅ Model Accuracy: {accuracy * 100:.2f}%\")\n"
      ],
      "metadata": {
        "colab": {
          "base_uri": "https://localhost:8080/"
        },
        "id": "AeU2HWSYUb_d",
        "outputId": "25446d7c-9fa3-425d-c062-270e45575233"
      },
      "execution_count": 150,
      "outputs": [
        {
          "output_type": "stream",
          "name": "stdout",
          "text": [
            "✅ Model Accuracy: 100.00%\n"
          ]
        }
      ]
    },
    {
      "cell_type": "code",
      "source": [
        "# Test\n",
        "response = client.chat.completions.create(\n",
        "        model=fine_tuned_model,\n",
        "        messages=[{\"role\": \"system\", \"content\": role_message},{\"role\": \"user\", \"content\": \"The ball is hot\"}],\n",
        "    )\n",
        "\n",
        "\n",
        "predicted_label = response.choices[0].message.content.strip()\n",
        "predicted_label"
      ],
      "metadata": {
        "colab": {
          "base_uri": "https://localhost:8080/",
          "height": 36
        },
        "id": "Bzhxa3cDVm0M",
        "outputId": "d734770b-bf01-4130-f2ba-6ca64dd359f7"
      },
      "execution_count": 156,
      "outputs": [
        {
          "output_type": "execute_result",
          "data": {
            "text/plain": [
              "'baseball'"
            ],
            "application/vnd.google.colaboratory.intrinsic+json": {
              "type": "string"
            }
          },
          "metadata": {},
          "execution_count": 156
        }
      ]
    },
    {
      "cell_type": "code",
      "source": [],
      "metadata": {
        "id": "Y9fpT5w_WFy7"
      },
      "execution_count": null,
      "outputs": []
    }
  ]
}