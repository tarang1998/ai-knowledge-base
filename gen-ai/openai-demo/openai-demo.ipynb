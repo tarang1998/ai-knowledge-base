{
 "cells": [
  {
   "cell_type": "code",
   "execution_count": 2,
   "metadata": {},
   "outputs": [],
   "source": [
    "import os\n",
    "import openai\n",
    "from dotenv import load_dotenv"
   ]
  },
  {
   "cell_type": "code",
   "execution_count": 3,
   "metadata": {},
   "outputs": [
    {
     "name": "stdout",
     "output_type": "stream",
     "text": [
      "Name: openai\n",
      "Version: 1.61.0\n",
      "Summary: The official Python library for the openai API\n",
      "Home-page: https://github.com/openai/openai-python\n",
      "Author: \n",
      "Author-email: OpenAI <support@openai.com>\n",
      "License-Expression: Apache-2.0\n",
      "Location: c:\\users\\tarang\\anaconda3\\envs\\openaidemoenv\\lib\\site-packages\n",
      "Requires: anyio, distro, httpx, jiter, pydantic, sniffio, tqdm, typing-extensions\n",
      "Required-by: \n"
     ]
    }
   ],
   "source": [
    "!pip show openai"
   ]
  },
  {
   "cell_type": "code",
   "execution_count": 6,
   "metadata": {},
   "outputs": [],
   "source": [
    "load_dotenv()\n",
    "OPENAI_API_KEY = os.getenv(\"OPENAI_API_KEY\")\n"
   ]
  },
  {
   "cell_type": "code",
   "execution_count": 7,
   "metadata": {},
   "outputs": [],
   "source": [
    "openai.api_key = OPENAI_API_KEY"
   ]
  },
  {
   "cell_type": "code",
   "execution_count": 17,
   "metadata": {},
   "outputs": [
    {
     "name": "stdout",
     "output_type": "stream",
     "text": [
      "gpt-4o-mini-audio-preview\n",
      "gpt-4o-mini-audio-preview-2024-12-17\n",
      "gpt-4o-mini-realtime-preview\n",
      "dall-e-2\n",
      "o1-mini-2024-09-12\n",
      "o1-preview-2024-09-12\n",
      "o1-mini\n",
      "o1-preview\n",
      "whisper-1\n",
      "dall-e-3\n",
      "gpt-4-turbo\n",
      "gpt-4o-audio-preview\n",
      "gpt-4o-audio-preview-2024-10-01\n",
      "babbage-002\n",
      "omni-moderation-latest\n",
      "omni-moderation-2024-09-26\n",
      "tts-1-hd-1106\n",
      "gpt-4o-2024-08-06\n",
      "gpt-4o\n",
      "gpt-4o-2024-05-13\n",
      "tts-1-hd\n",
      "gpt-4o-mini-2024-07-18\n",
      "gpt-4o-mini\n",
      "gpt-4o-2024-11-20\n",
      "gpt-4-turbo-2024-04-09\n",
      "gpt-4-0613\n",
      "chatgpt-4o-latest\n",
      "tts-1\n",
      "gpt-3.5-turbo-16k\n",
      "tts-1-1106\n",
      "davinci-002\n",
      "gpt-4-turbo-preview\n",
      "gpt-3.5-turbo-1106\n",
      "gpt-4o-mini-realtime-preview-2024-12-17\n",
      "gpt-3.5-turbo-instruct\n",
      "gpt-4\n",
      "gpt-4o-realtime-preview-2024-10-01\n",
      "gpt-3.5-turbo-instruct-0914\n",
      "gpt-3.5-turbo-0125\n",
      "gpt-4o-audio-preview-2024-12-17\n",
      "gpt-4o-realtime-preview-2024-12-17\n",
      "gpt-3.5-turbo\n",
      "text-embedding-3-large\n",
      "gpt-4o-realtime-preview\n",
      "text-embedding-3-small\n",
      "gpt-4-0125-preview\n",
      "text-embedding-ada-002\n",
      "gpt-4-1106-preview\n"
     ]
    }
   ],
   "source": [
    "models = openai.models.list()\n",
    "\n",
    "\n",
    "# Extract model IDs\n",
    "model_ids = [model.id for model in models]\n",
    "print(\"\\n\".join(model_ids))"
   ]
  },
  {
   "cell_type": "markdown",
   "metadata": {},
   "source": [
    "Chat Completion API "
   ]
  },
  {
   "cell_type": "code",
   "execution_count": 21,
   "metadata": {},
   "outputs": [
    {
     "name": "stdout",
     "output_type": "stream",
     "text": [
      "Hello! I'm just a computer program, so I don't have feelings, but I'm here and ready to help you. How can I assist you today?\n"
     ]
    }
   ],
   "source": [
    "# Chat Completion API\n",
    "\n",
    "prompt = \"Hello, How are you?\"\n",
    "\n",
    "response = openai.chat.completions.create(\n",
    "    model = \"gpt-3.5-turbo\",\n",
    "    messages = [\n",
    "        {\"role\": \"system\", \"content\": \"You are a helpful assistant.\"},\n",
    "        {\"role\": \"user\", \"content\": prompt}\n",
    "    ]\n",
    ")\n",
    "\n",
    "print(response.choices[0].message.content)\n",
    "\n"
   ]
  },
  {
   "cell_type": "code",
   "execution_count": 22,
   "metadata": {},
   "outputs": [
    {
     "name": "stdout",
     "output_type": "stream",
     "text": [
      "You are 25 years old and a programmer. If you have any specific questions or things you'd like to share, feel free to let me know!\n"
     ]
    }
   ],
   "source": [
    "# Chat Completion API with multiple prompts\n",
    "\n",
    "prompt1 = \"Hello How are you?\"\n",
    "prompt2 = \"I am 25 years old & I am a Programmer\"\n",
    "prompt3 = \"Tell me about me\"\n",
    "\n",
    "response =openai.chat.completions.create(\n",
    "    model=\"gpt-3.5-turbo\",\n",
    "    messages=[\n",
    "        {\"role\": \"system\", \"content\": \"You are a helpful assistant.\"},\n",
    "        {\"role\": \"user\", \"content\": prompt1},\n",
    "        {\"role\": \"user\", \"content\": prompt2},\n",
    "        {\"role\": \"user\", \"content\": prompt3},\n",
    "    ]\n",
    ")\n",
    "\n",
    "print(response.choices[0].message.content)\n"
   ]
  },
  {
   "cell_type": "code",
   "execution_count": 23,
   "metadata": {},
   "outputs": [
    {
     "name": "stdout",
     "output_type": "stream",
     "text": [
      "Python is a popular high-level programming language known for its simplicity and readability. It is used for a wide range of applications,\n"
     ]
    }
   ],
   "source": [
    "# Chat Completion API with maximum tokens parameter\n",
    "\n",
    "prompt = \"What is Python?\"\n",
    "\n",
    "response = openai.chat.completions.create(\n",
    "    model = \"gpt-3.5-turbo\",\n",
    "    messages = [\n",
    "        {\"role\": \"system\", \"content\": \"You are a helpful assistant.\"},\n",
    "        {\"role\": \"user\", \"content\": prompt}\n",
    "    ],\n",
    "    max_tokens = 25\n",
    ")\n",
    "\n",
    "print(response.choices[0].message.content)"
   ]
  },
  {
   "cell_type": "code",
   "execution_count": 24,
   "metadata": {},
   "outputs": [
    {
     "name": "stdout",
     "output_type": "stream",
     "text": [
      "Python is a popular high-level programming language known for its simplicity and readability. It is used for a wide range of applications, including web development, data analysis, artificial intelligence, scientific computing, and more. Python has a large and active community, making it easy to find resources and support for beginners and experienced developers alike.\n"
     ]
    }
   ],
   "source": [
    "# Chat Completion API with temperature parameter \n",
    "\n",
    "prompt = \"What is Python?\"\n",
    "\n",
    "response =openai.chat.completions.create(\n",
    "    model=\"gpt-3.5-turbo\",\n",
    "    messages=[\n",
    "        {\"role\": \"system\", \"content\": \"You are a helpful assistant.\"},\n",
    "        {\"role\": \"user\", \"content\": prompt}\n",
    "    ],\n",
    "    temperature = 1\n",
    ")\n",
    "\n",
    "print(response.choices[0].message.content)"
   ]
  },
  {
   "cell_type": "code",
   "execution_count": 28,
   "metadata": {},
   "outputs": [
    {
     "name": "stdout",
     "output_type": "stream",
     "text": [
      "Python is a high-level, interpreted programming language known for its simplicity and readability. It is widely used in various applications such as web development, data analysis, artificial intelligence, scientific computing, and more. Python supports multiple programming paradigms and has a large standard library that provides tools and modules for various tasks.\n",
      "Python is a high-level, general-purpose programming language known for its simplicity and readability. It is widely used in various fields such as web development, data science, artificial intelligence, and automation. Python supports multiple programming paradigms and has a large standard library that makes it versatile and powerful for a wide range of applications.\n",
      "Python is a high-level, interpreted programming language known for its simplicity and readability. It supports multiple programming paradigms, including procedural, object-oriented, and functional programming. Python is widely used in various domains such as web development, data science, artificial intelligence, and automation.\n"
     ]
    }
   ],
   "source": [
    "# Chat completion API with no of responses as parameter\n",
    "\n",
    "\n",
    "prompt = \"What is Python?\"\n",
    "\n",
    "response =openai.chat.completions.create(\n",
    "    model=\"gpt-3.5-turbo\",\n",
    "    messages=[\n",
    "        {\"role\": \"system\", \"content\": \"You are a helpful assistant.\"},\n",
    "        {\"role\": \"user\", \"content\": prompt}\n",
    "    ],\n",
    "    temperature = 0.6,\n",
    "    n = 3\n",
    ")\n",
    "\n",
    "result = []\n",
    "for choice in response.choices:\n",
    "    result.append(choice.message.content)\n",
    "\n",
    "print(\"\\n\".join(result))"
   ]
  },
  {
   "cell_type": "code",
   "execution_count": 30,
   "metadata": {},
   "outputs": [
    {
     "name": "stdout",
     "output_type": "stream",
     "text": [
      "Prompt1 Response : The sentiment of the sentence \"This movie is amazing!\" is positive.\n",
      "Prompt2 Response : यह फिल्म अद्भुत है!\n",
      "Prompt3 Response : The sentence \"This Movie is Amazing!\" is in English.\n"
     ]
    }
   ],
   "source": [
    "# Chat completion API other examples\n",
    "\n",
    "prompt1 = \"Give me the sentiment of this sentence: This Movie is Amazing!\"\n",
    "\n",
    "response1 =openai.chat.completions.create(\n",
    "    model=\"gpt-3.5-turbo\",\n",
    "    messages=[\n",
    "        {\"role\": \"system\", \"content\": \"You are a helpful assistant.\"},\n",
    "        {\"role\": \"user\", \"content\": prompt1}\n",
    "    ],\n",
    "    temperature = 0.6,\n",
    ")\n",
    "\n",
    "print(\"Prompt1 Response : \" + response1.choices[0].message.content)\n",
    "\n",
    "\n",
    "\n",
    "\n",
    "prompt2 = \"Give me hindi transilation of this sentence: This Movie is Amazing!\"\n",
    "\n",
    "response2 =openai.chat.completions.create(\n",
    "    model=\"gpt-3.5-turbo\",\n",
    "    messages=[\n",
    "        {\"role\": \"system\", \"content\": \"You are a helpful assistant.\"},\n",
    "        {\"role\": \"user\", \"content\": prompt2}\n",
    "    ],\n",
    "    temperature = 0.6,\n",
    ")\n",
    "\n",
    "\n",
    "print(\"Prompt2 Response : \" + response2.choices[0].message.content)\n",
    "\n",
    "\n",
    "\n",
    "\n",
    "prompt3 = \"Detect the language of this sentence: This Movie is Amazing!\"\n",
    "\n",
    "response3 =openai.chat.completions.create(\n",
    "    model=\"gpt-3.5-turbo\",\n",
    "    messages=[\n",
    "        {\"role\": \"system\", \"content\": \"You are a helpful assistant.\"},\n",
    "        {\"role\": \"user\", \"content\": prompt3}\n",
    "    ],\n",
    "    temperature = 0.6,\n",
    ")\n",
    "\n",
    "print(\"Prompt3 Response : \" + response3.choices[0].message.content)"
   ]
  },
  {
   "cell_type": "markdown",
   "metadata": {},
   "source": [
    "Completion API"
   ]
  },
  {
   "cell_type": "code",
   "execution_count": 36,
   "metadata": {},
   "outputs": [
    {
     "name": "stdout",
     "output_type": "stream",
     "text": [
      " Python is a particular programming language that is principally used for general-computer systems. This programming language is designed through […]\n",
      "\n",
      "Learn How To Become A Crypto Miner: Learn How To Become A Crypto Miner Posted by: admin Bakery and Patisserie Like most tech\n"
     ]
    }
   ],
   "source": [
    "# Only a single prompt is allowed \n",
    "\n",
    "prompt = \"What is Python?\"\n",
    "response = openai.completions.create(\n",
    "    model = \"babbage-002\",\n",
    "    prompt = prompt,\n",
    "    max_tokens = 50\n",
    "\n",
    ")\n",
    "print(response.choices[0].text)"
   ]
  },
  {
   "cell_type": "markdown",
   "metadata": {},
   "source": [
    "Function calling in openAI"
   ]
  },
  {
   "cell_type": "code",
   "execution_count": 38,
   "metadata": {},
   "outputs": [],
   "source": [
    "# Allows the openAI model to communicate with the response of a third party API\n",
    "\n",
    "import requests\n",
    "\n",
    "def get_current_weather(location):\n",
    "    \"\"\"Get the current weather in a given location\"\"\"\n",
    "\n",
    "    url = \"https://ai-weather-by-meteosource.p.rapidapi.com/find_places\"\n",
    "\n",
    "    querystring = {\"text\":location}\n",
    "\n",
    "    RAPID_API_KEY = os.getenv(\"RAPID_API_KEY\")\n",
    "\n",
    "    headers = {\n",
    "      'x-rapidapi-key': RAPID_API_KEY,\n",
    "      'x-rapidapi-host': \"ai-weather-by-meteosource.p.rapidapi.com\"\n",
    "    }\n",
    "\n",
    "    response = requests.get(url, headers=headers, params=querystring)\n",
    "\n",
    "    print(response.json())\n",
    "  \n",
    "    return response.json()\n",
    "\n"
   ]
  },
  {
   "cell_type": "code",
   "execution_count": 39,
   "metadata": {},
   "outputs": [
    {
     "name": "stdout",
     "output_type": "stream",
     "text": [
      "[{'name': 'Delhi', 'place_id': 'delhi', 'adm_area1': 'National Capital Territory of Delhi', 'adm_area2': None, 'country': 'India', 'lat': '28.65195N', 'lon': '77.23149E', 'timezone': 'Asia/Kolkata', 'type': 'settlement'}, {'name': 'Dili', 'place_id': 'dili', 'adm_area1': 'Díli', 'adm_area2': 'Vera Cruz', 'country': 'Timor-Leste', 'lat': '8.55861S', 'lon': '125.57361E', 'timezone': 'Asia/Dili', 'type': 'settlement'}, {'name': 'Delhi', 'place_id': 'delhi-5342522', 'adm_area1': 'California', 'adm_area2': 'Merced', 'country': 'United States of America', 'lat': '37.43216N', 'lon': '120.77854W', 'timezone': 'America/Los_Angeles', 'type': 'settlement'}, {'name': 'Delhi', 'place_id': 'delhi-5114824', 'adm_area1': 'New York', 'adm_area2': 'Delaware', 'country': 'United States of America', 'lat': '42.27814N', 'lon': '74.91599W', 'timezone': 'America/New_York', 'type': 'settlement'}, {'name': 'Delhi', 'place_id': 'delhi-4321929', 'adm_area1': 'Louisiana', 'adm_area2': 'Richland', 'country': 'United States of America', 'lat': '32.45764N', 'lon': '91.49317W', 'timezone': 'America/Chicago', 'type': 'settlement'}, {'name': 'Delhi', 'place_id': 'delhi-4853722', 'adm_area1': 'Iowa', 'adm_area2': 'Delaware', 'country': 'United States of America', 'lat': '42.42971N', 'lon': '91.33098W', 'timezone': 'America/Chicago', 'type': 'settlement'}, {'name': 'Radnor', 'place_id': 'radnor-5167687', 'adm_area1': 'Ohio', 'adm_area2': 'Delaware', 'country': 'United States of America', 'lat': '40.38423N', 'lon': '83.15075W', 'timezone': 'America/New_York', 'type': 'settlement'}, {'name': 'Delhi', 'place_id': 'delhi-5024164', 'adm_area1': 'Minnesota', 'adm_area2': 'Redwood', 'country': 'United States of America', 'lat': '44.59913N', 'lon': '95.21111W', 'timezone': 'America/Chicago', 'type': 'settlement'}, {'name': 'Delhi', 'place_id': 'delhi-4685810', 'adm_area1': 'Texas', 'adm_area2': 'Caldwell', 'country': 'United States of America', 'lat': '29.82745N', 'lon': '97.39555W', 'timezone': 'America/Chicago', 'type': 'settlement'}, {'name': 'National Capital Territory of Delhi', 'place_id': 'national-capital-territory-of-delhi', 'adm_area1': 'National Capital Territory of Delhi', 'adm_area2': None, 'country': 'India', 'lat': '28.6667N', 'lon': '77.1E', 'timezone': 'Asia/Kolkata', 'type': 'administrative_area'}]\n",
      "[{'name': 'Delhi', 'place_id': 'delhi', 'adm_area1': 'National Capital Territory of Delhi', 'adm_area2': None, 'country': 'India', 'lat': '28.65195N', 'lon': '77.23149E', 'timezone': 'Asia/Kolkata', 'type': 'settlement'}, {'name': 'Dili', 'place_id': 'dili', 'adm_area1': 'Díli', 'adm_area2': 'Vera Cruz', 'country': 'Timor-Leste', 'lat': '8.55861S', 'lon': '125.57361E', 'timezone': 'Asia/Dili', 'type': 'settlement'}, {'name': 'Delhi', 'place_id': 'delhi-5342522', 'adm_area1': 'California', 'adm_area2': 'Merced', 'country': 'United States of America', 'lat': '37.43216N', 'lon': '120.77854W', 'timezone': 'America/Los_Angeles', 'type': 'settlement'}, {'name': 'Delhi', 'place_id': 'delhi-5114824', 'adm_area1': 'New York', 'adm_area2': 'Delaware', 'country': 'United States of America', 'lat': '42.27814N', 'lon': '74.91599W', 'timezone': 'America/New_York', 'type': 'settlement'}, {'name': 'Delhi', 'place_id': 'delhi-4321929', 'adm_area1': 'Louisiana', 'adm_area2': 'Richland', 'country': 'United States of America', 'lat': '32.45764N', 'lon': '91.49317W', 'timezone': 'America/Chicago', 'type': 'settlement'}, {'name': 'Delhi', 'place_id': 'delhi-4853722', 'adm_area1': 'Iowa', 'adm_area2': 'Delaware', 'country': 'United States of America', 'lat': '42.42971N', 'lon': '91.33098W', 'timezone': 'America/Chicago', 'type': 'settlement'}, {'name': 'Radnor', 'place_id': 'radnor-5167687', 'adm_area1': 'Ohio', 'adm_area2': 'Delaware', 'country': 'United States of America', 'lat': '40.38423N', 'lon': '83.15075W', 'timezone': 'America/New_York', 'type': 'settlement'}, {'name': 'Delhi', 'place_id': 'delhi-5024164', 'adm_area1': 'Minnesota', 'adm_area2': 'Redwood', 'country': 'United States of America', 'lat': '44.59913N', 'lon': '95.21111W', 'timezone': 'America/Chicago', 'type': 'settlement'}, {'name': 'Delhi', 'place_id': 'delhi-4685810', 'adm_area1': 'Texas', 'adm_area2': 'Caldwell', 'country': 'United States of America', 'lat': '29.82745N', 'lon': '97.39555W', 'timezone': 'America/Chicago', 'type': 'settlement'}, {'name': 'National Capital Territory of Delhi', 'place_id': 'national-capital-territory-of-delhi', 'adm_area1': 'National Capital Territory of Delhi', 'adm_area2': None, 'country': 'India', 'lat': '28.6667N', 'lon': '77.1E', 'timezone': 'Asia/Kolkata', 'type': 'administrative_area'}]\n"
     ]
    }
   ],
   "source": [
    "response = get_current_weather(\"Delhi\")\n",
    "print(response)\n"
   ]
  },
  {
   "cell_type": "code",
   "execution_count": 40,
   "metadata": {},
   "outputs": [],
   "source": [
    "functions = [\n",
    "        {\n",
    "            \"name\": \"get_current_weather\",\n",
    "            \"description\": \"Get the current weather in a given location\",\n",
    "            \"parameters\": {\n",
    "                \"type\": \"object\",\n",
    "                \"properties\": {\n",
    "                    \"location\": {\n",
    "                        \"type\": \"string\",\n",
    "                        \"description\": \"The city and state, e.g. San Francisco, CA\",\n",
    "                    },\n",
    "                    \n",
    "                },\n",
    "                \"required\": [\"location\"],\n",
    "            },\n",
    "        }\n",
    "    ]"
   ]
  },
  {
   "cell_type": "code",
   "execution_count": 41,
   "metadata": {},
   "outputs": [],
   "source": [
    "user_message=\"What is the temperature of Bangalore\"\n",
    "messages=[]\n",
    "\n",
    "\n",
    "messages.append({\"role\": \"user\", \"content\": user_message})\n",
    "\n",
    "completion=openai.chat.completions.create(\n",
    "    model=\"gpt-3.5-turbo\",\n",
    "    messages=messages,\n",
    "    functions=functions\n",
    "    \n",
    ")"
   ]
  },
  {
   "cell_type": "code",
   "execution_count": 42,
   "metadata": {},
   "outputs": [
    {
     "data": {
      "text/plain": [
       "ChatCompletion(id='chatcmpl-Axi5GScEj6VsyuFcYfpYsrsDD3aG3', choices=[Choice(finish_reason='function_call', index=0, logprobs=None, message=ChatCompletionMessage(content=None, refusal=None, role='assistant', audio=None, function_call=FunctionCall(arguments='{\"location\":\"Bangalore\"}', name='get_current_weather'), tool_calls=None))], created=1738794174, model='gpt-3.5-turbo-0125', object='chat.completion', service_tier='default', system_fingerprint=None, usage=CompletionUsage(completion_tokens=17, prompt_tokens=69, total_tokens=86, completion_tokens_details=CompletionTokensDetails(accepted_prediction_tokens=0, audio_tokens=0, reasoning_tokens=0, rejected_prediction_tokens=0), prompt_tokens_details=PromptTokensDetails(audio_tokens=0, cached_tokens=0)))"
      ]
     },
     "execution_count": 42,
     "metadata": {},
     "output_type": "execute_result"
    }
   ],
   "source": [
    "completion"
   ]
  },
  {
   "cell_type": "code",
   "execution_count": 43,
   "metadata": {},
   "outputs": [
    {
     "data": {
      "text/plain": [
       "ChatCompletionMessage(content=None, refusal=None, role='assistant', audio=None, function_call=FunctionCall(arguments='{\"location\":\"Bangalore\"}', name='get_current_weather'), tool_calls=None)"
      ]
     },
     "execution_count": 43,
     "metadata": {},
     "output_type": "execute_result"
    }
   ],
   "source": [
    "response=completion.choices[0].message\n",
    "response"
   ]
  },
  {
   "cell_type": "code",
   "execution_count": 45,
   "metadata": {},
   "outputs": [
    {
     "data": {
      "text/plain": [
       "'get_current_weather'"
      ]
     },
     "execution_count": 45,
     "metadata": {},
     "output_type": "execute_result"
    }
   ],
   "source": [
    "function_name=response.function_call.name\n",
    "function_name"
   ]
  },
  {
   "cell_type": "code",
   "execution_count": 50,
   "metadata": {},
   "outputs": [
    {
     "data": {
      "text/plain": [
       "'Bangalore'"
      ]
     },
     "execution_count": 50,
     "metadata": {},
     "output_type": "execute_result"
    }
   ],
   "source": [
    "import json\n",
    "\n",
    "locationData=eval(response.function_call.arguments)\n",
    "location  = locationData[\"location\"]\n",
    "location"
   ]
  },
  {
   "cell_type": "code",
   "execution_count": 51,
   "metadata": {},
   "outputs": [
    {
     "data": {
      "text/plain": [
       "[{'role': 'user', 'content': 'What is the temperature of Bangalore'},\n",
       " ChatCompletionMessage(content=None, refusal=None, role='assistant', audio=None, function_call=FunctionCall(arguments='{\"location\":\"Bangalore\"}', name='get_current_weather'), tool_calls=None),\n",
       " {'role': 'function', 'name': 'get_current_weather', 'content': 'Bangalore'}]"
      ]
     },
     "execution_count": 51,
     "metadata": {},
     "output_type": "execute_result"
    }
   ],
   "source": [
    "# Send the info on the function call and function response to GPT\n",
    "messages.append(response)  # extend conversation with assistant's reply\n",
    "messages.append(\n",
    "    {\n",
    "        \"role\": \"function\",\n",
    "        \"name\": function_name,\n",
    "        \"content\": location,\n",
    "    }\n",
    ")\n",
    "\n",
    "messages"
   ]
  },
  {
   "cell_type": "code",
   "execution_count": 52,
   "metadata": {},
   "outputs": [],
   "source": [
    "\n",
    "\n",
    "\n",
    "# extend conversation with function response\n",
    "second_response = openai.chat.completions.create(\n",
    "    model=\"gpt-3.5-turbo\",\n",
    "    messages=messages,\n",
    "    functions=functions\n",
    ")  # get a new response from GPT where it can see the function response\n",
    "\n",
    "\n"
   ]
  },
  {
   "cell_type": "code",
   "execution_count": 54,
   "metadata": {},
   "outputs": [
    {
     "name": "stdout",
     "output_type": "stream",
     "text": [
      "The current temperature in Bangalore is 27°C.\n"
     ]
    }
   ],
   "source": [
    "print(second_response.choices[0].message.content)\n"
   ]
  }
 ],
 "metadata": {
  "kernelspec": {
   "display_name": "openaidemoenv",
   "language": "python",
   "name": "python3"
  },
  "language_info": {
   "codemirror_mode": {
    "name": "ipython",
    "version": 3
   },
   "file_extension": ".py",
   "mimetype": "text/x-python",
   "name": "python",
   "nbconvert_exporter": "python",
   "pygments_lexer": "ipython3",
   "version": "3.10.16"
  }
 },
 "nbformat": 4,
 "nbformat_minor": 2
}
