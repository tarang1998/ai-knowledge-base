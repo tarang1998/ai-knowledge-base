{
  "nbformat": 4,
  "nbformat_minor": 0,
  "metadata": {
    "colab": {
      "provenance": [],
      "authorship_tag": "ABX9TyOs03ak/S3ExkWoTEzhs8nZ",
      "include_colab_link": true
    },
    "kernelspec": {
      "name": "python3",
      "display_name": "Python 3"
    },
    "language_info": {
      "name": "python"
    }
  },
  "cells": [
    {
      "cell_type": "markdown",
      "metadata": {
        "id": "view-in-github",
        "colab_type": "text"
      },
      "source": [
        "<a href=\"https://colab.research.google.com/github/tarang1998/ML-AI-DL/blob/main/gen-ai/vectorDB/pinecone/Pinecone.ipynb\" target=\"_parent\"><img src=\"https://colab.research.google.com/assets/colab-badge.svg\" alt=\"Open In Colab\"/></a>"
      ]
    },
    {
      "cell_type": "code",
      "execution_count": 1,
      "metadata": {
        "colab": {
          "base_uri": "https://localhost:8080/"
        },
        "id": "vlF-VZPc6Cb4",
        "outputId": "c10390bf-fade-4137-a7ba-936248d54fca"
      },
      "outputs": [
        {
          "output_type": "stream",
          "name": "stdout",
          "text": [
            "Requirement already satisfied: langchain in /usr/local/lib/python3.11/dist-packages (0.3.18)\n",
            "Requirement already satisfied: langchain-core<1.0.0,>=0.3.34 in /usr/local/lib/python3.11/dist-packages (from langchain) (0.3.35)\n",
            "Requirement already satisfied: langchain-text-splitters<1.0.0,>=0.3.6 in /usr/local/lib/python3.11/dist-packages (from langchain) (0.3.6)\n",
            "Requirement already satisfied: langsmith<0.4,>=0.1.17 in /usr/local/lib/python3.11/dist-packages (from langchain) (0.3.8)\n",
            "Requirement already satisfied: pydantic<3.0.0,>=2.7.4 in /usr/local/lib/python3.11/dist-packages (from langchain) (2.10.6)\n",
            "Requirement already satisfied: SQLAlchemy<3,>=1.4 in /usr/local/lib/python3.11/dist-packages (from langchain) (2.0.38)\n",
            "Requirement already satisfied: requests<3,>=2 in /usr/local/lib/python3.11/dist-packages (from langchain) (2.32.3)\n",
            "Requirement already satisfied: PyYAML>=5.3 in /usr/local/lib/python3.11/dist-packages (from langchain) (6.0.2)\n",
            "Requirement already satisfied: aiohttp<4.0.0,>=3.8.3 in /usr/local/lib/python3.11/dist-packages (from langchain) (3.11.12)\n",
            "Requirement already satisfied: tenacity!=8.4.0,<10,>=8.1.0 in /usr/local/lib/python3.11/dist-packages (from langchain) (9.0.0)\n",
            "Requirement already satisfied: numpy<2,>=1.26.4 in /usr/local/lib/python3.11/dist-packages (from langchain) (1.26.4)\n",
            "Requirement already satisfied: aiohappyeyeballs>=2.3.0 in /usr/local/lib/python3.11/dist-packages (from aiohttp<4.0.0,>=3.8.3->langchain) (2.4.6)\n",
            "Requirement already satisfied: aiosignal>=1.1.2 in /usr/local/lib/python3.11/dist-packages (from aiohttp<4.0.0,>=3.8.3->langchain) (1.3.2)\n",
            "Requirement already satisfied: attrs>=17.3.0 in /usr/local/lib/python3.11/dist-packages (from aiohttp<4.0.0,>=3.8.3->langchain) (25.1.0)\n",
            "Requirement already satisfied: frozenlist>=1.1.1 in /usr/local/lib/python3.11/dist-packages (from aiohttp<4.0.0,>=3.8.3->langchain) (1.5.0)\n",
            "Requirement already satisfied: multidict<7.0,>=4.5 in /usr/local/lib/python3.11/dist-packages (from aiohttp<4.0.0,>=3.8.3->langchain) (6.1.0)\n",
            "Requirement already satisfied: propcache>=0.2.0 in /usr/local/lib/python3.11/dist-packages (from aiohttp<4.0.0,>=3.8.3->langchain) (0.2.1)\n",
            "Requirement already satisfied: yarl<2.0,>=1.17.0 in /usr/local/lib/python3.11/dist-packages (from aiohttp<4.0.0,>=3.8.3->langchain) (1.18.3)\n",
            "Requirement already satisfied: jsonpatch<2.0,>=1.33 in /usr/local/lib/python3.11/dist-packages (from langchain-core<1.0.0,>=0.3.34->langchain) (1.33)\n",
            "Requirement already satisfied: packaging<25,>=23.2 in /usr/local/lib/python3.11/dist-packages (from langchain-core<1.0.0,>=0.3.34->langchain) (24.2)\n",
            "Requirement already satisfied: typing-extensions>=4.7 in /usr/local/lib/python3.11/dist-packages (from langchain-core<1.0.0,>=0.3.34->langchain) (4.12.2)\n",
            "Requirement already satisfied: httpx<1,>=0.23.0 in /usr/local/lib/python3.11/dist-packages (from langsmith<0.4,>=0.1.17->langchain) (0.28.1)\n",
            "Requirement already satisfied: orjson<4.0.0,>=3.9.14 in /usr/local/lib/python3.11/dist-packages (from langsmith<0.4,>=0.1.17->langchain) (3.10.15)\n",
            "Requirement already satisfied: requests-toolbelt<2.0.0,>=1.0.0 in /usr/local/lib/python3.11/dist-packages (from langsmith<0.4,>=0.1.17->langchain) (1.0.0)\n",
            "Requirement already satisfied: zstandard<0.24.0,>=0.23.0 in /usr/local/lib/python3.11/dist-packages (from langsmith<0.4,>=0.1.17->langchain) (0.23.0)\n",
            "Requirement already satisfied: annotated-types>=0.6.0 in /usr/local/lib/python3.11/dist-packages (from pydantic<3.0.0,>=2.7.4->langchain) (0.7.0)\n",
            "Requirement already satisfied: pydantic-core==2.27.2 in /usr/local/lib/python3.11/dist-packages (from pydantic<3.0.0,>=2.7.4->langchain) (2.27.2)\n",
            "Requirement already satisfied: charset-normalizer<4,>=2 in /usr/local/lib/python3.11/dist-packages (from requests<3,>=2->langchain) (3.4.1)\n",
            "Requirement already satisfied: idna<4,>=2.5 in /usr/local/lib/python3.11/dist-packages (from requests<3,>=2->langchain) (3.10)\n",
            "Requirement already satisfied: urllib3<3,>=1.21.1 in /usr/local/lib/python3.11/dist-packages (from requests<3,>=2->langchain) (2.3.0)\n",
            "Requirement already satisfied: certifi>=2017.4.17 in /usr/local/lib/python3.11/dist-packages (from requests<3,>=2->langchain) (2025.1.31)\n",
            "Requirement already satisfied: greenlet!=0.4.17 in /usr/local/lib/python3.11/dist-packages (from SQLAlchemy<3,>=1.4->langchain) (3.1.1)\n",
            "Requirement already satisfied: anyio in /usr/local/lib/python3.11/dist-packages (from httpx<1,>=0.23.0->langsmith<0.4,>=0.1.17->langchain) (3.7.1)\n",
            "Requirement already satisfied: httpcore==1.* in /usr/local/lib/python3.11/dist-packages (from httpx<1,>=0.23.0->langsmith<0.4,>=0.1.17->langchain) (1.0.7)\n",
            "Requirement already satisfied: h11<0.15,>=0.13 in /usr/local/lib/python3.11/dist-packages (from httpcore==1.*->httpx<1,>=0.23.0->langsmith<0.4,>=0.1.17->langchain) (0.14.0)\n",
            "Requirement already satisfied: jsonpointer>=1.9 in /usr/local/lib/python3.11/dist-packages (from jsonpatch<2.0,>=1.33->langchain-core<1.0.0,>=0.3.34->langchain) (3.0.0)\n",
            "Requirement already satisfied: sniffio>=1.1 in /usr/local/lib/python3.11/dist-packages (from anyio->httpx<1,>=0.23.0->langsmith<0.4,>=0.1.17->langchain) (1.3.1)\n",
            "Collecting pinecone-client\n",
            "  Downloading pinecone_client-5.0.1-py3-none-any.whl.metadata (19 kB)\n",
            "Requirement already satisfied: certifi>=2019.11.17 in /usr/local/lib/python3.11/dist-packages (from pinecone-client) (2025.1.31)\n",
            "Collecting pinecone-plugin-inference<2.0.0,>=1.0.3 (from pinecone-client)\n",
            "  Downloading pinecone_plugin_inference-1.1.0-py3-none-any.whl.metadata (2.2 kB)\n",
            "Collecting pinecone-plugin-interface<0.0.8,>=0.0.7 (from pinecone-client)\n",
            "  Downloading pinecone_plugin_interface-0.0.7-py3-none-any.whl.metadata (1.2 kB)\n",
            "Requirement already satisfied: tqdm>=4.64.1 in /usr/local/lib/python3.11/dist-packages (from pinecone-client) (4.67.1)\n",
            "Requirement already satisfied: typing-extensions>=3.7.4 in /usr/local/lib/python3.11/dist-packages (from pinecone-client) (4.12.2)\n",
            "Requirement already satisfied: urllib3>=1.26.0 in /usr/local/lib/python3.11/dist-packages (from pinecone-client) (2.3.0)\n",
            "Downloading pinecone_client-5.0.1-py3-none-any.whl (244 kB)\n",
            "\u001b[2K   \u001b[90m━━━━━━━━━━━━━━━━━━━━━━━━━━━━━━━━━━━━━━━━\u001b[0m \u001b[32m244.8/244.8 kB\u001b[0m \u001b[31m5.4 MB/s\u001b[0m eta \u001b[36m0:00:00\u001b[0m\n",
            "\u001b[?25hDownloading pinecone_plugin_inference-1.1.0-py3-none-any.whl (85 kB)\n",
            "\u001b[2K   \u001b[90m━━━━━━━━━━━━━━━━━━━━━━━━━━━━━━━━━━━━━━━━\u001b[0m \u001b[32m85.4/85.4 kB\u001b[0m \u001b[31m6.2 MB/s\u001b[0m eta \u001b[36m0:00:00\u001b[0m\n",
            "\u001b[?25hDownloading pinecone_plugin_interface-0.0.7-py3-none-any.whl (6.2 kB)\n",
            "Installing collected packages: pinecone-plugin-interface, pinecone-plugin-inference, pinecone-client\n",
            "Successfully installed pinecone-client-5.0.1 pinecone-plugin-inference-1.1.0 pinecone-plugin-interface-0.0.7\n",
            "Collecting pypdf\n",
            "  Downloading pypdf-5.3.0-py3-none-any.whl.metadata (7.2 kB)\n",
            "Downloading pypdf-5.3.0-py3-none-any.whl (300 kB)\n",
            "\u001b[2K   \u001b[90m━━━━━━━━━━━━━━━━━━━━━━━━━━━━━━━━━━━━━━━━\u001b[0m \u001b[32m300.7/300.7 kB\u001b[0m \u001b[31m4.6 MB/s\u001b[0m eta \u001b[36m0:00:00\u001b[0m\n",
            "\u001b[?25hInstalling collected packages: pypdf\n",
            "Successfully installed pypdf-5.3.0\n",
            "Collecting langchain-community\n",
            "  Downloading langchain_community-0.3.17-py3-none-any.whl.metadata (2.4 kB)\n",
            "Requirement already satisfied: langchain-core<1.0.0,>=0.3.34 in /usr/local/lib/python3.11/dist-packages (from langchain-community) (0.3.35)\n",
            "Requirement already satisfied: langchain<1.0.0,>=0.3.18 in /usr/local/lib/python3.11/dist-packages (from langchain-community) (0.3.18)\n",
            "Requirement already satisfied: SQLAlchemy<3,>=1.4 in /usr/local/lib/python3.11/dist-packages (from langchain-community) (2.0.38)\n",
            "Requirement already satisfied: requests<3,>=2 in /usr/local/lib/python3.11/dist-packages (from langchain-community) (2.32.3)\n",
            "Requirement already satisfied: PyYAML>=5.3 in /usr/local/lib/python3.11/dist-packages (from langchain-community) (6.0.2)\n",
            "Requirement already satisfied: aiohttp<4.0.0,>=3.8.3 in /usr/local/lib/python3.11/dist-packages (from langchain-community) (3.11.12)\n",
            "Requirement already satisfied: tenacity!=8.4.0,<10,>=8.1.0 in /usr/local/lib/python3.11/dist-packages (from langchain-community) (9.0.0)\n",
            "Collecting dataclasses-json<0.7,>=0.5.7 (from langchain-community)\n",
            "  Downloading dataclasses_json-0.6.7-py3-none-any.whl.metadata (25 kB)\n",
            "Collecting pydantic-settings<3.0.0,>=2.4.0 (from langchain-community)\n",
            "  Downloading pydantic_settings-2.7.1-py3-none-any.whl.metadata (3.5 kB)\n",
            "Requirement already satisfied: langsmith<0.4,>=0.1.125 in /usr/local/lib/python3.11/dist-packages (from langchain-community) (0.3.8)\n",
            "Collecting httpx-sse<1.0.0,>=0.4.0 (from langchain-community)\n",
            "  Downloading httpx_sse-0.4.0-py3-none-any.whl.metadata (9.0 kB)\n",
            "Requirement already satisfied: numpy<2,>=1.26.4 in /usr/local/lib/python3.11/dist-packages (from langchain-community) (1.26.4)\n",
            "Requirement already satisfied: aiohappyeyeballs>=2.3.0 in /usr/local/lib/python3.11/dist-packages (from aiohttp<4.0.0,>=3.8.3->langchain-community) (2.4.6)\n",
            "Requirement already satisfied: aiosignal>=1.1.2 in /usr/local/lib/python3.11/dist-packages (from aiohttp<4.0.0,>=3.8.3->langchain-community) (1.3.2)\n",
            "Requirement already satisfied: attrs>=17.3.0 in /usr/local/lib/python3.11/dist-packages (from aiohttp<4.0.0,>=3.8.3->langchain-community) (25.1.0)\n",
            "Requirement already satisfied: frozenlist>=1.1.1 in /usr/local/lib/python3.11/dist-packages (from aiohttp<4.0.0,>=3.8.3->langchain-community) (1.5.0)\n",
            "Requirement already satisfied: multidict<7.0,>=4.5 in /usr/local/lib/python3.11/dist-packages (from aiohttp<4.0.0,>=3.8.3->langchain-community) (6.1.0)\n",
            "Requirement already satisfied: propcache>=0.2.0 in /usr/local/lib/python3.11/dist-packages (from aiohttp<4.0.0,>=3.8.3->langchain-community) (0.2.1)\n",
            "Requirement already satisfied: yarl<2.0,>=1.17.0 in /usr/local/lib/python3.11/dist-packages (from aiohttp<4.0.0,>=3.8.3->langchain-community) (1.18.3)\n",
            "Collecting marshmallow<4.0.0,>=3.18.0 (from dataclasses-json<0.7,>=0.5.7->langchain-community)\n",
            "  Downloading marshmallow-3.26.1-py3-none-any.whl.metadata (7.3 kB)\n",
            "Collecting typing-inspect<1,>=0.4.0 (from dataclasses-json<0.7,>=0.5.7->langchain-community)\n",
            "  Downloading typing_inspect-0.9.0-py3-none-any.whl.metadata (1.5 kB)\n",
            "Requirement already satisfied: langchain-text-splitters<1.0.0,>=0.3.6 in /usr/local/lib/python3.11/dist-packages (from langchain<1.0.0,>=0.3.18->langchain-community) (0.3.6)\n",
            "Requirement already satisfied: pydantic<3.0.0,>=2.7.4 in /usr/local/lib/python3.11/dist-packages (from langchain<1.0.0,>=0.3.18->langchain-community) (2.10.6)\n",
            "Requirement already satisfied: jsonpatch<2.0,>=1.33 in /usr/local/lib/python3.11/dist-packages (from langchain-core<1.0.0,>=0.3.34->langchain-community) (1.33)\n",
            "Requirement already satisfied: packaging<25,>=23.2 in /usr/local/lib/python3.11/dist-packages (from langchain-core<1.0.0,>=0.3.34->langchain-community) (24.2)\n",
            "Requirement already satisfied: typing-extensions>=4.7 in /usr/local/lib/python3.11/dist-packages (from langchain-core<1.0.0,>=0.3.34->langchain-community) (4.12.2)\n",
            "Requirement already satisfied: httpx<1,>=0.23.0 in /usr/local/lib/python3.11/dist-packages (from langsmith<0.4,>=0.1.125->langchain-community) (0.28.1)\n",
            "Requirement already satisfied: orjson<4.0.0,>=3.9.14 in /usr/local/lib/python3.11/dist-packages (from langsmith<0.4,>=0.1.125->langchain-community) (3.10.15)\n",
            "Requirement already satisfied: requests-toolbelt<2.0.0,>=1.0.0 in /usr/local/lib/python3.11/dist-packages (from langsmith<0.4,>=0.1.125->langchain-community) (1.0.0)\n",
            "Requirement already satisfied: zstandard<0.24.0,>=0.23.0 in /usr/local/lib/python3.11/dist-packages (from langsmith<0.4,>=0.1.125->langchain-community) (0.23.0)\n",
            "Collecting python-dotenv>=0.21.0 (from pydantic-settings<3.0.0,>=2.4.0->langchain-community)\n",
            "  Downloading python_dotenv-1.0.1-py3-none-any.whl.metadata (23 kB)\n",
            "Requirement already satisfied: charset-normalizer<4,>=2 in /usr/local/lib/python3.11/dist-packages (from requests<3,>=2->langchain-community) (3.4.1)\n",
            "Requirement already satisfied: idna<4,>=2.5 in /usr/local/lib/python3.11/dist-packages (from requests<3,>=2->langchain-community) (3.10)\n",
            "Requirement already satisfied: urllib3<3,>=1.21.1 in /usr/local/lib/python3.11/dist-packages (from requests<3,>=2->langchain-community) (2.3.0)\n",
            "Requirement already satisfied: certifi>=2017.4.17 in /usr/local/lib/python3.11/dist-packages (from requests<3,>=2->langchain-community) (2025.1.31)\n",
            "Requirement already satisfied: greenlet!=0.4.17 in /usr/local/lib/python3.11/dist-packages (from SQLAlchemy<3,>=1.4->langchain-community) (3.1.1)\n",
            "Requirement already satisfied: anyio in /usr/local/lib/python3.11/dist-packages (from httpx<1,>=0.23.0->langsmith<0.4,>=0.1.125->langchain-community) (3.7.1)\n",
            "Requirement already satisfied: httpcore==1.* in /usr/local/lib/python3.11/dist-packages (from httpx<1,>=0.23.0->langsmith<0.4,>=0.1.125->langchain-community) (1.0.7)\n",
            "Requirement already satisfied: h11<0.15,>=0.13 in /usr/local/lib/python3.11/dist-packages (from httpcore==1.*->httpx<1,>=0.23.0->langsmith<0.4,>=0.1.125->langchain-community) (0.14.0)\n",
            "Requirement already satisfied: jsonpointer>=1.9 in /usr/local/lib/python3.11/dist-packages (from jsonpatch<2.0,>=1.33->langchain-core<1.0.0,>=0.3.34->langchain-community) (3.0.0)\n",
            "Requirement already satisfied: annotated-types>=0.6.0 in /usr/local/lib/python3.11/dist-packages (from pydantic<3.0.0,>=2.7.4->langchain<1.0.0,>=0.3.18->langchain-community) (0.7.0)\n",
            "Requirement already satisfied: pydantic-core==2.27.2 in /usr/local/lib/python3.11/dist-packages (from pydantic<3.0.0,>=2.7.4->langchain<1.0.0,>=0.3.18->langchain-community) (2.27.2)\n",
            "Collecting mypy-extensions>=0.3.0 (from typing-inspect<1,>=0.4.0->dataclasses-json<0.7,>=0.5.7->langchain-community)\n",
            "  Downloading mypy_extensions-1.0.0-py3-none-any.whl.metadata (1.1 kB)\n",
            "Requirement already satisfied: sniffio>=1.1 in /usr/local/lib/python3.11/dist-packages (from anyio->httpx<1,>=0.23.0->langsmith<0.4,>=0.1.125->langchain-community) (1.3.1)\n",
            "Downloading langchain_community-0.3.17-py3-none-any.whl (2.5 MB)\n",
            "\u001b[2K   \u001b[90m━━━━━━━━━━━━━━━━━━━━━━━━━━━━━━━━━━━━━━━━\u001b[0m \u001b[32m2.5/2.5 MB\u001b[0m \u001b[31m29.0 MB/s\u001b[0m eta \u001b[36m0:00:00\u001b[0m\n",
            "\u001b[?25hDownloading dataclasses_json-0.6.7-py3-none-any.whl (28 kB)\n",
            "Downloading httpx_sse-0.4.0-py3-none-any.whl (7.8 kB)\n",
            "Downloading pydantic_settings-2.7.1-py3-none-any.whl (29 kB)\n",
            "Downloading marshmallow-3.26.1-py3-none-any.whl (50 kB)\n",
            "\u001b[2K   \u001b[90m━━━━━━━━━━━━━━━━━━━━━━━━━━━━━━━━━━━━━━━━\u001b[0m \u001b[32m50.9/50.9 kB\u001b[0m \u001b[31m3.5 MB/s\u001b[0m eta \u001b[36m0:00:00\u001b[0m\n",
            "\u001b[?25hDownloading python_dotenv-1.0.1-py3-none-any.whl (19 kB)\n",
            "Downloading typing_inspect-0.9.0-py3-none-any.whl (8.8 kB)\n",
            "Downloading mypy_extensions-1.0.0-py3-none-any.whl (4.7 kB)\n",
            "Installing collected packages: python-dotenv, mypy-extensions, marshmallow, httpx-sse, typing-inspect, pydantic-settings, dataclasses-json, langchain-community\n",
            "Successfully installed dataclasses-json-0.6.7 httpx-sse-0.4.0 langchain-community-0.3.17 marshmallow-3.26.1 mypy-extensions-1.0.0 pydantic-settings-2.7.1 python-dotenv-1.0.1 typing-inspect-0.9.0\n"
          ]
        }
      ],
      "source": [
        "!pip install langchain\n",
        "!pip install pinecone-client\n",
        "!pip install pypdf\n",
        "!pip install langchain-community"
      ]
    },
    {
      "cell_type": "code",
      "source": [
        "!pip install openai\n",
        "!pip install tiktoken"
      ],
      "metadata": {
        "colab": {
          "base_uri": "https://localhost:8080/"
        },
        "id": "rk5a0BeJv55g",
        "outputId": "a3656077-9b27-41b0-9e39-2b8b8c86b75f"
      },
      "execution_count": 2,
      "outputs": [
        {
          "output_type": "stream",
          "name": "stdout",
          "text": [
            "Requirement already satisfied: openai in /usr/local/lib/python3.11/dist-packages (1.61.1)\n",
            "Requirement already satisfied: anyio<5,>=3.5.0 in /usr/local/lib/python3.11/dist-packages (from openai) (3.7.1)\n",
            "Requirement already satisfied: distro<2,>=1.7.0 in /usr/local/lib/python3.11/dist-packages (from openai) (1.9.0)\n",
            "Requirement already satisfied: httpx<1,>=0.23.0 in /usr/local/lib/python3.11/dist-packages (from openai) (0.28.1)\n",
            "Requirement already satisfied: jiter<1,>=0.4.0 in /usr/local/lib/python3.11/dist-packages (from openai) (0.8.2)\n",
            "Requirement already satisfied: pydantic<3,>=1.9.0 in /usr/local/lib/python3.11/dist-packages (from openai) (2.10.6)\n",
            "Requirement already satisfied: sniffio in /usr/local/lib/python3.11/dist-packages (from openai) (1.3.1)\n",
            "Requirement already satisfied: tqdm>4 in /usr/local/lib/python3.11/dist-packages (from openai) (4.67.1)\n",
            "Requirement already satisfied: typing-extensions<5,>=4.11 in /usr/local/lib/python3.11/dist-packages (from openai) (4.12.2)\n",
            "Requirement already satisfied: idna>=2.8 in /usr/local/lib/python3.11/dist-packages (from anyio<5,>=3.5.0->openai) (3.10)\n",
            "Requirement already satisfied: certifi in /usr/local/lib/python3.11/dist-packages (from httpx<1,>=0.23.0->openai) (2025.1.31)\n",
            "Requirement already satisfied: httpcore==1.* in /usr/local/lib/python3.11/dist-packages (from httpx<1,>=0.23.0->openai) (1.0.7)\n",
            "Requirement already satisfied: h11<0.15,>=0.13 in /usr/local/lib/python3.11/dist-packages (from httpcore==1.*->httpx<1,>=0.23.0->openai) (0.14.0)\n",
            "Requirement already satisfied: annotated-types>=0.6.0 in /usr/local/lib/python3.11/dist-packages (from pydantic<3,>=1.9.0->openai) (0.7.0)\n",
            "Requirement already satisfied: pydantic-core==2.27.2 in /usr/local/lib/python3.11/dist-packages (from pydantic<3,>=1.9.0->openai) (2.27.2)\n",
            "Collecting tiktoken\n",
            "  Downloading tiktoken-0.9.0-cp311-cp311-manylinux_2_17_x86_64.manylinux2014_x86_64.whl.metadata (6.7 kB)\n",
            "Requirement already satisfied: regex>=2022.1.18 in /usr/local/lib/python3.11/dist-packages (from tiktoken) (2024.11.6)\n",
            "Requirement already satisfied: requests>=2.26.0 in /usr/local/lib/python3.11/dist-packages (from tiktoken) (2.32.3)\n",
            "Requirement already satisfied: charset-normalizer<4,>=2 in /usr/local/lib/python3.11/dist-packages (from requests>=2.26.0->tiktoken) (3.4.1)\n",
            "Requirement already satisfied: idna<4,>=2.5 in /usr/local/lib/python3.11/dist-packages (from requests>=2.26.0->tiktoken) (3.10)\n",
            "Requirement already satisfied: urllib3<3,>=1.21.1 in /usr/local/lib/python3.11/dist-packages (from requests>=2.26.0->tiktoken) (2.3.0)\n",
            "Requirement already satisfied: certifi>=2017.4.17 in /usr/local/lib/python3.11/dist-packages (from requests>=2.26.0->tiktoken) (2025.1.31)\n",
            "Downloading tiktoken-0.9.0-cp311-cp311-manylinux_2_17_x86_64.manylinux2014_x86_64.whl (1.2 MB)\n",
            "\u001b[2K   \u001b[90m━━━━━━━━━━━━━━━━━━━━━━━━━━━━━━━━━━━━━━━━\u001b[0m \u001b[32m1.2/1.2 MB\u001b[0m \u001b[31m10.5 MB/s\u001b[0m eta \u001b[36m0:00:00\u001b[0m\n",
            "\u001b[?25hInstalling collected packages: tiktoken\n",
            "Successfully installed tiktoken-0.9.0\n"
          ]
        }
      ]
    },
    {
      "cell_type": "code",
      "source": [
        "from langchain.document_loaders import PyPDFDirectoryLoader\n",
        "from langchain.text_splitter import RecursiveCharacterTextSplitter\n",
        "from langchain.embeddings import OpenAIEmbeddings\n",
        "from langchain.llms import OpenAI\n",
        "from langchain.vectorstores import Pinecone\n",
        "from langchain.chains import RetrievalQA\n",
        "from langchain.prompts import PromptTemplate\n",
        "import os"
      ],
      "metadata": {
        "id": "v-wvLhmaywKU"
      },
      "execution_count": 3,
      "outputs": []
    },
    {
      "cell_type": "code",
      "source": [
        "!mkdir pdfs\n",
        "# Upload PDFS in this directory"
      ],
      "metadata": {
        "id": "8O0PtisRzvIP"
      },
      "execution_count": 4,
      "outputs": []
    },
    {
      "cell_type": "code",
      "source": [
        "!gdown 1aLMpgxJoBHJfqGKMA82M1VK-tW9rXLIT -O pdfs/tarangResume.pdf\n",
        "\n"
      ],
      "metadata": {
        "colab": {
          "base_uri": "https://localhost:8080/"
        },
        "id": "cI37TirZ0Mqg",
        "outputId": "299fd203-5e62-46f8-af76-98452fffa60c"
      },
      "execution_count": 5,
      "outputs": [
        {
          "output_type": "stream",
          "name": "stdout",
          "text": [
            "Downloading...\n",
            "From: https://drive.google.com/uc?id=1aLMpgxJoBHJfqGKMA82M1VK-tW9rXLIT\n",
            "To: /content/pdfs/tarangResume.pdf\n",
            "\r  0% 0.00/130k [00:00<?, ?B/s]\r100% 130k/130k [00:00<00:00, 29.5MB/s]\n"
          ]
        }
      ]
    },
    {
      "cell_type": "code",
      "source": [
        "# Extract text data from the pdf\n",
        "\n",
        "loader = PyPDFDirectoryLoader(\"pdfs\")\n",
        "data = loader.load()\n",
        "data"
      ],
      "metadata": {
        "colab": {
          "base_uri": "https://localhost:8080/"
        },
        "id": "dPc_tnUF0PJU",
        "outputId": "53f54c55-350e-4c73-85d3-da9c5705c2e4"
      },
      "execution_count": 6,
      "outputs": [
        {
          "output_type": "execute_result",
          "data": {
            "text/plain": [
              "[Document(metadata={'producer': 'Skia/PDF m119 Google Docs Renderer', 'creator': 'PyPDF', 'creationdate': '', 'title': 'Resume - Tarang Nair', 'source': 'pdfs/tarangResume.pdf', 'total_pages': 2, 'page': 0, 'page_label': '1'}, page_content='TARANGNAIRArlington,Virginia| +1571-385-5625| tarangnair98@gmail.com| linkedin.com/in/tarangnair1998| github.com/tarang1998|tarangnair.com\\nEDUCATION-UniversityOfMaryland,CollegePark Maryland,USMastersOfEngineeringinSoftwareEngineering Expected2025\\n-VidyalankarInstituteOfTechnology,MumbaiUniversity Mumbai,IndiaBachelorsOfEngineeringinComputerEngineering,C.G.P.A: 8.41/10 July2016-July2020\\nSKILLS● TechnicalSkills:HTML,CSS,JavaScript,ReactJS,TypeScript,SQL,Python,C,C++,Java,Dart,GoogleCloudPlatforms-Firebase(NoSQL)| CloudSpanner(SQL)| BigQuery| CloudFunctions,Git,Flutter,Excel,GoogleOfficeSuite.● Languages:English(Advanced),Hindi(Advanced),Malayalam(Intermediate)\\nWORKEXPERIENCEXeroApps Mumbai,India(Remote)SoftwareDevelopmentEngineer Dec2022-July2023● DevelopedmobileandwebapplicationsusingFlutterandGCPaimedtobetheall-in-oneinventorymanagementandbillingapphavingthelargestFMCGdatabasewithover2million+productsusedby1000+retailshopsacrossIndiatherebyincreasingtheirproductivityandrevenue.● Designedasystemthatallowedretailshopstobuycustomdomainsandhosttheirshop’swebsiteonourserversbyleveragingGCPfeatureslikeVMInstances,LoadBalancerstherebyhelpingthemattainanonlinepresenceandhenceincreasingtheirsales.● ImplementedandmaintainedAPI’sinPythonandTypeScripttosatisfyclientandproductrequirementsanddeployedthemasGoogleCloudFunctions.● Streamlinedtheusersubscriptionpaymentflowtoallowuserstoaccessthepremiumfeaturesoftheapptherebyincreasingourmonthlyandyearlypaidsubscribers.\\n-Cerebranium Berlin,Germany(Remote)SoftwareDevelopmentEngineer-2 Jul2020-July2022● Builtscalablecross-platformmobileapplicationsinFlutterforoured-techproductsthatareavailableontheappstoreandplaystorethatareusedby1000+usersandwasresponsiblefordeployingtheappsandsettingupdailybuildsforinternaltesting.● Ledandmanageda teamoffivemembersfromdiversebackgroundsensuringacollaborativeenvironmentandmakingsureallthefeaturesweredevelopedanddeployedaccordingtothegiventimelinewiththeaimofgainingmoretractionandincreasingouruserbase.● SuperviseddatabasemigrationfromaNoSQL(Firebase)databasetoarelationaldatabase(CloudSpanner)duetocertaindrawbackswithcountingoperationsintheformerthusintheendresultinginfasterqueryoutput.● AnalyzedthecollecteddatausingBigQueryforcalculatingindividualstudentperformance,courseperformanceandcostestimationforoured-techapplicationswhichhelpedtoprovideinsightsonthestudentjourneyandreducecostby40%.● DevelopedmultipleAPI’sforthemobileapplicationsintypescriptinaNodeJSenvironmentfollowingCleanArchitectureprinciples● Automatedonboardinganddatauploadworkflowsfor1000’sofusersforourappsusingpythonscriptstoacceleratemanualoperations.● Collaboratedwithteammemberstodevelopacomputervisionvideoproctoringsystemthatcouldprocessupto8000assessmentvideosperdayforourexamconductioned-techapplication.\\n-GodrejInfoTechLimited Mumbai,IndiaJavaSoftwareDeveloperIntern June2019-July2019● ProgrammedwebapplicationsusingSpringMVCJavaFrameworkandwroteunitteststoachieve60%testcoverage.\\nPROJECTSKiranaFast(kiranafast.com)| EaseMyStore(easemystore.com) Mumbai,India(Remote)SoftwareDeveloper Dec2022-July2023'),\n",
              " Document(metadata={'producer': 'Skia/PDF m119 Google Docs Renderer', 'creator': 'PyPDF', 'creationdate': '', 'title': 'Resume - Tarang Nair', 'source': 'pdfs/tarangResume.pdf', 'total_pages': 2, 'page': 1, 'page_label': '2'}, page_content='● Createdafeaturetobulkuploadstockinventory,shopcustomersandsuppliersfortheinventorymanagementandbillingappusingExcel,CSVandAPIsdeployedasserverlesscloudfunctions.● Updatedthecodebasetodevelopamultiorganizationsupportthatenabledretailshopstocreatemultipleaccountsfortheirbranchestherebyenablingthemtomanagetheirinventoryefficiently.● Designed,documentedanddeployedmultipleotherfeatureslikestaffmanagementtoenablestaffmemberstoaccesstheorganizationsbasedontheirrole,batchmanagementsupport,onlineshopwithintimeconstraintstoensuresteadycustomergrowthforourapp.\\nMyracle.io(myracle.io) Berlin,Germany(Remote)TeamLead Dec2021-July2022● EngagedwithvarioussubjectmatterexpertsandprofessorstodevelopXRLearningscienceexperiencesusingUnity3Dwhicharecurrentlyinuseby100+schoolsacrossIndiainordertohelpstudentsachievehighquality,measurablelearningoutcomes.● Designedthebasearchitecturefortheapplicationbasedonapublisher-subscriberdesignpatternwhichfacilitatedtheeasydevelopmentofgamescenesforscienceexperiments.\\n-Promexa| PromexaInstitution(cerebranium.com) Berlin,Germany(Remote)TeamLead July2020-Dec2021● Implementedaprocessintheexamconductioned-techapptosimultaneouslycaptureandcompressastudent’svideofortheentiredurationoftheexamwhiletheappisofflineandlateruploadthecompressedvideowhenconnectivityisresumed.● DevelopedCI/CDpipelinesforthegooglecloudfunctionsandmobileapplications(iOSandandroid)usingGithubActions● MonitorederroroccurrencesintheapplicationsusingSentrytherebyincreasingitsstabilityto95%.● SetupSengridandutilizeditsAPI’sforemailmarketingandemailnotifications.● Designedanddevelopedcodeflowsforuserauthentication,instituteregistrationandplansubscription,timedsubjectiveandobjectiveexamconduction,resultgeneration,questionbankmanagement,examscheduling,studentmanagement,personalizedstudentandcourseperformanceanalytics.\\n-SnappyFoodMenu Mumbai,IndiaSoftwareDeveloper Mar2020-May2020● Developedanaugmentedreality(AR)mobileapplicationinUnity3Dthataimedtoenhancetheuserexperienceoftherestaurantcustomersastheusercouldvirtuallypreview(translate,scale,rotate)andcustomizethe3Dmodelofthefooditemtosuittheirneedsbeforeorderingit.● Designedfeaturesfordisplayingtheingredientsusedinthespecificfooditem,thepossibilitytoviewvideoslinkedwithaspecificfooditemandsupportforvariouslanguages.\\n-DeveloperPortfolioWebsite(tarangnair.com) Mumbai,IndiaSoftwareDeveloper Mar2020-May2020● DevelopedawebapplicationusingHTML,JavaScript,Bootstrap,ReactJSanditslibrariestodisplaytheindividualsskills,education,projectsandotherinfotorecruiters\\nACTIVITIESSmartIndiaHackathon March2019,Chennai● Representedourcollegeina36hournationallevelhackathonconductedatSathyabamaUniversity,Chennaiwhereourteamcameupwithasolutiontotheassignedproblemstatement.\\nSabooSiddikCollegeHackathon, March2020,Mumbai● DevelopedanemailclassifierusingMLalgorithmsina24hourstatelevelhackathonwhichwasrecognizedamongthetop10projects.')]"
            ]
          },
          "metadata": {},
          "execution_count": 6
        }
      ]
    },
    {
      "cell_type": "code",
      "source": [
        "# Split the extracted data into chunks\n",
        "text_splitter = RecursiveCharacterTextSplitter(chunk_size=500, chunk_overlap=20)\n",
        "text_chunks = text_splitter.split_documents(data)\n",
        "text_chunks"
      ],
      "metadata": {
        "colab": {
          "base_uri": "https://localhost:8080/"
        },
        "id": "qShwXfdu1igG",
        "outputId": "369926ec-9324-48e8-a521-71316fffa7d2"
      },
      "execution_count": 7,
      "outputs": [
        {
          "output_type": "execute_result",
          "data": {
            "text/plain": [
              "[Document(metadata={'producer': 'Skia/PDF m119 Google Docs Renderer', 'creator': 'PyPDF', 'creationdate': '', 'title': 'Resume - Tarang Nair', 'source': 'pdfs/tarangResume.pdf', 'total_pages': 2, 'page': 0, 'page_label': '1'}, page_content='TARANGNAIRArlington,Virginia| +1571-385-5625| tarangnair98@gmail.com| linkedin.com/in/tarangnair1998| github.com/tarang1998|tarangnair.com\\nEDUCATION-UniversityOfMaryland,CollegePark Maryland,USMastersOfEngineeringinSoftwareEngineering Expected2025\\n-VidyalankarInstituteOfTechnology,MumbaiUniversity Mumbai,IndiaBachelorsOfEngineeringinComputerEngineering,C.G.P.A: 8.41/10 July2016-July2020'),\n",
              " Document(metadata={'producer': 'Skia/PDF m119 Google Docs Renderer', 'creator': 'PyPDF', 'creationdate': '', 'title': 'Resume - Tarang Nair', 'source': 'pdfs/tarangResume.pdf', 'total_pages': 2, 'page': 0, 'page_label': '1'}, page_content='SKILLS● TechnicalSkills:HTML,CSS,JavaScript,ReactJS,TypeScript,SQL,Python,C,C++,Java,Dart,GoogleCloudPlatforms-Firebase(NoSQL)| CloudSpanner(SQL)| BigQuery| CloudFunctions,Git,Flutter,Excel,GoogleOfficeSuite.● Languages:English(Advanced),Hindi(Advanced),Malayalam(Intermediate)'),\n",
              " Document(metadata={'producer': 'Skia/PDF m119 Google Docs Renderer', 'creator': 'PyPDF', 'creationdate': '', 'title': 'Resume - Tarang Nair', 'source': 'pdfs/tarangResume.pdf', 'total_pages': 2, 'page': 0, 'page_label': '1'}, page_content='WORKEXPERIENCEXeroApps Mumbai,India(Remote)SoftwareDevelopmentEngineer Dec2022-July2023● DevelopedmobileandwebapplicationsusingFlutterandGCPaimedtobetheall-in-oneinventorymanagementandbillingapphavingthelargestFMCGdatabasewithover2million+productsusedby1000+retailshopsacrossIndiatherebyincreasingtheirproductivityandrevenue.●'),\n",
              " Document(metadata={'producer': 'Skia/PDF m119 Google Docs Renderer', 'creator': 'PyPDF', 'creationdate': '', 'title': 'Resume - Tarang Nair', 'source': 'pdfs/tarangResume.pdf', 'total_pages': 2, 'page': 0, 'page_label': '1'}, page_content='Designedasystemthatallowedretailshopstobuycustomdomainsandhosttheirshop’swebsiteonourserversbyleveragingGCPfeatureslikeVMInstances,LoadBalancerstherebyhelpingthemattainanonlinepresenceandhenceincreasingtheirsales.● ImplementedandmaintainedAPI’sinPythonandTypeScripttosatisfyclientandproductrequirementsanddeployedthemasGoogleCloudFunctions.● Streamlinedtheusersubscriptionpaymentflowtoallowuserstoaccessthepremiumfeaturesoftheapptherebyincreasingourmonthlyandyearlypaidsubscribers.'),\n",
              " Document(metadata={'producer': 'Skia/PDF m119 Google Docs Renderer', 'creator': 'PyPDF', 'creationdate': '', 'title': 'Resume - Tarang Nair', 'source': 'pdfs/tarangResume.pdf', 'total_pages': 2, 'page': 0, 'page_label': '1'}, page_content='-Cerebranium Berlin,Germany(Remote)SoftwareDevelopmentEngineer-2 Jul2020-July2022● Builtscalablecross-platformmobileapplicationsinFlutterforoured-techproductsthatareavailableontheappstoreandplaystorethatareusedby1000+usersandwasresponsiblefordeployingtheappsandsettingupdailybuildsforinternaltesting.● Ledandmanageda'),\n",
              " Document(metadata={'producer': 'Skia/PDF m119 Google Docs Renderer', 'creator': 'PyPDF', 'creationdate': '', 'title': 'Resume - Tarang Nair', 'source': 'pdfs/tarangResume.pdf', 'total_pages': 2, 'page': 0, 'page_label': '1'}, page_content='Ledandmanageda teamoffivemembersfromdiversebackgroundsensuringacollaborativeenvironmentandmakingsureallthefeaturesweredevelopedanddeployedaccordingtothegiventimelinewiththeaimofgainingmoretractionandincreasingouruserbase.● SuperviseddatabasemigrationfromaNoSQL(Firebase)databasetoarelationaldatabase(CloudSpanner)duetocertaindrawbackswithcountingoperationsintheformerthusintheendresultinginfasterqueryoutput.●'),\n",
              " Document(metadata={'producer': 'Skia/PDF m119 Google Docs Renderer', 'creator': 'PyPDF', 'creationdate': '', 'title': 'Resume - Tarang Nair', 'source': 'pdfs/tarangResume.pdf', 'total_pages': 2, 'page': 0, 'page_label': '1'}, page_content='AnalyzedthecollecteddatausingBigQueryforcalculatingindividualstudentperformance,courseperformanceandcostestimationforoured-techapplicationswhichhelpedtoprovideinsightsonthestudentjourneyandreducecostby40%.● DevelopedmultipleAPI’sforthemobileapplicationsintypescriptinaNodeJSenvironmentfollowingCleanArchitectureprinciples● Automatedonboardinganddatauploadworkflowsfor1000’sofusersforourappsusingpythonscriptstoacceleratemanualoperations.●'),\n",
              " Document(metadata={'producer': 'Skia/PDF m119 Google Docs Renderer', 'creator': 'PyPDF', 'creationdate': '', 'title': 'Resume - Tarang Nair', 'source': 'pdfs/tarangResume.pdf', 'total_pages': 2, 'page': 0, 'page_label': '1'}, page_content='Collaboratedwithteammemberstodevelopacomputervisionvideoproctoringsystemthatcouldprocessupto8000assessmentvideosperdayforourexamconductioned-techapplication.'),\n",
              " Document(metadata={'producer': 'Skia/PDF m119 Google Docs Renderer', 'creator': 'PyPDF', 'creationdate': '', 'title': 'Resume - Tarang Nair', 'source': 'pdfs/tarangResume.pdf', 'total_pages': 2, 'page': 0, 'page_label': '1'}, page_content='-GodrejInfoTechLimited Mumbai,IndiaJavaSoftwareDeveloperIntern June2019-July2019● ProgrammedwebapplicationsusingSpringMVCJavaFrameworkandwroteunitteststoachieve60%testcoverage.\\nPROJECTSKiranaFast(kiranafast.com)| EaseMyStore(easemystore.com) Mumbai,India(Remote)SoftwareDeveloper Dec2022-July2023'),\n",
              " Document(metadata={'producer': 'Skia/PDF m119 Google Docs Renderer', 'creator': 'PyPDF', 'creationdate': '', 'title': 'Resume - Tarang Nair', 'source': 'pdfs/tarangResume.pdf', 'total_pages': 2, 'page': 1, 'page_label': '2'}, page_content='● Createdafeaturetobulkuploadstockinventory,shopcustomersandsuppliersfortheinventorymanagementandbillingappusingExcel,CSVandAPIsdeployedasserverlesscloudfunctions.● Updatedthecodebasetodevelopamultiorganizationsupportthatenabledretailshopstocreatemultipleaccountsfortheirbranchestherebyenablingthemtomanagetheirinventoryefficiently.●'),\n",
              " Document(metadata={'producer': 'Skia/PDF m119 Google Docs Renderer', 'creator': 'PyPDF', 'creationdate': '', 'title': 'Resume - Tarang Nair', 'source': 'pdfs/tarangResume.pdf', 'total_pages': 2, 'page': 1, 'page_label': '2'}, page_content='Designed,documentedanddeployedmultipleotherfeatureslikestaffmanagementtoenablestaffmemberstoaccesstheorganizationsbasedontheirrole,batchmanagementsupport,onlineshopwithintimeconstraintstoensuresteadycustomergrowthforourapp.'),\n",
              " Document(metadata={'producer': 'Skia/PDF m119 Google Docs Renderer', 'creator': 'PyPDF', 'creationdate': '', 'title': 'Resume - Tarang Nair', 'source': 'pdfs/tarangResume.pdf', 'total_pages': 2, 'page': 1, 'page_label': '2'}, page_content='Myracle.io(myracle.io) Berlin,Germany(Remote)TeamLead Dec2021-July2022● EngagedwithvarioussubjectmatterexpertsandprofessorstodevelopXRLearningscienceexperiencesusingUnity3Dwhicharecurrentlyinuseby100+schoolsacrossIndiainordertohelpstudentsachievehighquality,measurablelearningoutcomes.● Designedthebasearchitecturefortheapplicationbasedonapublisher-subscriberdesignpatternwhichfacilitatedtheeasydevelopmentofgamescenesforscienceexperiments.'),\n",
              " Document(metadata={'producer': 'Skia/PDF m119 Google Docs Renderer', 'creator': 'PyPDF', 'creationdate': '', 'title': 'Resume - Tarang Nair', 'source': 'pdfs/tarangResume.pdf', 'total_pages': 2, 'page': 1, 'page_label': '2'}, page_content='-Promexa| PromexaInstitution(cerebranium.com) Berlin,Germany(Remote)TeamLead July2020-Dec2021● Implementedaprocessintheexamconductioned-techapptosimultaneouslycaptureandcompressastudent’svideofortheentiredurationoftheexamwhiletheappisofflineandlateruploadthecompressedvideowhenconnectivityisresumed.● DevelopedCI/CDpipelinesforthegooglecloudfunctionsandmobileapplications(iOSandandroid)usingGithubActions● MonitorederroroccurrencesintheapplicationsusingSentrytherebyincreasingitsstabilityto95%.●'),\n",
              " Document(metadata={'producer': 'Skia/PDF m119 Google Docs Renderer', 'creator': 'PyPDF', 'creationdate': '', 'title': 'Resume - Tarang Nair', 'source': 'pdfs/tarangResume.pdf', 'total_pages': 2, 'page': 1, 'page_label': '2'}, page_content='SetupSengridandutilizeditsAPI’sforemailmarketingandemailnotifications.● Designedanddevelopedcodeflowsforuserauthentication,instituteregistrationandplansubscription,timedsubjectiveandobjectiveexamconduction,resultgeneration,questionbankmanagement,examscheduling,studentmanagement,personalizedstudentandcourseperformanceanalytics.'),\n",
              " Document(metadata={'producer': 'Skia/PDF m119 Google Docs Renderer', 'creator': 'PyPDF', 'creationdate': '', 'title': 'Resume - Tarang Nair', 'source': 'pdfs/tarangResume.pdf', 'total_pages': 2, 'page': 1, 'page_label': '2'}, page_content='-SnappyFoodMenu Mumbai,IndiaSoftwareDeveloper Mar2020-May2020● Developedanaugmentedreality(AR)mobileapplicationinUnity3Dthataimedtoenhancetheuserexperienceoftherestaurantcustomersastheusercouldvirtuallypreview(translate,scale,rotate)andcustomizethe3Dmodelofthefooditemtosuittheirneedsbeforeorderingit.● Designedfeaturesfordisplayingtheingredientsusedinthespecificfooditem,thepossibilitytoviewvideoslinkedwithaspecificfooditemandsupportforvariouslanguages.'),\n",
              " Document(metadata={'producer': 'Skia/PDF m119 Google Docs Renderer', 'creator': 'PyPDF', 'creationdate': '', 'title': 'Resume - Tarang Nair', 'source': 'pdfs/tarangResume.pdf', 'total_pages': 2, 'page': 1, 'page_label': '2'}, page_content='-DeveloperPortfolioWebsite(tarangnair.com) Mumbai,IndiaSoftwareDeveloper Mar2020-May2020● DevelopedawebapplicationusingHTML,JavaScript,Bootstrap,ReactJSanditslibrariestodisplaytheindividualsskills,education,projectsandotherinfotorecruiters\\nACTIVITIESSmartIndiaHackathon March2019,Chennai● Representedourcollegeina36hournationallevelhackathonconductedatSathyabamaUniversity,Chennaiwhereourteamcameupwithasolutiontotheassignedproblemstatement.'),\n",
              " Document(metadata={'producer': 'Skia/PDF m119 Google Docs Renderer', 'creator': 'PyPDF', 'creationdate': '', 'title': 'Resume - Tarang Nair', 'source': 'pdfs/tarangResume.pdf', 'total_pages': 2, 'page': 1, 'page_label': '2'}, page_content='SabooSiddikCollegeHackathon, March2020,Mumbai● DevelopedanemailclassifierusingMLalgorithmsina24hourstatelevelhackathonwhichwasrecognizedamongthetop10projects.')]"
            ]
          },
          "metadata": {},
          "execution_count": 7
        }
      ]
    },
    {
      "cell_type": "code",
      "source": [
        "# Download the openAI Embeddings\n",
        "import os\n",
        "import openai\n",
        "import getpass\n",
        "\n",
        "openai.api_key = getpass.getpass(prompt='Enter OpenAI API key:')\n",
        "os.environ['OPENAI_API_KEY'] = openai.api_key"
      ],
      "metadata": {
        "colab": {
          "base_uri": "https://localhost:8080/"
        },
        "id": "gxxDCpDxjw4v",
        "outputId": "539af3ae-4240-4b52-b07c-4fae43285820"
      },
      "execution_count": 8,
      "outputs": [
        {
          "name": "stdout",
          "output_type": "stream",
          "text": [
            "Enter OpenAI API key:··········\n"
          ]
        }
      ]
    },
    {
      "cell_type": "code",
      "source": [
        "embeddings = OpenAIEmbeddings()\n",
        "result = embeddings.embed_query(\"My name is Tarang\")\n",
        "len(result) # The length of the embeddings would be same for any sentence"
      ],
      "metadata": {
        "colab": {
          "base_uri": "https://localhost:8080/"
        },
        "id": "13XV06PXkQWl",
        "outputId": "2763b9ba-fec6-40c7-99e3-5ab5d1e434f6"
      },
      "execution_count": 10,
      "outputs": [
        {
          "output_type": "execute_result",
          "data": {
            "text/plain": [
              "1536"
            ]
          },
          "metadata": {},
          "execution_count": 10
        }
      ]
    },
    {
      "cell_type": "code",
      "source": [
        "# Initializing PineCone\n",
        "os.environ['PINECONE_API_KEY'] = getpass.getpass(prompt='Enter Pinecone API key:')\n",
        "PINECONE_API_KEY = os.environ.get('PINECONE_API_KEY')\n"
      ],
      "metadata": {
        "colab": {
          "base_uri": "https://localhost:8080/"
        },
        "id": "GUPkhB24kb1E",
        "outputId": "5051ac30-f6bd-4423-92c4-3ee68df6fd9a"
      },
      "execution_count": 11,
      "outputs": [
        {
          "name": "stdout",
          "output_type": "stream",
          "text": [
            "Enter Pinecone API key:··········\n"
          ]
        }
      ]
    },
    {
      "cell_type": "code",
      "source": [
        "from pinecone import Pinecone, ServerlessSpec\n",
        "\n",
        "pc = Pinecone(\n",
        "        api_key=os.environ.get(\"PINECONE_API_KEY\")\n",
        "    )\n",
        "index_name = \"test\" # put in the name of your pinecone index here\n"
      ],
      "metadata": {
        "id": "JHkJRp48lEhL"
      },
      "execution_count": 13,
      "outputs": []
    },
    {
      "cell_type": "code",
      "source": [
        "from langchain_community.vectorstores import Pinecone\n"
      ],
      "metadata": {
        "id": "cUHTA8Z1n_uJ"
      },
      "execution_count": 20,
      "outputs": []
    },
    {
      "cell_type": "code",
      "source": [
        "# Create embeddings from the chunks\n",
        "docsearch = Pinecone.from_texts([t.page_content for t in text_chunks], embeddings, index_name=index_name)"
      ],
      "metadata": {
        "id": "UBhtdwvVmY8J"
      },
      "execution_count": 21,
      "outputs": []
    },
    {
      "cell_type": "code",
      "source": [
        "# Loading the created index from pinecone with all the records\n",
        "docsearch = Pinecone.from_existing_index(index_name, embeddings)\n",
        "docsearch"
      ],
      "metadata": {
        "colab": {
          "base_uri": "https://localhost:8080/"
        },
        "id": "uh9P3OcYpxPE",
        "outputId": "14983d02-1a9f-4b0c-e3d8-7b5939c8ecdd"
      },
      "execution_count": 24,
      "outputs": [
        {
          "output_type": "execute_result",
          "data": {
            "text/plain": [
              "<langchain_community.vectorstores.pinecone.Pinecone at 0x7e5685794c50>"
            ]
          },
          "metadata": {},
          "execution_count": 24
        }
      ]
    },
    {
      "cell_type": "code",
      "source": [
        "# Similarity Search\n",
        "query = \"Is Tarang Nair a good engineer\""
      ],
      "metadata": {
        "id": "EQWNP6acn-1E"
      },
      "execution_count": 26,
      "outputs": []
    },
    {
      "cell_type": "code",
      "source": [
        "docs = docsearch.similarity_search(query, k=3)\n",
        "docs"
      ],
      "metadata": {
        "colab": {
          "base_uri": "https://localhost:8080/"
        },
        "id": "Im1l4EQ3ogim",
        "outputId": "d368774a-7cd1-4b84-dab2-d2f1aee3d774"
      },
      "execution_count": 27,
      "outputs": [
        {
          "output_type": "execute_result",
          "data": {
            "text/plain": [
              "[Document(metadata={}, page_content='TARANGNAIRArlington,Virginia| +1571-385-5625| tarangnair98@gmail.com| linkedin.com/in/tarangnair1998| github.com/tarang1998|tarangnair.com\\nEDUCATION-UniversityOfMaryland,CollegePark Maryland,USMastersOfEngineeringinSoftwareEngineering Expected2025\\n-VidyalankarInstituteOfTechnology,MumbaiUniversity Mumbai,IndiaBachelorsOfEngineeringinComputerEngineering,C.G.P.A: 8.41/10 July2016-July2020'),\n",
              " Document(metadata={}, page_content='-DeveloperPortfolioWebsite(tarangnair.com) Mumbai,IndiaSoftwareDeveloper Mar2020-May2020● DevelopedawebapplicationusingHTML,JavaScript,Bootstrap,ReactJSanditslibrariestodisplaytheindividualsskills,education,projectsandotherinfotorecruiters\\nACTIVITIESSmartIndiaHackathon March2019,Chennai● Representedourcollegeina36hournationallevelhackathonconductedatSathyabamaUniversity,Chennaiwhereourteamcameupwithasolutiontotheassignedproblemstatement.'),\n",
              " Document(metadata={}, page_content='SKILLS● TechnicalSkills:HTML,CSS,JavaScript,ReactJS,TypeScript,SQL,Python,C,C++,Java,Dart,GoogleCloudPlatforms-Firebase(NoSQL)| CloudSpanner(SQL)| BigQuery| CloudFunctions,Git,Flutter,Excel,GoogleOfficeSuite.● Languages:English(Advanced),Hindi(Advanced),Malayalam(Intermediate)')]"
            ]
          },
          "metadata": {},
          "execution_count": 27
        }
      ]
    },
    {
      "cell_type": "code",
      "source": [
        "# Create a LLM Model Wrapper\n",
        "llm = OpenAI()\n",
        "qa = RetrievalQA.from_chain_type(llm=llm, chain_type=\"stuff\", retriever=docsearch.as_retriever())\n"
      ],
      "metadata": {
        "colab": {
          "base_uri": "https://localhost:8080/"
        },
        "id": "Oua_6yh7qOgR",
        "outputId": "eaf03561-409e-4a18-c9ea-7c7c5052a69d"
      },
      "execution_count": 28,
      "outputs": [
        {
          "output_type": "stream",
          "name": "stderr",
          "text": [
            "<ipython-input-28-27f9c32cae7a>:2: LangChainDeprecationWarning: The class `OpenAI` was deprecated in LangChain 0.0.10 and will be removed in 1.0. An updated version of the class exists in the :class:`~langchain-openai package and should be used instead. To use it run `pip install -U :class:`~langchain-openai` and import as `from :class:`~langchain_openai import OpenAI``.\n",
            "  llm = OpenAI()\n"
          ]
        }
      ]
    },
    {
      "cell_type": "code",
      "source": [
        "qa.run(query)"
      ],
      "metadata": {
        "colab": {
          "base_uri": "https://localhost:8080/",
          "height": 125
        },
        "id": "j3xrZFwrqVLx",
        "outputId": "44fa3cc7-429d-4751-deb2-d07264b79b5b"
      },
      "execution_count": 29,
      "outputs": [
        {
          "output_type": "stream",
          "name": "stderr",
          "text": [
            "<ipython-input-29-fbc3ad05536a>:1: LangChainDeprecationWarning: The method `Chain.run` was deprecated in langchain 0.1.0 and will be removed in 1.0. Use :meth:`~invoke` instead.\n",
            "  qa.run(query)\n"
          ]
        },
        {
          "output_type": "execute_result",
          "data": {
            "text/plain": [
              "' Based on the information provided, it appears that Tarang Nair has a strong educational background in software engineering and has gained experience in various technical skills through internships and personal projects. However, without further information or evidence, it is not possible to determine if Tarang Nair is a good engineer. '"
            ],
            "application/vnd.google.colaboratory.intrinsic+json": {
              "type": "string"
            }
          },
          "metadata": {},
          "execution_count": 29
        }
      ]
    },
    {
      "cell_type": "code",
      "source": [
        "query = \"Tell me about Tarang Nair's experience\"\n",
        "qa.run(query)"
      ],
      "metadata": {
        "colab": {
          "base_uri": "https://localhost:8080/",
          "height": 140
        },
        "id": "YeiFRoxqqaJZ",
        "outputId": "6253d039-0b2f-44ca-b50b-1949fc18c2aa"
      },
      "execution_count": 30,
      "outputs": [
        {
          "output_type": "execute_result",
          "data": {
            "text/plain": [
              "'\\nBased on the context provided, Tarang Nair appears to be a software developer from Mumbai, India. He has experience in developing web applications using various technologies such as HTML, JavaScript, Bootstrap, and ReactJS. He has also participated in a national level hackathon and represented his college. Tarang has a Masters of Engineering in Software Engineering from the University of Maryland and a Bachelors of Engineering in Computer Engineering from Vidyalankar Institute of Technology. He has also worked as a Java Software Developer intern at Godrej InfoTech Limited and has experience in programming web applications using Spring MVC Java Framework. Additionally, Tarang has worked on projects such as KiranaFast and EaseMyStore as a software developer and has also developed an augmented reality mobile application called SnappyFoodMenu. He has expertise in Unity3D and has designed features to enhance the user experience for restaurant customers. '"
            ],
            "application/vnd.google.colaboratory.intrinsic+json": {
              "type": "string"
            }
          },
          "metadata": {},
          "execution_count": 30
        }
      ]
    },
    {
      "cell_type": "code",
      "source": [
        "import sys"
      ],
      "metadata": {
        "id": "tUa2zj8KqqSx"
      },
      "execution_count": 31,
      "outputs": []
    },
    {
      "cell_type": "code",
      "source": [
        "while True:\n",
        "  user_input = input(f\"Input Prompt: \")\n",
        "  if user_input == 'exit':\n",
        "    print('Exiting')\n",
        "    sys.exit()\n",
        "  if user_input == '':\n",
        "    continue\n",
        "  result = qa({'query': user_input})\n",
        "  print(f\"Answer: {result['result']}\")"
      ],
      "metadata": {
        "colab": {
          "base_uri": "https://localhost:8080/",
          "height": 283
        },
        "id": "QrHkn-lpqrRy",
        "outputId": "aaa06366-bf96-4759-a9ed-7e0ec6977dac"
      },
      "execution_count": 32,
      "outputs": [
        {
          "name": "stdout",
          "output_type": "stream",
          "text": [
            "Input Prompt: Does Tarang know ML ? \n"
          ]
        },
        {
          "output_type": "stream",
          "name": "stderr",
          "text": [
            "<ipython-input-32-c213a85929f6>:8: LangChainDeprecationWarning: The method `Chain.__call__` was deprecated in langchain 0.1.0 and will be removed in 1.0. Use :meth:`~invoke` instead.\n",
            "  result = qa({'query': user_input})\n"
          ]
        },
        {
          "output_type": "stream",
          "name": "stdout",
          "text": [
            "Answer:  Yes, based on the context provided, Tarang has experience with ML as he developed an email classifier using ML algorithms in a hackathon and also worked on programming web applications using the Spring MVC Java framework.\n",
            "Input Prompt: Based on this resume, would he be employable ?\n",
            "Answer: Yes, it appears that the individual has a strong technical background and has experience working on various projects and internships. They also have experience with popular software and tools, which could make them a valuable asset to potential employers. However, their work experience and project experience may vary and ultimately, it would depend on the employer's specific requirements and preferences.\n",
            "Input Prompt: exit\n",
            "Exiting\n"
          ]
        },
        {
          "output_type": "error",
          "ename": "SystemExit",
          "evalue": "",
          "traceback": [
            "An exception has occurred, use %tb to see the full traceback.\n",
            "\u001b[0;31mSystemExit\u001b[0m\n"
          ]
        },
        {
          "output_type": "stream",
          "name": "stderr",
          "text": [
            "/usr/local/lib/python3.11/dist-packages/IPython/core/interactiveshell.py:3561: UserWarning: To exit: use 'exit', 'quit', or Ctrl-D.\n",
            "  warn(\"To exit: use 'exit', 'quit', or Ctrl-D.\", stacklevel=1)\n"
          ]
        }
      ]
    }
  ]
}